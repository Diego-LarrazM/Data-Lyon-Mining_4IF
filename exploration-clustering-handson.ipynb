{
 "cells": [
  {
   "attachments": {},
   "cell_type": "markdown",
   "metadata": {},
   "source": [
    "# <center>Data Mining project: Discover and describe areas of interest<br> and events from geo-located data</center>"
   ]
  },
  {
   "attachments": {},
   "cell_type": "markdown",
   "metadata": {},
   "source": [
    "## #1: Import Dataset and Libraries"
   ]
  },
  {
   "attachments": {},
   "cell_type": "markdown",
   "metadata": {},
   "source": [
    "## Environment"
   ]
  },
  {
   "cell_type": "code",
   "execution_count": 3,
   "metadata": {},
   "outputs": [
    {
     "name": "stderr",
     "output_type": "stream",
     "text": [
      "Actual environment location may have moved due to redirects, links or junctions.\n",
      "  Requested location: \"h:\\IF4\\fouilleD\\projet\\dataMiningEnv\\Scripts\\python.exe\"\n",
      "  Actual location:    \"\\\\ps-home.insa-lyon.fr\\users\\home\\dlarrazmar\\IF4\\fouilleD\\projet\\dataMiningEnv\\Scripts\\python.exe\"\n",
      "Error: [Errno 13] Permission denied: 'h:\\\\IF4\\\\fouilleD\\\\projet\\\\dataMiningEnv\\\\Scripts\\\\python.exe'\n"
     ]
    }
   ],
   "source": [
    "! python -m venv dataMiningEnv\n",
    "#Activate windows\n",
    "! dataMiningEnv\\Scripts\\activate.bat\n"
   ]
  },
  {
   "attachments": {},
   "cell_type": "markdown",
   "metadata": {},
   "source": [
    "## Libraries"
   ]
  },
  {
   "attachments": {},
   "cell_type": "markdown",
   "metadata": {},
   "source": [
    "- ### Installs"
   ]
  },
  {
   "cell_type": "code",
   "execution_count": 1,
   "metadata": {},
   "outputs": [
    {
     "name": "stdout",
     "output_type": "stream",
     "text": [
      "Requirement already satisfied: numpy==1.26.0 in \\\\ps-home.insa-lyon.fr\\users\\home\\dlarrazmar\\if4\\fouilled\\projet\\dataminingenv\\lib\\site-packages (1.26.0)\n"
     ]
    },
    {
     "name": "stderr",
     "output_type": "stream",
     "text": [
      "WARNING: You are using pip version 21.2.4; however, version 24.3.1 is available.\n",
      "You should consider upgrading via the '\\\\ps-home.insa-lyon.fr\\users\\home\\dlarrazmar\\IF4\\fouilleD\\projet\\dataMiningEnv\\Scripts\\python.exe -m pip install --upgrade pip' command.\n"
     ]
    },
    {
     "name": "stdout",
     "output_type": "stream",
     "text": [
      "Collecting pandas==2.1.1\n",
      "  Using cached pandas-2.1.1-cp39-cp39-win_amd64.whl (10.8 MB)\n",
      "Requirement already satisfied: tzdata>=2022.1 in \\\\ps-home.insa-lyon.fr\\users\\home\\dlarrazmar\\if4\\fouilled\\projet\\dataminingenv\\lib\\site-packages (from pandas==2.1.1) (2024.2)\n",
      "Requirement already satisfied: numpy>=1.22.4 in \\\\ps-home.insa-lyon.fr\\users\\home\\dlarrazmar\\if4\\fouilled\\projet\\dataminingenv\\lib\\site-packages (from pandas==2.1.1) (1.26.0)\n",
      "Requirement already satisfied: pytz>=2020.1 in \\\\ps-home.insa-lyon.fr\\users\\home\\dlarrazmar\\if4\\fouilled\\projet\\dataminingenv\\lib\\site-packages (from pandas==2.1.1) (2024.2)\n",
      "Requirement already satisfied: python-dateutil>=2.8.2 in \\\\ps-home.insa-lyon.fr\\users\\home\\dlarrazmar\\if4\\fouilled\\projet\\dataminingenv\\lib\\site-packages (from pandas==2.1.1) (2.9.0.post0)\n",
      "Requirement already satisfied: six>=1.5 in \\\\ps-home.insa-lyon.fr\\users\\home\\dlarrazmar\\if4\\fouilled\\projet\\dataminingenv\\lib\\site-packages (from python-dateutil>=2.8.2->pandas==2.1.1) (1.17.0)\n",
      "Installing collected packages: pandas\n",
      "Successfully installed pandas-2.1.1\n"
     ]
    },
    {
     "name": "stderr",
     "output_type": "stream",
     "text": [
      "WARNING: You are using pip version 21.2.4; however, version 24.3.1 is available.\n",
      "You should consider upgrading via the '\\\\ps-home.insa-lyon.fr\\users\\home\\dlarrazmar\\IF4\\fouilleD\\projet\\dataMiningEnv\\Scripts\\python.exe -m pip install --upgrade pip' command.\n"
     ]
    },
    {
     "name": "stdout",
     "output_type": "stream",
     "text": [
      "Collecting scikit-learn==1.5.1\n",
      "  Downloading scikit_learn-1.5.1-cp39-cp39-win_amd64.whl (11.0 MB)\n",
      "Collecting joblib>=1.2.0\n",
      "  Downloading joblib-1.4.2-py3-none-any.whl (301 kB)\n",
      "Collecting scipy>=1.6.0\n",
      "  Downloading scipy-1.13.1-cp39-cp39-win_amd64.whl (46.2 MB)\n",
      "Collecting threadpoolctl>=3.1.0\n",
      "  Downloading threadpoolctl-3.5.0-py3-none-any.whl (18 kB)\n",
      "Requirement already satisfied: numpy>=1.19.5 in \\\\ps-home.insa-lyon.fr\\users\\home\\dlarrazmar\\if4\\fouilled\\projet\\dataminingenv\\lib\\site-packages (from scikit-learn==1.5.1) (1.26.0)\n",
      "Installing collected packages: threadpoolctl, scipy, joblib, scikit-learn\n",
      "Successfully installed joblib-1.4.2 scikit-learn-1.5.1 scipy-1.13.1 threadpoolctl-3.5.0\n"
     ]
    },
    {
     "name": "stderr",
     "output_type": "stream",
     "text": [
      "WARNING: You are using pip version 21.2.4; however, version 24.3.1 is available.\n",
      "You should consider upgrading via the '\\\\ps-home.insa-lyon.fr\\users\\home\\dlarrazmar\\IF4\\fouilleD\\projet\\dataMiningEnv\\Scripts\\python.exe -m pip install --upgrade pip' command.\n"
     ]
    },
    {
     "name": "stdout",
     "output_type": "stream",
     "text": [
      "Collecting scipy==1.12.0\n",
      "  Downloading scipy-1.12.0-cp39-cp39-win_amd64.whl (46.2 MB)\n",
      "Requirement already satisfied: numpy<1.29.0,>=1.22.4 in \\\\ps-home.insa-lyon.fr\\users\\home\\dlarrazmar\\if4\\fouilled\\projet\\dataminingenv\\lib\\site-packages (from scipy==1.12.0) (1.26.0)\n",
      "Installing collected packages: scipy\n",
      "  Attempting uninstall: scipy\n",
      "    Found existing installation: scipy 1.13.1\n",
      "    Uninstalling scipy-1.13.1:\n",
      "      Successfully uninstalled scipy-1.13.1\n",
      "Successfully installed scipy-1.12.0\n"
     ]
    },
    {
     "name": "stderr",
     "output_type": "stream",
     "text": [
      "WARNING: You are using pip version 21.2.4; however, version 24.3.1 is available.\n",
      "You should consider upgrading via the '\\\\ps-home.insa-lyon.fr\\users\\home\\dlarrazmar\\IF4\\fouilleD\\projet\\dataMiningEnv\\Scripts\\python.exe -m pip install --upgrade pip' command.\n"
     ]
    },
    {
     "name": "stdout",
     "output_type": "stream",
     "text": [
      "^C\n",
      "^C\n",
      "Collecting matplotlib==3.8.0\n",
      "  Downloading matplotlib-3.8.0-cp39-cp39-win_amd64.whl (7.6 MB)\n",
      "Collecting contourpy>=1.0.1\n",
      "  Downloading contourpy-1.3.0-cp39-cp39-win_amd64.whl (211 kB)\n",
      "Requirement already satisfied: packaging>=20.0 in \\\\ps-home.insa-lyon.fr\\users\\home\\dlarrazmar\\if4\\fouilled\\projet\\dataminingenv\\lib\\site-packages (from matplotlib==3.8.0) (24.2)\n",
      "Collecting importlib-resources>=3.2.0\n",
      "  Downloading importlib_resources-6.5.2-py3-none-any.whl (37 kB)\n",
      "Collecting fonttools>=4.22.0\n",
      "  Downloading fonttools-4.55.3-cp39-cp39-win_amd64.whl (2.2 MB)\n",
      "Collecting pillow>=6.2.0\n",
      "  Downloading pillow-11.1.0-cp39-cp39-win_amd64.whl (2.6 MB)\n",
      "Requirement already satisfied: numpy<2,>=1.21 in \\\\ps-home.insa-lyon.fr\\users\\home\\dlarrazmar\\if4\\fouilled\\projet\\dataminingenv\\lib\\site-packages (from matplotlib==3.8.0) (1.26.0)\n",
      "Collecting kiwisolver>=1.0.1\n",
      "  Downloading kiwisolver-1.4.7-cp39-cp39-win_amd64.whl (55 kB)\n",
      "Collecting cycler>=0.10\n",
      "  Downloading cycler-0.12.1-py3-none-any.whl (8.3 kB)\n",
      "Collecting pyparsing>=2.3.1\n",
      "  Downloading pyparsing-3.2.1-py3-none-any.whl (107 kB)\n",
      "Requirement already satisfied: python-dateutil>=2.7 in \\\\ps-home.insa-lyon.fr\\users\\home\\dlarrazmar\\if4\\fouilled\\projet\\dataminingenv\\lib\\site-packages (from matplotlib==3.8.0) (2.9.0.post0)\n",
      "Requirement already satisfied: zipp>=3.1.0 in \\\\ps-home.insa-lyon.fr\\users\\home\\dlarrazmar\\if4\\fouilled\\projet\\dataminingenv\\lib\\site-packages (from importlib-resources>=3.2.0->matplotlib==3.8.0) (3.21.0)\n",
      "Requirement already satisfied: six>=1.5 in \\\\ps-home.insa-lyon.fr\\users\\home\\dlarrazmar\\if4\\fouilled\\projet\\dataminingenv\\lib\\site-packages (from python-dateutil>=2.7->matplotlib==3.8.0) (1.17.0)\n",
      "Installing collected packages: pyparsing, pillow, kiwisolver, importlib-resources, fonttools, cycler, contourpy, matplotlib\n",
      "Successfully installed contourpy-1.3.0 cycler-0.12.1 fonttools-4.55.3 importlib-resources-6.5.2 kiwisolver-1.4.7 matplotlib-3.9.4 pillow-11.1.0 pyparsing-3.2.1\n"
     ]
    },
    {
     "name": "stderr",
     "output_type": "stream",
     "text": [
      "WARNING: You are using pip version 21.2.4; however, version 24.3.1 is available.\n",
      "You should consider upgrading via the '\\\\ps-home.insa-lyon.fr\\users\\home\\dlarrazmar\\IF4\\fouilleD\\projet\\dataMiningEnv\\Scripts\\python.exe -m pip install --upgrade pip' command.\n"
     ]
    },
    {
     "name": "stdout",
     "output_type": "stream",
     "text": [
      "Collecting seaborn==0.13.2\n",
      "  Downloading seaborn-0.13.2-py3-none-any.whl (294 kB)\n",
      "Requirement already satisfied: numpy!=1.24.0,>=1.20 in \\\\ps-home.insa-lyon.fr\\users\\home\\dlarrazmar\\if4\\fouilled\\projet\\dataminingenv\\lib\\site-packages (from seaborn==0.13.2) (1.26.0)\n",
      "Requirement already satisfied: pandas>=1.2 in \\\\ps-home.insa-lyon.fr\\users\\home\\dlarrazmar\\if4\\fouilled\\projet\\dataminingenv\\lib\\site-packages (from seaborn==0.13.2) (2.1.1)\n",
      "Collecting matplotlib!=3.6.1,>=3.4\n",
      "  Downloading matplotlib-3.9.4-cp39-cp39-win_amd64.whl (7.8 MB)\n",
      "Requirement already satisfied: cycler>=0.10 in \\\\ps-home.insa-lyon.fr\\users\\home\\dlarrazmar\\if4\\fouilled\\projet\\dataminingenv\\lib\\site-packages (from matplotlib!=3.6.1,>=3.4->seaborn==0.13.2) (0.12.1)\n",
      "Requirement already satisfied: kiwisolver>=1.3.1 in \\\\ps-home.insa-lyon.fr\\users\\home\\dlarrazmar\\if4\\fouilled\\projet\\dataminingenv\\lib\\site-packages (from matplotlib!=3.6.1,>=3.4->seaborn==0.13.2) (1.4.7)\n",
      "Requirement already satisfied: pyparsing>=2.3.1 in \\\\ps-home.insa-lyon.fr\\users\\home\\dlarrazmar\\if4\\fouilled\\projet\\dataminingenv\\lib\\site-packages (from matplotlib!=3.6.1,>=3.4->seaborn==0.13.2) (3.2.1)\n",
      "Requirement already satisfied: fonttools>=4.22.0 in \\\\ps-home.insa-lyon.fr\\users\\home\\dlarrazmar\\if4\\fouilled\\projet\\dataminingenv\\lib\\site-packages (from matplotlib!=3.6.1,>=3.4->seaborn==0.13.2) (4.55.3)\n",
      "Requirement already satisfied: contourpy>=1.0.1 in \\\\ps-home.insa-lyon.fr\\users\\home\\dlarrazmar\\if4\\fouilled\\projet\\dataminingenv\\lib\\site-packages (from matplotlib!=3.6.1,>=3.4->seaborn==0.13.2) (1.3.0)\n",
      "Requirement already satisfied: python-dateutil>=2.7 in \\\\ps-home.insa-lyon.fr\\users\\home\\dlarrazmar\\if4\\fouilled\\projet\\dataminingenv\\lib\\site-packages (from matplotlib!=3.6.1,>=3.4->seaborn==0.13.2) (2.9.0.post0)\n",
      "Requirement already satisfied: packaging>=20.0 in \\\\ps-home.insa-lyon.fr\\users\\home\\dlarrazmar\\if4\\fouilled\\projet\\dataminingenv\\lib\\site-packages (from matplotlib!=3.6.1,>=3.4->seaborn==0.13.2) (24.2)\n",
      "Requirement already satisfied: pillow>=8 in \\\\ps-home.insa-lyon.fr\\users\\home\\dlarrazmar\\if4\\fouilled\\projet\\dataminingenv\\lib\\site-packages (from matplotlib!=3.6.1,>=3.4->seaborn==0.13.2) (11.1.0)\n",
      "Requirement already satisfied: importlib-resources>=3.2.0 in \\\\ps-home.insa-lyon.fr\\users\\home\\dlarrazmar\\if4\\fouilled\\projet\\dataminingenv\\lib\\site-packages (from matplotlib!=3.6.1,>=3.4->seaborn==0.13.2) (6.5.2)\n",
      "Requirement already satisfied: zipp>=3.1.0 in \\\\ps-home.insa-lyon.fr\\users\\home\\dlarrazmar\\if4\\fouilled\\projet\\dataminingenv\\lib\\site-packages (from importlib-resources>=3.2.0->matplotlib!=3.6.1,>=3.4->seaborn==0.13.2) (3.21.0)\n",
      "Requirement already satisfied: tzdata>=2022.1 in \\\\ps-home.insa-lyon.fr\\users\\home\\dlarrazmar\\if4\\fouilled\\projet\\dataminingenv\\lib\\site-packages (from pandas>=1.2->seaborn==0.13.2) (2024.2)\n",
      "Requirement already satisfied: pytz>=2020.1 in \\\\ps-home.insa-lyon.fr\\users\\home\\dlarrazmar\\if4\\fouilled\\projet\\dataminingenv\\lib\\site-packages (from pandas>=1.2->seaborn==0.13.2) (2024.2)\n",
      "Requirement already satisfied: six>=1.5 in \\\\ps-home.insa-lyon.fr\\users\\home\\dlarrazmar\\if4\\fouilled\\projet\\dataminingenv\\lib\\site-packages (from python-dateutil>=2.7->matplotlib!=3.6.1,>=3.4->seaborn==0.13.2) (1.17.0)\n",
      "Installing collected packages: matplotlib, seaborn\n",
      "Successfully installed matplotlib-3.9.4 seaborn-0.13.2\n"
     ]
    },
    {
     "name": "stderr",
     "output_type": "stream",
     "text": [
      "WARNING: You are using pip version 21.2.4; however, version 24.3.1 is available.\n",
      "You should consider upgrading via the '\\\\ps-home.insa-lyon.fr\\users\\home\\dlarrazmar\\IF4\\fouilleD\\projet\\dataMiningEnv\\Scripts\\python.exe -m pip install --upgrade pip' command.\n"
     ]
    },
    {
     "name": "stdout",
     "output_type": "stream",
     "text": [
      "^C\n"
     ]
    }
   ],
   "source": [
    "! python.exe -m pip install --upgrade pip'\n",
    "# installation of required libraries and dependencies\n",
    "# numeric calculations\n",
    "! pip install numpy==1.26.0 \n",
    "# data frames \n",
    "! pip install pandas==2.1.1 \n",
    "# machine learning algorithms \n",
    "! pip install scikit-learn==1.5.1 \n",
    "! pip install scipy==1.12.0\n",
    "# plotting \n",
    "! pip install plotly==5.24.1 \n",
    "! pip install matplotlib==3.8.0 \n",
    "! pip install seaborn==0.13.2 \n",
    "! pip install plotly-express==0.4.1 \n",
    "! pip install chart-studio==1.1.0 \n",
    "# web app library \n",
    "! pip install streamlit==1.37.1 \n",
    "# association rules\n",
    "! pip install mlxtend==0.23.3\n",
    "# Language processing\n",
    "! pip install nltk\n",
    "! python -m nltk.downloader popular # popular functions\n"
   ]
  },
  {
   "attachments": {},
   "cell_type": "markdown",
   "metadata": {},
   "source": [
    "- ### Imports"
   ]
  },
  {
   "cell_type": "code",
   "execution_count": null,
   "metadata": {},
   "outputs": [],
   "source": [
    "import pandas as pd\n",
    "import sklearn.cluster as cl\n",
    "#import nltk\n",
    "\n"
   ]
  },
  {
   "attachments": {},
   "cell_type": "markdown",
   "metadata": {},
   "source": [
    "## Data"
   ]
  },
  {
   "cell_type": "code",
   "execution_count": 13,
   "metadata": {},
   "outputs": [
    {
     "data": {
      "text/html": [
       "<div>\n",
       "<style scoped>\n",
       "    .dataframe tbody tr th:only-of-type {\n",
       "        vertical-align: middle;\n",
       "    }\n",
       "\n",
       "    .dataframe tbody tr th {\n",
       "        vertical-align: top;\n",
       "    }\n",
       "\n",
       "    .dataframe thead th {\n",
       "        text-align: right;\n",
       "    }\n",
       "</style>\n",
       "<table border=\"1\" class=\"dataframe\">\n",
       "  <thead>\n",
       "    <tr style=\"text-align: right;\">\n",
       "      <th></th>\n",
       "      <th>id</th>\n",
       "      <th>user</th>\n",
       "      <th>lat</th>\n",
       "      <th>long</th>\n",
       "      <th>tags</th>\n",
       "      <th>title</th>\n",
       "      <th>date_taken_minute</th>\n",
       "      <th>date_taken_hour</th>\n",
       "      <th>date_taken_day</th>\n",
       "      <th>date_taken_month</th>\n",
       "      <th>date_taken_year</th>\n",
       "      <th>date_upload_minute</th>\n",
       "      <th>date_upload_hour</th>\n",
       "      <th>date_upload_day</th>\n",
       "      <th>date_upload_month</th>\n",
       "      <th>date_upload_year</th>\n",
       "      <th>Unnamed: 16</th>\n",
       "      <th>Unnamed: 17</th>\n",
       "      <th>Unnamed: 18</th>\n",
       "    </tr>\n",
       "  </thead>\n",
       "  <tbody>\n",
       "    <tr>\n",
       "      <th>0</th>\n",
       "      <td>4395181099</td>\n",
       "      <td>30624617@N03</td>\n",
       "      <td>45.754858</td>\n",
       "      <td>4.821710</td>\n",
       "      <td>chair,lyon,rhône,chaise,rhônealpes</td>\n",
       "      <td>Chaises avec vue</td>\n",
       "      <td>11</td>\n",
       "      <td>15</td>\n",
       "      <td>28</td>\n",
       "      <td>2</td>\n",
       "      <td>2010</td>\n",
       "      <td>23</td>\n",
       "      <td>20</td>\n",
       "      <td>28</td>\n",
       "      <td>2</td>\n",
       "      <td>2010</td>\n",
       "      <td>NaN</td>\n",
       "      <td>NaN</td>\n",
       "      <td>NaN</td>\n",
       "    </tr>\n",
       "    <tr>\n",
       "      <th>1</th>\n",
       "      <td>4394748717</td>\n",
       "      <td>35853470@N00</td>\n",
       "      <td>45.753270</td>\n",
       "      <td>4.862953</td>\n",
       "      <td>NaN</td>\n",
       "      <td>NaN</td>\n",
       "      <td>51</td>\n",
       "      <td>17</td>\n",
       "      <td>28</td>\n",
       "      <td>2</td>\n",
       "      <td>2010</td>\n",
       "      <td>52</td>\n",
       "      <td>17</td>\n",
       "      <td>28</td>\n",
       "      <td>2</td>\n",
       "      <td>2010</td>\n",
       "      <td>NaN</td>\n",
       "      <td>NaN</td>\n",
       "      <td>NaN</td>\n",
       "    </tr>\n",
       "    <tr>\n",
       "      <th>2</th>\n",
       "      <td>4394694699</td>\n",
       "      <td>11817998@N05</td>\n",
       "      <td>45.760655</td>\n",
       "      <td>4.846564</td>\n",
       "      <td>365,iphone</td>\n",
       "      <td>59/365 - R46 V103 B163</td>\n",
       "      <td>29</td>\n",
       "      <td>17</td>\n",
       "      <td>28</td>\n",
       "      <td>2</td>\n",
       "      <td>2010</td>\n",
       "      <td>33</td>\n",
       "      <td>17</td>\n",
       "      <td>28</td>\n",
       "      <td>2</td>\n",
       "      <td>2010</td>\n",
       "      <td>NaN</td>\n",
       "      <td>NaN</td>\n",
       "      <td>NaN</td>\n",
       "    </tr>\n",
       "    <tr>\n",
       "      <th>3</th>\n",
       "      <td>4394803790</td>\n",
       "      <td>11545749@N06</td>\n",
       "      <td>45.784000</td>\n",
       "      <td>4.874072</td>\n",
       "      <td>nin,nineinchnails,gift,screening,toiou,avott</td>\n",
       "      <td>2010-01-29 Toiou Avott Lyon</td>\n",
       "      <td>15</td>\n",
       "      <td>20</td>\n",
       "      <td>28</td>\n",
       "      <td>1</td>\n",
       "      <td>2010</td>\n",
       "      <td>38</td>\n",
       "      <td>12</td>\n",
       "      <td>28</td>\n",
       "      <td>2</td>\n",
       "      <td>2010</td>\n",
       "      <td>NaN</td>\n",
       "      <td>NaN</td>\n",
       "      <td>NaN</td>\n",
       "    </tr>\n",
       "    <tr>\n",
       "      <th>4</th>\n",
       "      <td>4394803554</td>\n",
       "      <td>11545749@N06</td>\n",
       "      <td>45.784000</td>\n",
       "      <td>4.874072</td>\n",
       "      <td>lyon,nin,nineinchnails,gift,screening,toiou,avott</td>\n",
       "      <td>2010-01-28 Toiou Avott Lyon</td>\n",
       "      <td>10</td>\n",
       "      <td>20</td>\n",
       "      <td>28</td>\n",
       "      <td>1</td>\n",
       "      <td>2010</td>\n",
       "      <td>38</td>\n",
       "      <td>12</td>\n",
       "      <td>28</td>\n",
       "      <td>2</td>\n",
       "      <td>2010</td>\n",
       "      <td>NaN</td>\n",
       "      <td>NaN</td>\n",
       "      <td>NaN</td>\n",
       "    </tr>\n",
       "  </tbody>\n",
       "</table>\n",
       "</div>"
      ],
      "text/plain": [
       "           id          user        lat      long  \\\n",
       "0  4395181099  30624617@N03  45.754858  4.821710   \n",
       "1  4394748717  35853470@N00  45.753270  4.862953   \n",
       "2  4394694699  11817998@N05  45.760655  4.846564   \n",
       "3  4394803790  11545749@N06  45.784000  4.874072   \n",
       "4  4394803554  11545749@N06  45.784000  4.874072   \n",
       "\n",
       "                                                tags  \\\n",
       "0                 chair,lyon,rhône,chaise,rhônealpes   \n",
       "1                                                NaN   \n",
       "2                                         365,iphone   \n",
       "3       nin,nineinchnails,gift,screening,toiou,avott   \n",
       "4  lyon,nin,nineinchnails,gift,screening,toiou,avott   \n",
       "\n",
       "                         title  date_taken_minute  date_taken_hour  \\\n",
       "0             Chaises avec vue                 11               15   \n",
       "1                          NaN                 51               17   \n",
       "2       59/365 - R46 V103 B163                 29               17   \n",
       "3  2010-01-29 Toiou Avott Lyon                 15               20   \n",
       "4  2010-01-28 Toiou Avott Lyon                 10               20   \n",
       "\n",
       "   date_taken_day  date_taken_month  date_taken_year  date_upload_minute  \\\n",
       "0              28                 2             2010                  23   \n",
       "1              28                 2             2010                  52   \n",
       "2              28                 2             2010                  33   \n",
       "3              28                 1             2010                  38   \n",
       "4              28                 1             2010                  38   \n",
       "\n",
       "   date_upload_hour  date_upload_day  date_upload_month  date_upload_year  \\\n",
       "0                20               28                  2              2010   \n",
       "1                17               28                  2              2010   \n",
       "2                17               28                  2              2010   \n",
       "3                12               28                  2              2010   \n",
       "4                12               28                  2              2010   \n",
       "\n",
       "   Unnamed: 16  Unnamed: 17  Unnamed: 18  \n",
       "0          NaN          NaN          NaN  \n",
       "1          NaN          NaN          NaN  \n",
       "2          NaN          NaN          NaN  \n",
       "3          NaN          NaN          NaN  \n",
       "4          NaN          NaN          NaN  "
      ]
     },
     "execution_count": 13,
     "metadata": {},
     "output_type": "execute_result"
    }
   ],
   "source": [
    "# Charger les données avec `low_memory=False` pour éviter les avertissements\n",
    "data = pd.read_csv(\"data/flickr_data2.csv\", sep=\",\", low_memory=False)\n",
    "\n",
    "# Supprimer les espaces supplémentaires dans les noms des colonnes\n",
    "data.columns = data.columns.str.strip()\n",
    "\n",
    "# Convertir les colonnes contenant des types mixtes (object) en numériques\n",
    "# Liste des colonnes de type temps\n",
    "time_columns = [\n",
    "    'date_taken_minute', 'date_taken_hour', 'date_taken_day',\n",
    "    'date_taken_month', 'date_taken_year',\n",
    "    'date_upload_minute', 'date_upload_hour', 'date_upload_day',\n",
    "    'date_upload_month', 'date_upload_year'\n",
    "]\n",
    "\n",
    "# Convertir chaque colonne en int64\n",
    "for col in time_columns:\n",
    "    data[col] = pd.to_numeric(data[col], errors='coerce').fillna(0).astype('int64')\n",
    "\n",
    "\n",
    "data.head(5)\n",
    "\n"
   ]
  },
  {
   "attachments": {},
   "cell_type": "markdown",
   "metadata": {},
   "source": [
    "## #2: Exploratory Data Analysis (Cleaning)"
   ]
  },
  {
   "cell_type": "code",
   "execution_count": 6,
   "metadata": {},
   "outputs": [],
   "source": [
    "def parse_conclusion(pre_data, parsed_data):\n",
    "    l = len(pre_data)-len(parsed_data)\n",
    "    print(f\"<Lines parsed: {l} - {round(100*l/len(data),3)}% of original data>\")"
   ]
  },
  {
   "attachments": {},
   "cell_type": "markdown",
   "metadata": {},
   "source": [
    "## Duplicates"
   ]
  },
  {
   "cell_type": "code",
   "execution_count": 7,
   "metadata": {},
   "outputs": [
    {
     "name": "stdout",
     "output_type": "stream",
     "text": [
      "<Lines parsed: 252143 - 60.0% of original data>\n"
     ]
    }
   ],
   "source": [
    "# Save parsed lines\n",
    "data[data['id'].duplicated(keep='first')].sort_values(\"id\").to_csv(\"data/parsed_lines/duplicatedId.csv\", index = False)\n",
    "\n",
    "# Parse\n",
    "unduplicated_id_data = data[~data['id'].duplicated(keep='first')]\n",
    "parse_conclusion(data, unduplicated_id_data)"
   ]
  },
  {
   "attachments": {},
   "cell_type": "markdown",
   "metadata": {},
   "source": [
    "## Corrupted Data and Shifted columns due to \";\" in title\n",
    "Examples:\n",
    "- https://flickr.com/photos/29713277@N02/6674970791\n",
    "- https://flickr.com/photos/53987060@N02/33105832478\n",
    "\n",
    "The first one clearly shows that if the title contains \";\", the data inside of the csv is shuffled.<br>\n",
    "The second example has a sneaky \";\" within the smily face at the end of the title."
   ]
  },
  {
   "cell_type": "code",
   "execution_count": 14,
   "metadata": {},
   "outputs": [
    {
     "name": "stdout",
     "output_type": "stream",
     "text": [
      "<Lines parsed: 47 - 0.011% of original data>\n"
     ]
    }
   ],
   "source": [
    "# Save parsed lines\n",
    "corrupted_data = unduplicated_id_data[unduplicated_id_data[\"Unnamed: 16\"].notnull() | unduplicated_id_data[\"Unnamed: 17\"].notnull() | unduplicated_id_data[\"Unnamed: 18\"].notnull()]\n",
    "corrupted_data.to_csv(\"data/parsed_lines/corrupted_data.csv\", index = False)\n",
    "\n",
    "# Parse\n",
    "uncorrupted_data = unduplicated_id_data[~(unduplicated_id_data[\"Unnamed: 16\"].notnull() | unduplicated_id_data[\"Unnamed: 17\"].notnull() | unduplicated_id_data[\"Unnamed: 18\"].notnull())]\n",
    "\n",
    "parse_conclusion(unduplicated_id_data, uncorrupted_data)"
   ]
  },
  {
   "attachments": {},
   "cell_type": "markdown",
   "metadata": {},
   "source": [
    "- ### Unused variables "
   ]
  },
  {
   "cell_type": "code",
   "execution_count": 15,
   "metadata": {},
   "outputs": [
    {
     "data": {
      "text/html": [
       "<div>\n",
       "<style scoped>\n",
       "    .dataframe tbody tr th:only-of-type {\n",
       "        vertical-align: middle;\n",
       "    }\n",
       "\n",
       "    .dataframe tbody tr th {\n",
       "        vertical-align: top;\n",
       "    }\n",
       "\n",
       "    .dataframe thead th {\n",
       "        text-align: right;\n",
       "    }\n",
       "</style>\n",
       "<table border=\"1\" class=\"dataframe\">\n",
       "  <thead>\n",
       "    <tr style=\"text-align: right;\">\n",
       "      <th></th>\n",
       "      <th>id</th>\n",
       "      <th>user</th>\n",
       "      <th>lat</th>\n",
       "      <th>long</th>\n",
       "      <th>tags</th>\n",
       "      <th>title</th>\n",
       "      <th>date_taken_minute</th>\n",
       "      <th>date_taken_hour</th>\n",
       "      <th>date_taken_day</th>\n",
       "      <th>date_taken_month</th>\n",
       "      <th>date_taken_year</th>\n",
       "    </tr>\n",
       "  </thead>\n",
       "  <tbody>\n",
       "    <tr>\n",
       "      <th>0</th>\n",
       "      <td>4395181099</td>\n",
       "      <td>30624617@N03</td>\n",
       "      <td>45.754858</td>\n",
       "      <td>4.821710</td>\n",
       "      <td>chair,lyon,rhône,chaise,rhônealpes</td>\n",
       "      <td>Chaises avec vue</td>\n",
       "      <td>11</td>\n",
       "      <td>15</td>\n",
       "      <td>28</td>\n",
       "      <td>2</td>\n",
       "      <td>2010</td>\n",
       "    </tr>\n",
       "    <tr>\n",
       "      <th>1</th>\n",
       "      <td>4394748717</td>\n",
       "      <td>35853470@N00</td>\n",
       "      <td>45.753270</td>\n",
       "      <td>4.862953</td>\n",
       "      <td>NaN</td>\n",
       "      <td>NaN</td>\n",
       "      <td>51</td>\n",
       "      <td>17</td>\n",
       "      <td>28</td>\n",
       "      <td>2</td>\n",
       "      <td>2010</td>\n",
       "    </tr>\n",
       "    <tr>\n",
       "      <th>2</th>\n",
       "      <td>4394694699</td>\n",
       "      <td>11817998@N05</td>\n",
       "      <td>45.760655</td>\n",
       "      <td>4.846564</td>\n",
       "      <td>365,iphone</td>\n",
       "      <td>59/365 - R46 V103 B163</td>\n",
       "      <td>29</td>\n",
       "      <td>17</td>\n",
       "      <td>28</td>\n",
       "      <td>2</td>\n",
       "      <td>2010</td>\n",
       "    </tr>\n",
       "  </tbody>\n",
       "</table>\n",
       "</div>"
      ],
      "text/plain": [
       "           id          user        lat      long  \\\n",
       "0  4395181099  30624617@N03  45.754858  4.821710   \n",
       "1  4394748717  35853470@N00  45.753270  4.862953   \n",
       "2  4394694699  11817998@N05  45.760655  4.846564   \n",
       "\n",
       "                                 tags                   title  \\\n",
       "0  chair,lyon,rhône,chaise,rhônealpes        Chaises avec vue   \n",
       "1                                 NaN                     NaN   \n",
       "2                          365,iphone  59/365 - R46 V103 B163   \n",
       "\n",
       "   date_taken_minute  date_taken_hour  date_taken_day  date_taken_month  \\\n",
       "0                 11               15              28                 2   \n",
       "1                 51               17              28                 2   \n",
       "2                 29               17              28                 2   \n",
       "\n",
       "   date_taken_year  \n",
       "0             2010  \n",
       "1             2010  \n",
       "2             2010  "
      ]
     },
     "execution_count": 15,
     "metadata": {},
     "output_type": "execute_result"
    }
   ],
   "source": [
    "# Drop unused columns\n",
    "uncorrupted_data = uncorrupted_data.drop(columns=[\"Unnamed: 16\", \"Unnamed: 17\", \"Unnamed: 18\", \"date_upload_minute\", \"date_upload_hour\", \"date_upload_day\", \"date_upload_month\", \"date_upload_year\"])\n",
    "uncorrupted_data.head(3)"
   ]
  },
  {
   "attachments": {},
   "cell_type": "markdown",
   "metadata": {},
   "source": [
    "## Incorrect coords (Not Lyon) and dates"
   ]
  },
  {
   "cell_type": "code",
   "execution_count": null,
   "metadata": {},
   "outputs": [],
   "source": []
  },
  {
   "attachments": {},
   "cell_type": "markdown",
   "metadata": {},
   "source": [
    "# Data Clustering"
   ]
  },
  {
   "attachments": {},
   "cell_type": "markdown",
   "metadata": {},
   "source": [
    "## k-means"
   ]
  },
  {
   "cell_type": "code",
   "execution_count": null,
   "metadata": {},
   "outputs": [],
   "source": [
    "# number of clusters \n",
    "k = 3\n",
    "# create a model\n",
    "kmeans = cl.KMeans(n_clusters=k, init='k-means++')\n",
    "# fit scaled data\n",
    "kmeans.fit(scaled_data_df)"
   ]
  },
  {
   "attachments": {},
   "cell_type": "markdown",
   "metadata": {},
   "source": [
    "## (POST PROCESS !!!!) Same user, space and approximated time => many captures taken on site"
   ]
  },
  {
   "cell_type": "code",
   "execution_count": 17,
   "metadata": {},
   "outputs": [
    {
     "name": "stdout",
     "output_type": "stream",
     "text": [
      "<Lines parsed: 87113 - 20.729% of original data>\n"
     ]
    }
   ],
   "source": [
    "# Save parsed lines PAS CA!!!!!!!!!!!!!!!!!!!!!!!!!!!!!!!!\n",
    "# multipic_data = uncorrupted_data[uncorrupted_data[['user', 'lat', 'long', 'date_taken_day', 'date_taken_month', 'date_taken_year']].duplicated(keep='first')].sort_values(\"id\")\n",
    "# multipic_data.to_csv(\"data/parsed_lines/multipic.csv\", index = False)\n",
    "\n",
    "# # Parse\n",
    "# onlyonepic_data = uncorrupted_data[~uncorrupted_data[['user', 'lat', 'long', 'tags', 'date_taken_day', 'date_taken_month', 'date_taken_year']].duplicated(keep='first')]\n",
    "\n",
    "# parse_conclusion(uncorrupted_data, onlyonepic_data)"
   ]
  }
 ],
 "metadata": {
  "kernelspec": {
   "display_name": "base",
   "language": "python",
   "name": "python3"
  },
  "language_info": {
   "codemirror_mode": {
    "name": "ipython",
    "version": 3
   },
   "file_extension": ".py",
   "mimetype": "text/x-python",
   "name": "python",
   "nbconvert_exporter": "python",
   "pygments_lexer": "ipython3",
   "version": "3.9.9"
  }
 },
 "nbformat": 4,
 "nbformat_minor": 2
}
