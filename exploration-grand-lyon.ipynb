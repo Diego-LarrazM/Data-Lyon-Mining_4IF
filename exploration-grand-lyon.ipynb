{
 "cells": [
  {
   "cell_type": "markdown",
   "metadata": {},
   "source": [
    "# <center>Data Mining project: Discover and describe areas of interest<br> and events from geo-located parsed_data</center>"
   ]
  },
  {
   "attachments": {},
   "cell_type": "markdown",
   "metadata": {},
   "source": [
    "# 0/ Import Dataset and Libraries"
   ]
  },
  {
   "attachments": {},
   "cell_type": "markdown",
   "metadata": {},
   "source": [
    "## #1 Importing Libraries"
   ]
  },
  {
   "cell_type": "markdown",
   "metadata": {},
   "source": [
    "- ### Installs"
   ]
  },
  {
   "attachments": {},
   "cell_type": "markdown",
   "metadata": {},
   "source": [
    ">requires: `pip install ipykernel`"
   ]
  },
  {
   "cell_type": "code",
   "execution_count": null,
   "metadata": {},
   "outputs": [],
   "source": [
    "\n",
    "# installation of required libraries and dependencies\n",
    "# numeric calculations\n",
    "! pip install numpy==1.26.0 \n",
    "# data frames \n",
    "! pip install pandas==2.1.1 \n",
    "# machine learning algorithms \n",
    "! pip install scikit-learn==1.5.1 \n",
    "# plotting \n",
    "! pip install matplotlib==3.8.0 \n",
    "# Language processing\n",
    "! pip install nltk\n",
    "#! python -m nltk.downloader popular # popular functions\n",
    "# Folium\n",
    "! pip install folium==0.12.1\n"
   ]
  },
  {
   "attachments": {},
   "cell_type": "markdown",
   "metadata": {},
   "source": [
    "- ###   Imports"
   ]
  },
  {
   "cell_type": "code",
   "execution_count": null,
   "metadata": {},
   "outputs": [],
   "source": [
    "import pandas as pd\n",
    "import re\n",
    "import matplotlib.pyplot as plt\n",
    "from sklearn.metrics import silhouette_score, silhouette_samples\n",
    "from sklearn.neighbors import NearestNeighbors\n",
    "import sklearn.cluster as cl\n",
    "import folium\n",
    "from folium.plugins import MarkerCluster\n",
    "import random\n",
    "import numpy as np\n",
    "import re\n",
    "from nltk.corpus import stopwords\n"
   ]
  },
  {
   "attachments": {},
   "cell_type": "markdown",
   "metadata": {},
   "source": [
    "## #2 Importing Data"
   ]
  },
  {
   "cell_type": "code",
   "execution_count": null,
   "metadata": {},
   "outputs": [],
   "source": [
    "# Charger les données avec low_memory=False pour éviter les avertissements\n",
    "DATA = pd.read_csv(\"data/flickr_data2.csv\", sep=\",\", low_memory=False)\n",
    "random.seed(42)"
   ]
  },
  {
   "attachments": {},
   "cell_type": "markdown",
   "metadata": {},
   "source": [
    "# I/ Understanding the Data"
   ]
  },
  {
   "cell_type": "markdown",
   "metadata": {},
   "source": [
    "--Write something to describe this part of the report--"
   ]
  },
  {
   "attachments": {},
   "cell_type": "markdown",
   "metadata": {},
   "source": [
    "## #1 Data clearing and preparation"
   ]
  },
  {
   "cell_type": "code",
   "execution_count": null,
   "metadata": {},
   "outputs": [],
   "source": [
    "# Print details about parsing step:\n",
    "# -> Number of lines parsed - % of original data parsed\n",
    "def parse_conclusion(parsed_data):\n",
    "    l = len(parsed_data)\n",
    "    print(f\"<Lines parsed: {l} - {round(100*l/len(DATA),3)}% of original data>\")"
   ]
  },
  {
   "attachments": {},
   "cell_type": "markdown",
   "metadata": {},
   "source": [
    "- Étape 1 : Nettoyage initial des colonnes"
   ]
  },
  {
   "cell_type": "code",
   "execution_count": null,
   "metadata": {},
   "outputs": [],
   "source": [
    "# Supprimer les espaces supplémentaires dans les noms des colonnes\n",
    "parsed_data = DATA\n",
    "parsed_data.columns = parsed_data.columns.str.strip()\n",
    "\n",
    "# Convertir les colonnes temporelles en numériques\n",
    "# Liste des colonnes temporelles\n",
    "time_columns = [\n",
    "    'date_taken_minute', 'date_taken_hour', 'date_taken_day',\n",
    "    'date_taken_month', 'date_taken_year',\n",
    "    'date_upload_minute', 'date_upload_hour', 'date_upload_day',\n",
    "    'date_upload_month', 'date_upload_year'\n",
    "]\n",
    "\n",
    "# Convertir chaque colonne en int64, remplacer les erreurs par 0\n",
    "for col in time_columns:\n",
    "    parsed_data[col] = pd.to_numeric(DATA[col], errors='coerce').fillna(0).astype('int64')"
   ]
  },
  {
   "attachments": {},
   "cell_type": "markdown",
   "metadata": {},
   "source": [
    "- Étape 2 : Suppression des doublons basés sur l'identifiant unique"
   ]
  },
  {
   "cell_type": "code",
   "execution_count": null,
   "metadata": {},
   "outputs": [],
   "source": [
    "# Sauvegarder les doublons pour audit futur\n",
    "duplicate_data = parsed_data[parsed_data['id'].duplicated(keep='first')].sort_values(\"id\")\n",
    "duplicate_data.to_csv(\n",
    "    \"data/parsed_lines/duplicatedId.csv\", index=False\n",
    ")\n",
    "\n",
    "# Supprimer les doublons\n",
    "parsed_data = parsed_data[~parsed_data['id'].duplicated(keep='first')]\n",
    "\n",
    "parse_conclusion(duplicate_data)"
   ]
  },
  {
   "attachments": {},
   "cell_type": "markdown",
   "metadata": {},
   "source": [
    "- Étape 3 : Gestion des colonnes inutilisées ou corrompues"
   ]
  },
  {
   "cell_type": "code",
   "execution_count": null,
   "metadata": {},
   "outputs": [],
   "source": [
    "# Identifier les colonnes inutiles\n",
    "unused_columns = [\"Unnamed: 16\", \"Unnamed: 17\", \"Unnamed: 18\", \n",
    "                  \"date_upload_minute\", \"date_upload_hour\", \"date_upload_day\", \n",
    "                  \"date_upload_month\", \"date_upload_year\"]\n",
    "\n",
    "# Sauvegarder les données corrompues\n",
    "corrupted_data = parsed_data[parsed_data[\"Unnamed: 16\"].notnull() | parsed_data[\"Unnamed: 17\"].notnull() | parsed_data[\"Unnamed: 18\"].notnull()]\n",
    "corrupted_data.to_csv(\n",
    "    \"data/parsed_lines/corrupted_data.csv\"\n",
    ", index=False)\n",
    "\n",
    "\n",
    "# Supprimer les colonnes inutilisées et les lignes corrompues\n",
    "parsed_data = parsed_data[~(parsed_data[\"Unnamed: 16\"].notnull() | parsed_data[\"Unnamed: 17\"].notnull() | parsed_data[\"Unnamed: 18\"].notnull())]\n",
    "parsed_data = parsed_data.drop(columns=unused_columns)\n",
    "\n",
    "parse_conclusion(corrupted_data)"
   ]
  },
  {
   "attachments": {},
   "cell_type": "markdown",
   "metadata": {},
   "source": [
    "- Étape 4 : Nettoyage des coordonnées GPS exterieures à Lyon"
   ]
  },
  {
   "cell_type": "code",
   "execution_count": null,
   "metadata": {},
   "outputs": [],
   "source": [
    "# Définir les limites géographiques de Lyon\n",
    "lyon_lat_min, lyon_lat_max = 45.69, 45.85\n",
    "lyon_lon_min, lyon_lon_max = 4.78, 4.92\n",
    "\n",
    "# Sauvegarder les données not Lyonnaises ou non definies\n",
    "out_lyon_data = parsed_data[\n",
    "    ~((parsed_data['lat'] >= lyon_lat_min) & \n",
    "    (parsed_data['lat'] <= lyon_lat_max) &\n",
    "    (parsed_data['long'] >= lyon_lon_min) &\n",
    "    (parsed_data['long'] <= lyon_lon_max))\n",
    "]\n",
    "out_lyon_data.to_csv(\n",
    "    \"data/parsed_lines/out_lyon.csv\"\n",
    ", index=False)\n",
    "\n",
    "# Filtrer les données pour garder uniquement les points dans Lyon\n",
    "parsed_data = parsed_data[\n",
    "    (parsed_data['lat'] >= lyon_lat_min) & \n",
    "    (parsed_data['lat'] <= lyon_lat_max) &\n",
    "    (parsed_data['long'] >= lyon_lon_min) &\n",
    "    (parsed_data['long'] <= lyon_lon_max)\n",
    "]\n",
    "\n",
    "parse_conclusion(out_lyon_data)"
   ]
  },
  {
   "attachments": {},
   "cell_type": "markdown",
   "metadata": {},
   "source": [
    "- Étape 5 : Gestion des valeurs manquantes"
   ]
  },
  {
   "cell_type": "code",
   "execution_count": null,
   "metadata": {},
   "outputs": [],
   "source": [
    "# Supprimer les lignes avec des valeurs manquantes\n",
    "#parsed_data = parsed_data.dropna(subset=['id', 'user', 'lat', 'long', 'tags', 'title', 'date_taken_minute', 'date_taken_hour', 'date_taken_day', 'date_taken_month', 'date_taken_year'])\n",
    "\n",
    "# Sauvegarder les lignes à données manquantes\n",
    "val_manquante_data = parsed_data[parsed_data.drop(columns=['tags','title']).isna().any(axis = 1)]\n",
    "val_manquante_data.to_csv(\n",
    "    \"data/parsed_lines/NaNs.csv\"\n",
    ", index=False)\n",
    "\n",
    "# Remplir les valeurs manquantes pour les colonnes textuelles par des chaînes vides\n",
    "parsed_data['tags'] = parsed_data['tags'].fillna('')\n",
    "parsed_data['title'] = parsed_data['title'].fillna('')\n",
    "\n",
    "parse_conclusion(val_manquante_data)"
   ]
  },
  {
   "attachments": {},
   "cell_type": "markdown",
   "metadata": {},
   "source": [
    "- Étape 6 : Filtrage des dates incohérentes"
   ]
  },
  {
   "cell_type": "code",
   "execution_count": null,
   "metadata": {},
   "outputs": [],
   "source": [
    "min_year = 2009\n",
    "\n",
    "# Sauvegarder les données ayant des date non correcte\n",
    "uncorrect_date_data = parsed_data[\n",
    "    ~((parsed_data['date_taken_year'] >= min_year) & (parsed_data['date_taken_year'] <= 2025) &\n",
    "    (parsed_data['date_taken_month'] >= 1) & (parsed_data['date_taken_month'] <= 12) &\n",
    "    (parsed_data['date_taken_day'] >= 1) & (parsed_data['date_taken_day'] <= 31) &\n",
    "    (parsed_data['date_taken_hour'] >= 0) & (parsed_data['date_taken_hour'] <= 23) &\n",
    "    (parsed_data['date_taken_minute'] >= 0) & (parsed_data['date_taken_minute'] <= 59))\n",
    "]\n",
    "uncorrect_date_data.to_csv(\n",
    "    \"data/parsed_lines/uncorrect_date.csv\"\n",
    ", index=False)\n",
    "\n",
    "# Garder uniquement les dates raisonnables (entre 2009 et 2025)\n",
    "parsed_data = parsed_data[\n",
    "    (parsed_data['date_taken_year'] >= min_year) & (parsed_data['date_taken_year'] <= 2025) &\n",
    "    (parsed_data['date_taken_month'] >= 1) & (parsed_data['date_taken_month'] <= 12) &\n",
    "    (parsed_data['date_taken_day'] >= 1) & (parsed_data['date_taken_day'] <= 31) &\n",
    "    (parsed_data['date_taken_hour'] >= 0) & (parsed_data['date_taken_hour'] <= 23) &\n",
    "    (parsed_data['date_taken_minute'] >= 0) & (parsed_data['date_taken_minute'] <= 59) \n",
    "]\n",
    "\n",
    "parse_conclusion(uncorrect_date_data)"
   ]
  },
  {
   "attachments": {},
   "cell_type": "markdown",
   "metadata": {},
   "source": [
    "- Étape 7 : Nettoyage/Standarisation des colonnes textuelles"
   ]
  },
  {
   "cell_type": "code",
   "execution_count": null,
   "metadata": {},
   "outputs": [],
   "source": [
    "# Fonction pour nettoyer le texte\n",
    "def clean_text(text):\n",
    "    # Supprimer les caractères spéciaux et passer en minuscules\n",
    "    return re.sub(r'[^a-zA-Z0-9, ]', '', text).lower()\n",
    "\n",
    "# Appliquer le nettoyage sur les colonnes textuelles\n",
    "parsed_data['tags'] = parsed_data['tags'].apply(clean_text)\n",
    "parsed_data['title'] = parsed_data['title'].apply(clean_text)\n",
    "\n",
    "# Vérifier les résultats\n",
    "# parsed_data.head()"
   ]
  },
  {
   "cell_type": "markdown",
   "metadata": {},
   "source": [
    "- Étape 8 : Ajout de la colonne temps_diff (sec). <br><br> Correspond à la différence en secondes entre l'année 2005 pile (0s,0min,...) et la date de prise de la photo. <br>Utile pour le clustering spatio-temporel."
   ]
  },
  {
   "cell_type": "code",
   "execution_count": null,
   "metadata": {},
   "outputs": [],
   "source": [
    "print(\"minimum date: \" + str(parsed_data['date_taken_year'].min())) \n",
    "\n",
    "# Create a datetime column from the given columns\n",
    "dates = pd.to_datetime(\n",
    "    {\n",
    "        'year': parsed_data['date_taken_year'],\n",
    "        'month': parsed_data['date_taken_month'],\n",
    "        'day': parsed_data['date_taken_day']\n",
    "    }\n",
    ") + pd.to_timedelta(parsed_data['date_taken_minute'], unit='m') + pd.to_timedelta(parsed_data['date_taken_hour'], unit='h')\n",
    "\n",
    "# Calculate difference from 1970-01-01 in seconds\n",
    "parsed_data['temps_diff'] = (dates - pd.Timestamp('2005-01-01')).dt.total_seconds()\n",
    "\n",
    "# Vérifier les résultats\n",
    "# parsed_data.head()"
   ]
  },
  {
   "cell_type": "markdown",
   "metadata": {},
   "source": [
    "- Étape 9 : Standardization."
   ]
  },
  {
   "cell_type": "code",
   "execution_count": null,
   "metadata": {},
   "outputs": [],
   "source": [
    "from sklearn.preprocessing import StandardScaler\n",
    "\n",
    "# Appliquer la standardisation\n",
    "scaler = StandardScaler()\n",
    "parsed_data[[\"lat_std\",\"long_std\",\"temps_diff\"]] = scaler.fit_transform(parsed_data[[\"lat\", \"long\",\"temps_diff\"]])\n",
    "\n",
    "# Vérifier les résultats\n",
    "# parsed_data.head()"
   ]
  },
  {
   "attachments": {},
   "cell_type": "markdown",
   "metadata": {},
   "source": [
    "- Résultat final"
   ]
  },
  {
   "cell_type": "code",
   "execution_count": null,
   "metadata": {},
   "outputs": [],
   "source": [
    "# Résumé final des données nettoyées\n",
    "print(\"Données nettoyées :\")\n",
    "\n",
    "# Réindexer les données\n",
    "parsed_data = parsed_data.reset_index(drop=True)\n",
    "\n",
    "\n",
    "# Sauvegarder les données nettoyées pour les prochaines étapes\n",
    "parsed_data.to_csv(\"data/cleaned_flickr_data.csv\", index=False)\n",
    "\n",
    "parsed_data.head(5)"
   ]
  },
  {
   "attachments": {},
   "cell_type": "markdown",
   "metadata": {},
   "source": [
    "## #2 Visualize Data on map"
   ]
  },
  {
   "cell_type": "code",
   "execution_count": null,
   "metadata": {},
   "outputs": [],
   "source": [
    "# Define the center of Lyon\n",
    "lyon_lat, lyon_lon = 45.75, 4.85  # Approximate coordinates for Lyon, France\n",
    "\n",
    "# Create a Folium map\n",
    "map_lyon = folium.Map(location=[lyon_lat, lyon_lon], zoom_start=12)\n",
    "\n",
    "# Create a marker cluster\n",
    "marker_cluster = MarkerCluster().add_to(map_lyon)\n",
    "\n",
    "# Add points from the dataset\n",
    "for _, row in parsed_data.iterrows():\n",
    "    folium.Marker(\n",
    "        location=[row['lat'], row['long']],  # Replace with 'lat' and 'long' if necessary\n",
    "        popup=f\"Tags: {row['tags']}, Title: {row['title']}\",  # Optional popup information\n",
    "    ).add_to(marker_cluster)\n",
    "\n",
    "# Display the map\n",
    "map_lyon\n",
    "\n",
    "# Optional: Save the map as an HTML file\n",
    "map_lyon.save(\"lyon_map_unclustered.html\")"
   ]
  },
  {
   "attachments": {},
   "cell_type": "markdown",
   "metadata": {},
   "source": [
    "## #3 Clustering data"
   ]
  },
  {
   "attachments": {},
   "cell_type": "markdown",
   "metadata": {},
   "source": [
    "To cluster the geo-located data from Lyon, we will apply multiple clustering techniques to identify areas of interest and patterns of activity.\n",
    "\n",
    "Our aim is to :\n",
    "\n",
    "- Identify dense regions of photo-taking activity, which may correspond to points of interest (e.g., landmarks, parks).\n",
    "- Highlight outliers or isolated points that may not belong to any significant cluster.\n",
    "- Compare different clustering techniques to determine the most effective one for this dataset."
   ]
  },
  {
   "cell_type": "markdown",
   "metadata": {},
   "source": [
    "### Setup:"
   ]
  },
  {
   "cell_type": "code",
   "execution_count": 170,
   "metadata": {},
   "outputs": [],
   "source": [
    "clustered_data = parsed_data\n",
    "features_base = [\"lat\", \"long\"]\n",
    "features_spatio_temp = [\"lat_std\", \"long_std\", \"temps_diff\"]\n",
    "features_lat_lng = [\"lat_std\", \"long_std\"]\n",
    "lyon_lat, lyon_lon = 45.75, 4.85"
   ]
  },
  {
   "cell_type": "code",
   "execution_count": null,
   "metadata": {},
   "outputs": [],
   "source": [
    "def create_folium_map(clusteredData, clusterInfoColumnName, sampleSize):\n",
    "    map = folium.Map([lyon_lat, lyon_lon], zoom_start = 12, scrollWheelZoom = True) \n",
    "    icon_color = [\"#\" + ''.join([random.choice('ABCDEF0123456789') for i in range(6)]) for i in range(clusteredData[clusterInfoColumnName].nunique())]\n",
    "    for i,row in clusteredData.sample(sampleSize).iterrows():\n",
    "        folium.CircleMarker(\n",
    "            location=[row['lat'], row['long']],\n",
    "            radius=5,\n",
    "            color=icon_color[int(row[clusterInfoColumnName]) - 1],\n",
    "            fill_color=icon_color[int(row[clusterInfoColumnName]) - 1],\n",
    "            fill=True,\n",
    "            popup=row['title']\n",
    "        ).add_to(map)\n",
    "\n",
    "    map.save(\"data/Maps/\"+clusterInfoColumnName+\"_map.html\")"
   ]
  },
  {
   "attachments": {},
   "cell_type": "markdown",
   "metadata": {},
   "source": [
    "### a) K-means"
   ]
  },
  {
   "attachments": {},
   "cell_type": "markdown",
   "metadata": {},
   "source": [
    ">Why? Suitable for finding spherical clusters in data.<br>\n",
    "Input required: Number of clusters (k).<br>\n",
    "Steps: Apply K-Means with varying values of k to find the optimal number of clusters using the elbow method.\n"
   ]
  },
  {
   "attachments": {},
   "cell_type": "markdown",
   "metadata": {},
   "source": [
    "- Finding K with the elbow method"
   ]
  },
  {
   "cell_type": "code",
   "execution_count": null,
   "metadata": {},
   "outputs": [],
   "source": [
    "ks_df = pd.DataFrame(columns=[\"k\", \"WCSS\"])\n",
    "for k in range(1,21):\n",
    "    kmeans = cl.KMeans(n_clusters=k, init='k-means++',random_state=42)\n",
    "    kmeans.fit(clustered_data[features_lat_lng])\n",
    "    print(\"k = \" + str(k) + \" - WCSS = \" + str(kmeans.inertia_))\n",
    "    new_row = pd.DataFrame({\"k\": [k], \"WCSS\": [kmeans.inertia_]})\n",
    "    ks_df = pd.concat([ks_df, new_row], ignore_index=True)\n",
    "\n",
    "plt.xlabel(\"k\")\n",
    "plt.ylabel(\"WCSS\")\n",
    "plt.plot(ks_df[\"k\"], ks_df[\"WCSS\"], \"-xb\")"
   ]
  },
  {
   "attachments": {},
   "cell_type": "markdown",
   "metadata": {},
   "source": [
    "We observe that the best k from the elbow method is k = 5"
   ]
  },
  {
   "attachments": {},
   "cell_type": "markdown",
   "metadata": {},
   "source": [
    "- Clustering data"
   ]
  },
  {
   "cell_type": "code",
   "execution_count": null,
   "metadata": {},
   "outputs": [],
   "source": [
    "# number of clusters \n",
    "k = 5 # set to optimal k found with elbow method\n",
    "# create a model\n",
    "kmeans = cl.KMeans(n_clusters=k, init='k-means++',random_state=42)\n",
    "# fit scaled data\n",
    "kmeans.fit(clustered_data[features_lat_lng])\n",
    "# Add labels to data\n",
    "K_mean_labels = kmeans.labels_\n",
    "clustered_data = clustered_data.join(pd.DataFrame({\"cluster_kmeans\": K_mean_labels}))\n",
    "clustered_data = clustered_data[clustered_data.cluster_kmeans != -1] # Takeout outliers"
   ]
  },
  {
   "attachments": {},
   "cell_type": "markdown",
   "metadata": {},
   "source": [
    "- Visualizing results"
   ]
  },
  {
   "cell_type": "code",
   "execution_count": null,
   "metadata": {},
   "outputs": [],
   "source": [
    "# Evaluate clustering\n",
    "inertia = kmeans.inertia_\n",
    "print(f\"Sum of squared distances: {kmeans.inertia_}\")\n",
    "\n",
    "# sample_silhouette_values = silhouette_samples(clustered_data[features_base], K_mean_labels)\n",
    "# means_lst = []\n",
    "# for label in range(k):\n",
    "#     means_lst.append(sample_silhouette_values[K_mean_labels == label].mean())\n",
    "\n",
    "# Visualisation des clusters sur une carte simple\n",
    "plt.figure(figsize=(10, 8))\n",
    "plt.scatter(clustered_data['long'], clustered_data['lat'], c=clustered_data['cluster_kmeans'], cmap='tab10', s=10)\n",
    "plt.title(f\"K-Means Clustering (k={k})\")\n",
    "plt.xlabel(\"Longitude\")\n",
    "plt.ylabel(\"Latitude\")\n",
    "plt.colorbar(label=\"Cluster\")\n",
    "plt.grid()\n",
    "plt.show()\n"
   ]
  },
  {
   "cell_type": "code",
   "execution_count": null,
   "metadata": {},
   "outputs": [],
   "source": [
    "# Creation de la Map\n",
    "create_folium_map(clustered_data, 'cluster_kmeans', 10000)"
   ]
  },
  {
   "attachments": {},
   "cell_type": "markdown",
   "metadata": {},
   "source": [
    "We can clearly see that the elbow method is insufficient to determine an optimal k given proximity.<br>\n",
    "K means is also unoptimal given non globular clusters and proximity to each other."
   ]
  },
  {
   "attachments": {},
   "cell_type": "markdown",
   "metadata": {},
   "source": [
    "### b) DBSCAN"
   ]
  },
  {
   "attachments": {},
   "cell_type": "markdown",
   "metadata": {},
   "source": [
    "- Finding Best EPS"
   ]
  },
  {
   "cell_type": "code",
   "execution_count": null,
   "metadata": {},
   "outputs": [],
   "source": [
    "# Convertir les coordonnées de latitude et longitude en radians\n",
    "# clustered_data[\"lat_rad\"] = np.radians(clustered_data[\"lat\"])\n",
    "# clustered_data[\"long_rad\"] = np.radians(clustered_data[\"long\"])\n",
    "# features_rad = [\"lat_rad\", \"long_rad\"]\n",
    "\n",
    "# 2. Recherche du meilleur paramètre `eps` avec la méthode du coude pour les k-plus proches voisins\n",
    "# Trouver les distances au k-plus proche voisin (on prend k = 5)\n",
    "nbrs = NearestNeighbors(n_neighbors=5, metric=\"haversine\").fit(clustered_data[features_lat_lng])\n",
    "distances, indices = nbrs.kneighbors(clustered_data[features_lat_lng])\n",
    "\n",
    "# Trier les distances pour identifier un coude\n",
    "sorted_distances = np.sort(distances[:, -1])  # Distance au 5e plus proche voisin\n",
    "plt.figure(figsize=(8, 5))\n",
    "plt.plot(sorted_distances)\n",
    "plt.title(\"Méthode du Coude pour DBSCAN (Haversine, eps)\")\n",
    "plt.xlabel(\"Points de Données\")\n",
    "plt.ylabel(\"Distance au 5e Plus Proche Voisin (en radians)\")\n",
    "plt.grid()\n",
    "plt.show()"
   ]
  },
  {
   "attachments": {},
   "cell_type": "markdown",
   "metadata": {},
   "source": [
    "La distance eps optimale est proche de 0.00005 rad. <br>\n",
    "Or par l'expérimentation nous avons trouvé qu'elle est de 0.0000487.\n",
    "\n",
    "La distance eps optimale est proche de 0.0125 rad. <br>\n",
    "Or par l'expérimentation nous avons trouvé qu'elle est de 0.012175."
   ]
  },
  {
   "attachments": {},
   "cell_type": "markdown",
   "metadata": {},
   "source": [
    "- Clustering Data"
   ]
  },
  {
   "cell_type": "code",
   "execution_count": null,
   "metadata": {},
   "outputs": [],
   "source": [
    "# 3. Définir un `eps` en fonction du coude observé (par exemple, eps=0.01)\n",
    "# Note : eps est en radians, correspondant à une distance angulaire (~6371 km * radians pour une distance en km)\n",
    "\n",
    "# eps = 300 / 6371000\n",
    "# eps = 0.0051\n",
    "# min_samples = 70\n",
    "clustered_data = parsed_data\n",
    "eps = 0.0051\n",
    "min_samples = 60\n",
    "\n",
    "# Appliquer DBSCAN avec la métrique Haversine\n",
    "dbscan = cl.DBSCAN(eps=eps, min_samples=min_samples, metric=\"haversine\")\n",
    "dbscan_labels = dbscan.fit_predict(clustered_data[features_lat_lng]) "
   ]
  },
  {
   "cell_type": "code",
   "execution_count": 175,
   "metadata": {},
   "outputs": [],
   "source": [
    "# 4. Ajouter les étiquettes aux données\n",
    "clustered_data[\"cluster_DBSCAN\"] = dbscan_labels\n",
    "\n",
    "# Compter le nombre de clusters (ignorer les outliers marqués comme -1)\n",
    "num_clusters = len(set(dbscan_labels)) - (1 if -1 in dbscan_labels else 0)\n",
    "num_outliers = sum(dbscan_labels == -1)\n",
    "clustered_data = clustered_data[clustered_data.cluster_DBSCAN != -1] # Takeout outliers"
   ]
  },
  {
   "attachments": {},
   "cell_type": "markdown",
   "metadata": {},
   "source": [
    "- Visualizing results"
   ]
  },
  {
   "cell_type": "code",
   "execution_count": null,
   "metadata": {},
   "outputs": [
    {
     "name": "stdout",
     "output_type": "stream",
     "text": [
      "Nombre de clusters détectés : 244\n",
      "Nombre d'outliers : 74477\n"
     ]
    },
    {
     "data": {
      "image/png": "[encoded data removed]",
      "text/plain": [
       "<Figure size 1000x800 with 2 Axes>"
      ]
     },
     "metadata": {},
     "output_type": "display_data"
    }
   ],
   "source": [
    "# 5. Visualisation des clusters\n",
    "print(f\"Nombre de clusters détectés : {num_clusters}\")\n",
    "print(f\"Nombre d'outliers : {num_outliers}\")\n",
    "\n",
    "plt.figure(figsize=(10, 8))\n",
    "plt.scatter(\n",
    "    clustered_data['long'], \n",
    "    clustered_data['lat'], \n",
    "    c=clustered_data['cluster_DBSCAN'], \n",
    "    cmap='tab10', \n",
    "    s=10\n",
    ")\n",
    "plt.title(f\"DBSCAN Clustering avec Haversine (eps={eps}, min_samples={min_samples})\")\n",
    "plt.xlabel(\"Longitude\")\n",
    "plt.ylabel(\"Latitude\")\n",
    "plt.colorbar(label=\"Cluster\")\n",
    "plt.grid()\n",
    "plt.show()\n",
    "\n",
    "create_folium_map(clustered_data, 'cluster_DBSCAN', 10000)\n"
   ]
  },
  {
   "attachments": {},
   "cell_type": "markdown",
   "metadata": {},
   "source": [
    "### c) Hierarchical Clustering"
   ]
  },
  {
   "attachments": {},
   "cell_type": "markdown",
   "metadata": {},
   "source": [
    ">Why? Provides a dendrogram to visualize the hierarchy of clusters.<br>\n",
    "Input required: No predefined number of clusters; can be adjusted by cutting the dendrogram.<br>\n",
    "Steps: Compute a linkage matrix using ward or other linkage methods. Cut the dendrogram to form clusters."
   ]
  },
  {
   "cell_type": "code",
   "execution_count": null,
   "metadata": {},
   "outputs": [],
   "source": [
    "# 1. Préparation des données\n",
    "# Sous-échantillonnage des données (garder n points aléatoires pour éviter les blocages)\n",
    "\n",
    "geo_data_sampled = parsed_data.sample(n=50000, random_state=42)\n",
    "geo_data_sampled.reset_index(drop=True)\n",
    "\n",
    "# 2. Création de la matrice de linkage avec les données échantillonnées\n",
    "from scipy.cluster.hierarchy import linkage, dendrogram, fcluster\n",
    "import matplotlib.pyplot as plt\n",
    "\n",
    "linkage_matrix = linkage(geo_data_sampled[features_base], method='ward')\n",
    "\n",
    "# 3. Visualisation du dendrogramme\n",
    "plt.figure(figsize=(12, 8))\n",
    "dendrogram(linkage_matrix, truncate_mode='level', p=5)  # Truncate pour simplifier la visualisation\n",
    "plt.title(\"Dendrogramme (Clustering Hiérarchique - Échantillonné)\")\n",
    "plt.xlabel(\"Points de données\")\n",
    "plt.ylabel(\"Distance\")\n",
    "plt.show()\n",
    "\n",
    "# 4. Découpage du dendrogramme pour obtenir les clusters\n",
    "num_clusters = 100\n",
    "sampled_clusters = fcluster(linkage_matrix, t=num_clusters, criterion='maxclust')\n",
    "\n",
    "# Ajouter les clusters à l'échantillon pour analyse\n",
    "geo_data_sampled['hierarchical_cluster'] = sampled_clusters"
   ]
  },
  {
   "attachments": {},
   "cell_type": "markdown",
   "metadata": {},
   "source": [
    "- Visualizing results"
   ]
  },
  {
   "cell_type": "code",
   "execution_count": null,
   "metadata": {},
   "outputs": [],
   "source": [
    "plt.figure(figsize=(10, 8))\n",
    "plt.scatter(geo_data_sampled['long'], geo_data_sampled['lat'], c=geo_data_sampled['hierarchical_cluster'], cmap='tab10', s=50)\n",
    "plt.title(f\"Clustering Hiérarchique (Nombre de clusters: {num_clusters})\")\n",
    "plt.xlabel(\"Longitude\")\n",
    "plt.ylabel(\"Latitude\")\n",
    "plt.grid()\n",
    "plt.show()\n",
    "create_folium_map(geo_data_sampled, 'hierarchical_cluster', 30000)"
   ]
  },
  {
   "attachments": {},
   "cell_type": "markdown",
   "metadata": {},
   "source": [
    "## #4 post-processing"
   ]
  },
  {
   "cell_type": "code",
   "execution_count": null,
   "metadata": {},
   "outputs": [],
   "source": [
    "post_processed_data = clustered_data\n",
    "post_processed_data.head(1)"
   ]
  },
  {
   "attachments": {},
   "cell_type": "markdown",
   "metadata": {},
   "source": [
    "### a) Filter groups where there isn't enough users: low number of samples or very few users withing the cluster."
   ]
  },
  {
   "cell_type": "code",
   "execution_count": null,
   "metadata": {},
   "outputs": [],
   "source": [
    "user_limit = 5\n",
    "for cluster_i in range(post_processed_data[\"cluster_DBSCAN\"].nunique()):\n",
    "    cluster = post_processed_data[post_processed_data.cluster_DBSCAN == cluster_i]\n",
    "    nbUsers = cluster[\"user\"].nunique()\n",
    "    if(nbUsers < user_limit):\n",
    "        cluster.to_csv(\n",
    "            \"data/post_processing/insufficient_users_clusters/\"+str(cluster_i)+\".csv\",\n",
    "        index=False)\n",
    "        post_processed_data = post_processed_data[~post_processed_data[\"id\"].isin(cluster[\"id\"])]\n",
    "parse_conclusion(post_processed_data)"
   ]
  },
  {
   "attachments": {},
   "cell_type": "markdown",
   "metadata": {},
   "source": [
    "### b) Suppression des stopwords"
   ]
  },
  {
   "cell_type": "code",
   "execution_count": null,
   "metadata": {},
   "outputs": [],
   "source": [
    "# Charger les stopwords en français et en anglais\n",
    "stop_words = set(stopwords.words('french') + stopwords.words('english'))\n",
    "\n",
    "def clean_title(raw_title):\n",
    "    \"\"\"\n",
    "    Nettoyer les titres en supprimant les caractères spéciaux sauf les chiffres,\n",
    "    en normalisant en minuscules, et en supprimant les stopwords.\n",
    "    \"\"\"\n",
    "    # 1. Supprimer les caractères spéciaux sauf les chiffres et normaliser en minuscules\n",
    "    raw_title = re.sub(r'[^a-zA-Z0-9 ]', '', raw_title.lower())\n",
    "    \n",
    "    # 2. Supprimer les stopwords\n",
    "    meaningful_words = [word for word in raw_title.split() if word not in stop_words]\n",
    "    \n",
    "    # 3. Joindre les mots nettoyés en une chaîne\n",
    "    return \" \".join(meaningful_words)\n",
    "\n",
    "# Appliquer la fonction à la colonne \"title\"\n",
    "clustered_data[\"title_clean\"] = clustered_data[\"title\"].fillna(\"\").apply(clean_title)\n",
    "\n",
    "# Afficher un aperçu des résultats\n",
    "print(clustered_data[[\"title\", \"title_clean\"]].head(10))"
   ]
  },
  {
   "cell_type": "code",
   "execution_count": null,
   "metadata": {},
   "outputs": [],
   "source": [
    "def split_tags(raw_tags):\n",
    "    \"\"\"\n",
    "    Diviser les tags par des virgules.\n",
    "    \"\"\"\n",
    "    return raw_tags.split(\",\") if isinstance(raw_tags, str) else []\n",
    "    \n",
    "# Appliquer le split sur la colonne \"tags\"\n",
    "clustered_data[\"tags_split\"] = clustered_data[\"tags\"].fillna(\"\").apply(split_tags)\n",
    "\n",
    "# Afficher un aperçu des tags splittés\n",
    "print(clustered_data[[\"tags\", \"tags_split\"]].head(10))"
   ]
  }
 ],
 "metadata": {
  "kernelspec": {
   "display_name": "Python 3",
   "language": "python",
   "name": "python3"
  },
  "language_info": {
   "codemirror_mode": {
    "name": "ipython",
    "version": 3
   },
   "file_extension": ".py",
   "mimetype": "text/x-python",
   "name": "python",
   "nbconvert_exporter": "python",
   "pygments_lexer": "ipython3",
   "version": "3.11.9"
  }
 },
 "nbformat": 4,
 "nbformat_minor": 2
}
