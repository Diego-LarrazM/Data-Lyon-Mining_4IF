{
 "cells": [
  {
   "cell_type": "markdown",
   "metadata": {},
   "source": [
    "# <center>Data Mining project: Discover and describe areas of interest<br> and events from geo-located parsed_data</center>"
   ]
  },
  {
   "attachments": {},
   "cell_type": "markdown",
   "metadata": {},
   "source": [
    "# 0/ Import Dataset and Libraries"
   ]
  },
  {
   "attachments": {},
   "cell_type": "markdown",
   "metadata": {},
   "source": [
    "## #1 Setting Environment"
   ]
  },
  {
   "cell_type": "code",
   "execution_count": 1,
   "metadata": {},
   "outputs": [],
   "source": [
    "! python -m venv dataMiningEnv\n",
    "#Activate windows\n",
    "#! dataMiningEnv\\Scripts\\activate.bat\n",
    "\n",
    "#Activate mac\n",
    "! source dataMiningEnv/bin/activate\n"
   ]
  },
  {
   "attachments": {},
   "cell_type": "markdown",
   "metadata": {},
   "source": [
    "## #2 Importing Libraries"
   ]
  },
  {
   "cell_type": "markdown",
   "metadata": {},
   "source": [
    "- ### Installs"
   ]
  },
  {
   "cell_type": "code",
   "execution_count": 2,
   "metadata": {},
   "outputs": [
    {
     "name": "stdout",
     "output_type": "stream",
     "text": [
      "Requirement already satisfied: numpy==1.26.0 in /Users/saadelghissassi/opt/anaconda3/lib/python3.9/site-packages (1.26.0)\n",
      "Requirement already satisfied: pandas==2.1.1 in /Users/saadelghissassi/opt/anaconda3/lib/python3.9/site-packages (2.1.1)\n",
      "Requirement already satisfied: numpy>=1.22.4 in /Users/saadelghissassi/opt/anaconda3/lib/python3.9/site-packages (from pandas==2.1.1) (1.26.0)\n",
      "Requirement already satisfied: python-dateutil>=2.8.2 in /Users/saadelghissassi/opt/anaconda3/lib/python3.9/site-packages (from pandas==2.1.1) (2.8.2)\n",
      "Requirement already satisfied: pytz>=2020.1 in /Users/saadelghissassi/opt/anaconda3/lib/python3.9/site-packages (from pandas==2.1.1) (2021.3)\n",
      "Requirement already satisfied: tzdata>=2022.1 in /Users/saadelghissassi/opt/anaconda3/lib/python3.9/site-packages (from pandas==2.1.1) (2024.2)\n",
      "Requirement already satisfied: six>=1.5 in /Users/saadelghissassi/opt/anaconda3/lib/python3.9/site-packages (from python-dateutil>=2.8.2->pandas==2.1.1) (1.16.0)\n",
      "Requirement already satisfied: scikit-learn==1.5.1 in /Users/saadelghissassi/opt/anaconda3/lib/python3.9/site-packages (1.5.1)\n",
      "Requirement already satisfied: numpy>=1.19.5 in /Users/saadelghissassi/opt/anaconda3/lib/python3.9/site-packages (from scikit-learn==1.5.1) (1.26.0)\n",
      "Requirement already satisfied: scipy>=1.6.0 in /Users/saadelghissassi/opt/anaconda3/lib/python3.9/site-packages (from scikit-learn==1.5.1) (1.12.0)\n",
      "Requirement already satisfied: joblib>=1.2.0 in /Users/saadelghissassi/opt/anaconda3/lib/python3.9/site-packages (from scikit-learn==1.5.1) (1.4.2)\n",
      "Requirement already satisfied: threadpoolctl>=3.1.0 in /Users/saadelghissassi/opt/anaconda3/lib/python3.9/site-packages (from scikit-learn==1.5.1) (3.5.0)\n",
      "Requirement already satisfied: scipy==1.12.0 in /Users/saadelghissassi/opt/anaconda3/lib/python3.9/site-packages (1.12.0)\n",
      "Requirement already satisfied: numpy<1.29.0,>=1.22.4 in /Users/saadelghissassi/opt/anaconda3/lib/python3.9/site-packages (from scipy==1.12.0) (1.26.0)\n",
      "Requirement already satisfied: plotly==5.24.1 in /Users/saadelghissassi/opt/anaconda3/lib/python3.9/site-packages (5.24.1)\n",
      "Requirement already satisfied: tenacity>=6.2.0 in /Users/saadelghissassi/opt/anaconda3/lib/python3.9/site-packages (from plotly==5.24.1) (8.0.1)\n",
      "Requirement already satisfied: packaging in /Users/saadelghissassi/opt/anaconda3/lib/python3.9/site-packages (from plotly==5.24.1) (21.0)\n",
      "Requirement already satisfied: pyparsing>=2.0.2 in /Users/saadelghissassi/opt/anaconda3/lib/python3.9/site-packages (from packaging->plotly==5.24.1) (3.0.4)\n",
      "Requirement already satisfied: matplotlib==3.8.0 in /Users/saadelghissassi/opt/anaconda3/lib/python3.9/site-packages (3.8.0)\n",
      "Requirement already satisfied: contourpy>=1.0.1 in /Users/saadelghissassi/opt/anaconda3/lib/python3.9/site-packages (from matplotlib==3.8.0) (1.3.0)\n",
      "Requirement already satisfied: cycler>=0.10 in /Users/saadelghissassi/opt/anaconda3/lib/python3.9/site-packages (from matplotlib==3.8.0) (0.10.0)\n",
      "Requirement already satisfied: fonttools>=4.22.0 in /Users/saadelghissassi/opt/anaconda3/lib/python3.9/site-packages (from matplotlib==3.8.0) (4.25.0)\n",
      "Requirement already satisfied: kiwisolver>=1.0.1 in /Users/saadelghissassi/opt/anaconda3/lib/python3.9/site-packages (from matplotlib==3.8.0) (1.3.1)\n",
      "Requirement already satisfied: numpy<2,>=1.21 in /Users/saadelghissassi/opt/anaconda3/lib/python3.9/site-packages (from matplotlib==3.8.0) (1.26.0)\n",
      "Requirement already satisfied: packaging>=20.0 in /Users/saadelghissassi/opt/anaconda3/lib/python3.9/site-packages (from matplotlib==3.8.0) (21.0)\n",
      "Requirement already satisfied: pillow>=6.2.0 in /Users/saadelghissassi/opt/anaconda3/lib/python3.9/site-packages (from matplotlib==3.8.0) (8.4.0)\n",
      "Requirement already satisfied: pyparsing>=2.3.1 in /Users/saadelghissassi/opt/anaconda3/lib/python3.9/site-packages (from matplotlib==3.8.0) (3.0.4)\n",
      "Requirement already satisfied: python-dateutil>=2.7 in /Users/saadelghissassi/opt/anaconda3/lib/python3.9/site-packages (from matplotlib==3.8.0) (2.8.2)\n",
      "Requirement already satisfied: importlib-resources>=3.2.0 in /Users/saadelghissassi/opt/anaconda3/lib/python3.9/site-packages (from matplotlib==3.8.0) (6.5.2)\n",
      "Requirement already satisfied: six in /Users/saadelghissassi/opt/anaconda3/lib/python3.9/site-packages (from cycler>=0.10->matplotlib==3.8.0) (1.16.0)\n",
      "Requirement already satisfied: zipp>=3.1.0 in /Users/saadelghissassi/opt/anaconda3/lib/python3.9/site-packages (from importlib-resources>=3.2.0->matplotlib==3.8.0) (3.6.0)\n",
      "Requirement already satisfied: seaborn==0.13.2 in /Users/saadelghissassi/opt/anaconda3/lib/python3.9/site-packages (0.13.2)\n",
      "Requirement already satisfied: numpy!=1.24.0,>=1.20 in /Users/saadelghissassi/opt/anaconda3/lib/python3.9/site-packages (from seaborn==0.13.2) (1.26.0)\n",
      "Requirement already satisfied: pandas>=1.2 in /Users/saadelghissassi/opt/anaconda3/lib/python3.9/site-packages (from seaborn==0.13.2) (2.1.1)\n",
      "Requirement already satisfied: matplotlib!=3.6.1,>=3.4 in /Users/saadelghissassi/opt/anaconda3/lib/python3.9/site-packages (from seaborn==0.13.2) (3.8.0)\n",
      "Requirement already satisfied: contourpy>=1.0.1 in /Users/saadelghissassi/opt/anaconda3/lib/python3.9/site-packages (from matplotlib!=3.6.1,>=3.4->seaborn==0.13.2) (1.3.0)\n",
      "Requirement already satisfied: cycler>=0.10 in /Users/saadelghissassi/opt/anaconda3/lib/python3.9/site-packages (from matplotlib!=3.6.1,>=3.4->seaborn==0.13.2) (0.10.0)\n",
      "Requirement already satisfied: fonttools>=4.22.0 in /Users/saadelghissassi/opt/anaconda3/lib/python3.9/site-packages (from matplotlib!=3.6.1,>=3.4->seaborn==0.13.2) (4.25.0)\n",
      "Requirement already satisfied: kiwisolver>=1.0.1 in /Users/saadelghissassi/opt/anaconda3/lib/python3.9/site-packages (from matplotlib!=3.6.1,>=3.4->seaborn==0.13.2) (1.3.1)\n",
      "Requirement already satisfied: packaging>=20.0 in /Users/saadelghissassi/opt/anaconda3/lib/python3.9/site-packages (from matplotlib!=3.6.1,>=3.4->seaborn==0.13.2) (21.0)\n",
      "Requirement already satisfied: pillow>=6.2.0 in /Users/saadelghissassi/opt/anaconda3/lib/python3.9/site-packages (from matplotlib!=3.6.1,>=3.4->seaborn==0.13.2) (8.4.0)\n",
      "Requirement already satisfied: pyparsing>=2.3.1 in /Users/saadelghissassi/opt/anaconda3/lib/python3.9/site-packages (from matplotlib!=3.6.1,>=3.4->seaborn==0.13.2) (3.0.4)\n",
      "Requirement already satisfied: python-dateutil>=2.7 in /Users/saadelghissassi/opt/anaconda3/lib/python3.9/site-packages (from matplotlib!=3.6.1,>=3.4->seaborn==0.13.2) (2.8.2)\n",
      "Requirement already satisfied: importlib-resources>=3.2.0 in /Users/saadelghissassi/opt/anaconda3/lib/python3.9/site-packages (from matplotlib!=3.6.1,>=3.4->seaborn==0.13.2) (6.5.2)\n",
      "Requirement already satisfied: pytz>=2020.1 in /Users/saadelghissassi/opt/anaconda3/lib/python3.9/site-packages (from pandas>=1.2->seaborn==0.13.2) (2021.3)\n",
      "Requirement already satisfied: tzdata>=2022.1 in /Users/saadelghissassi/opt/anaconda3/lib/python3.9/site-packages (from pandas>=1.2->seaborn==0.13.2) (2024.2)\n",
      "Requirement already satisfied: six in /Users/saadelghissassi/opt/anaconda3/lib/python3.9/site-packages (from cycler>=0.10->matplotlib!=3.6.1,>=3.4->seaborn==0.13.2) (1.16.0)\n",
      "Requirement already satisfied: zipp>=3.1.0 in /Users/saadelghissassi/opt/anaconda3/lib/python3.9/site-packages (from importlib-resources>=3.2.0->matplotlib!=3.6.1,>=3.4->seaborn==0.13.2) (3.6.0)\n",
      "Requirement already satisfied: plotly-express==0.4.1 in /Users/saadelghissassi/opt/anaconda3/lib/python3.9/site-packages (0.4.1)\n",
      "Requirement already satisfied: pandas>=0.20.0 in /Users/saadelghissassi/opt/anaconda3/lib/python3.9/site-packages (from plotly-express==0.4.1) (2.1.1)\n",
      "Requirement already satisfied: plotly>=4.1.0 in /Users/saadelghissassi/opt/anaconda3/lib/python3.9/site-packages (from plotly-express==0.4.1) (5.24.1)\n",
      "Requirement already satisfied: statsmodels>=0.9.0 in /Users/saadelghissassi/opt/anaconda3/lib/python3.9/site-packages (from plotly-express==0.4.1) (0.12.2)\n",
      "Requirement already satisfied: scipy>=0.18 in /Users/saadelghissassi/opt/anaconda3/lib/python3.9/site-packages (from plotly-express==0.4.1) (1.12.0)\n",
      "Requirement already satisfied: patsy>=0.5 in /Users/saadelghissassi/opt/anaconda3/lib/python3.9/site-packages (from plotly-express==0.4.1) (0.5.2)\n",
      "Requirement already satisfied: numpy>=1.11 in /Users/saadelghissassi/opt/anaconda3/lib/python3.9/site-packages (from plotly-express==0.4.1) (1.26.0)\n",
      "Requirement already satisfied: python-dateutil>=2.8.2 in /Users/saadelghissassi/opt/anaconda3/lib/python3.9/site-packages (from pandas>=0.20.0->plotly-express==0.4.1) (2.8.2)\n",
      "Requirement already satisfied: pytz>=2020.1 in /Users/saadelghissassi/opt/anaconda3/lib/python3.9/site-packages (from pandas>=0.20.0->plotly-express==0.4.1) (2021.3)\n",
      "Requirement already satisfied: tzdata>=2022.1 in /Users/saadelghissassi/opt/anaconda3/lib/python3.9/site-packages (from pandas>=0.20.0->plotly-express==0.4.1) (2024.2)\n",
      "Requirement already satisfied: six in /Users/saadelghissassi/opt/anaconda3/lib/python3.9/site-packages (from patsy>=0.5->plotly-express==0.4.1) (1.16.0)\n",
      "Requirement already satisfied: tenacity>=6.2.0 in /Users/saadelghissassi/opt/anaconda3/lib/python3.9/site-packages (from plotly>=4.1.0->plotly-express==0.4.1) (8.0.1)\n",
      "Requirement already satisfied: packaging in /Users/saadelghissassi/opt/anaconda3/lib/python3.9/site-packages (from plotly>=4.1.0->plotly-express==0.4.1) (21.0)\n",
      "Requirement already satisfied: pyparsing>=2.0.2 in /Users/saadelghissassi/opt/anaconda3/lib/python3.9/site-packages (from packaging->plotly>=4.1.0->plotly-express==0.4.1) (3.0.4)\n",
      "Requirement already satisfied: chart-studio==1.1.0 in /Users/saadelghissassi/opt/anaconda3/lib/python3.9/site-packages (1.1.0)\n",
      "Requirement already satisfied: plotly in /Users/saadelghissassi/opt/anaconda3/lib/python3.9/site-packages (from chart-studio==1.1.0) (5.24.1)\n",
      "Requirement already satisfied: requests in /Users/saadelghissassi/opt/anaconda3/lib/python3.9/site-packages (from chart-studio==1.1.0) (2.26.0)\n",
      "Requirement already satisfied: retrying>=1.3.3 in /Users/saadelghissassi/opt/anaconda3/lib/python3.9/site-packages (from chart-studio==1.1.0) (1.3.4)\n",
      "Requirement already satisfied: six in /Users/saadelghissassi/opt/anaconda3/lib/python3.9/site-packages (from chart-studio==1.1.0) (1.16.0)\n",
      "Requirement already satisfied: tenacity>=6.2.0 in /Users/saadelghissassi/opt/anaconda3/lib/python3.9/site-packages (from plotly->chart-studio==1.1.0) (8.0.1)\n",
      "Requirement already satisfied: packaging in /Users/saadelghissassi/opt/anaconda3/lib/python3.9/site-packages (from plotly->chart-studio==1.1.0) (21.0)\n",
      "Requirement already satisfied: urllib3<1.27,>=1.21.1 in /Users/saadelghissassi/opt/anaconda3/lib/python3.9/site-packages (from requests->chart-studio==1.1.0) (1.26.7)\n",
      "Requirement already satisfied: certifi>=2017.4.17 in /Users/saadelghissassi/opt/anaconda3/lib/python3.9/site-packages (from requests->chart-studio==1.1.0) (2024.2.2)\n",
      "Requirement already satisfied: charset-normalizer~=2.0.0 in /Users/saadelghissassi/opt/anaconda3/lib/python3.9/site-packages (from requests->chart-studio==1.1.0) (2.0.4)\n",
      "Requirement already satisfied: idna<4,>=2.5 in /Users/saadelghissassi/opt/anaconda3/lib/python3.9/site-packages (from requests->chart-studio==1.1.0) (3.2)\n",
      "Requirement already satisfied: pyparsing>=2.0.2 in /Users/saadelghissassi/opt/anaconda3/lib/python3.9/site-packages (from packaging->plotly->chart-studio==1.1.0) (3.0.4)\n",
      "\u001b[31mERROR: Ignored the following versions that require a different python version: 0.55.2 Requires-Python <3.5; 1.12.1 Requires-Python >=3.7, !=3.9.7; 1.12.1rc1 Requires-Python >=3.7, !=3.9.7; 1.12.2 Requires-Python >=3.7, !=3.9.7; 1.12.2rc1 Requires-Python >=3.7, !=3.9.7; 1.12.2rc2 Requires-Python >=3.7, !=3.9.7; 1.13.0 Requires-Python >=3.7, !=3.9.7; 1.13.0rc1 Requires-Python >=3.7, !=3.9.7; 1.13.0rc2 Requires-Python >=3.7, !=3.9.7; 1.14.0 Requires-Python >=3.7, !=3.9.7; 1.14.0rc1 Requires-Python >=3.7, !=3.9.7; 1.14.1 Requires-Python >=3.7, !=3.9.7; 1.14.1rc1 Requires-Python >=3.7, !=3.9.7; 1.15.0 Requires-Python >=3.7, !=3.9.7; 1.15.1 Requires-Python >=3.7, !=3.9.7; 1.15.2 Requires-Python >=3.7, !=3.9.7; 1.15.2rc1 Requires-Python >=3.7, !=3.9.7; 1.16.0 Requires-Python >=3.7, !=3.9.7; 1.17.0 Requires-Python >=3.7, !=3.9.7; 1.18.0 Requires-Python >=3.7, !=3.9.7; 1.18.1 Requires-Python >=3.7, !=3.9.7; 1.18.1rc1 Requires-Python >=3.7, !=3.9.7; 1.19.0 Requires-Python >=3.7, !=3.9.7; 1.20.0 Requires-Python >=3.7, !=3.9.7; 1.21.0 Requires-Python >=3.7, !=3.9.7; 1.22.0 Requires-Python >=3.7, !=3.9.7; 1.23.0 Requires-Python >=3.7, !=3.9.7; 1.23.1 Requires-Python >=3.7, !=3.9.7; 1.24.0 Requires-Python >=3.8, !=3.9.7; 1.24.1 Requires-Python >=3.8, !=3.9.7; 1.25.0 Requires-Python >=3.8, !=3.9.7; 1.26.0 Requires-Python >=3.8, !=3.9.7; 1.26.1 Requires-Python !=3.9.7,>=3.8; 1.27.0 Requires-Python >=3.8, !=3.9.7; 1.27.1 Requires-Python >=3.8, !=3.9.7; 1.27.2 Requires-Python >=3.8, !=3.9.7; 1.28.0 Requires-Python >=3.8, !=3.9.7; 1.28.1 Requires-Python >=3.8, !=3.9.7; 1.28.2 Requires-Python >=3.8, !=3.9.7; 1.29.0 Requires-Python >=3.8, !=3.9.7; 1.30.0 Requires-Python >=3.8, !=3.9.7; 1.31.0 Requires-Python >=3.8, !=3.9.7; 1.31.1 Requires-Python >=3.8, !=3.9.7; 1.32.0 Requires-Python >=3.8, !=3.9.7; 1.32.1 Requires-Python >=3.8, !=3.9.7; 1.32.2 Requires-Python >=3.8, !=3.9.7; 1.32.2rc1 Requires-Python >=3.8, !=3.9.7; 1.33.0 Requires-Python !=3.9.7,>=3.8; 1.34.0 Requires-Python !=3.9.7,>=3.8; 1.35.0 Requires-Python !=3.9.7,>=3.8; 1.36.0 Requires-Python !=3.9.7,>=3.8; 1.37.0 Requires-Python !=3.9.7,>=3.8; 1.37.1 Requires-Python !=3.9.7,>=3.8; 1.38.0 Requires-Python !=3.9.7,>=3.8; 1.39.0 Requires-Python !=3.9.7,>=3.8; 1.40.0 Requires-Python !=3.9.7,>=3.8; 1.40.1 Requires-Python !=3.9.7,>=3.8; 1.40.2 Requires-Python !=3.9.7,>=3.9; 1.41.0 Requires-Python !=3.9.7,>=3.9; 1.41.1 Requires-Python !=3.9.7,>=3.9\u001b[0m\u001b[31m\n",
      "\u001b[0m\u001b[31mERROR: Could not find a version that satisfies the requirement streamlit==1.37.1 (from versions: 0.1, 0.2, 0.3, 0.4, 0.5, 0.6, 0.7, 0.8, 0.8.2, 0.9.0, 0.11.0, 0.12.2, 0.12.3, 0.12.4, 0.13.0, 0.13.1, 0.13.3, 0.13.5, 0.14.2, 0.15.0, 0.15.1, 0.15.2, 0.15.3, 0.15.4, 0.15.5, 0.15.6, 0.16.0, 0.16.1, 0.16.2, 0.16.3, 0.17.0, 0.17.1, 0.17.2, 0.18.0, 0.18.1, 0.19.0, 0.19.1, 0.20.0, 0.21.0, 0.22.0, 0.22.1, 0.22.2, 0.23.0, 0.24.0, 0.24.1, 0.24.2, 0.24.3, 0.25.0, 0.26.0, 0.26.1, 0.27.0, 0.28.0, 0.29.0, 0.30.0, 0.31.0, 0.32.0, 0.33.0, 0.34.0, 0.35.0, 0.36.0, 0.37.0, 0.40.0, 0.40.1, 0.41.0, 0.42.0, 0.43.0, 0.43.1, 0.43.2, 0.44.0, 0.45.0, 0.46.0, 0.47.0, 0.47.1, 0.47.2, 0.47.3, 0.47.4, 0.48.0, 0.48.1, 0.49.0, 0.50.0, 0.50.1, 0.50.2, 0.51.0, 0.52.0, 0.52.1, 0.52.2, 0.53.0, 0.54.0, 0.55.0, 0.56.0, 0.57.0, 0.57.1, 0.57.2, 0.57.3, 0.58.0, 0.59.0, 0.60.0, 0.61.0, 0.62.0, 0.62.1, 0.63.0, 0.63.1, 0.64.0, 0.65.0, 0.65.1, 0.65.2, 0.66.0, 0.67.0, 0.67.1, 0.68.0, 0.68.1, 0.69.0, 0.69.1, 0.69.2, 0.70.0, 0.71.0, 0.72.0, 0.73.0, 0.73.1, 0.74.0, 0.74.1, 0.75.0, 0.76.0, 0.77.0, 0.78.0, 0.79.0, 0.80.0, 0.81.0, 0.81.1, 0.82.0, 0.83.0, 0.84.0, 0.84.1, 0.84.2, 0.85.0, 0.85.1, 0.86.0, 0.87.0, 0.88.0, 0.89.0, 1.0.0, 1.1.0, 1.2.0, 1.3.0, 1.3.1, 1.4.0, 1.5.0, 1.5.1, 1.6.0rc3, 1.6.0rc4, 1.6.0, 1.7.0, 1.8.0rc1, 1.8.0, 1.8.1rc1, 1.8.1, 1.9.0rc1, 1.9.0, 1.9.1rc1, 1.9.1rc2, 1.9.1, 1.9.2rc1, 1.9.2, 1.10.0rc1, 1.10.0rc2, 1.10.0, 1.11.0rc1, 1.11.0, 1.11.1rc1, 1.11.1, 1.12.0rc1, 1.12.0rc2, 1.12.0)\u001b[0m\u001b[31m\n",
      "\u001b[0m\u001b[31mERROR: No matching distribution found for streamlit==1.37.1\u001b[0m\u001b[31m\n",
      "\u001b[0mRequirement already satisfied: mlxtend==0.23.3 in /Users/saadelghissassi/opt/anaconda3/lib/python3.9/site-packages (0.23.3)\n",
      "Requirement already satisfied: scipy>=1.2.1 in /Users/saadelghissassi/opt/anaconda3/lib/python3.9/site-packages (from mlxtend==0.23.3) (1.12.0)\n",
      "Requirement already satisfied: numpy>=1.16.2 in /Users/saadelghissassi/opt/anaconda3/lib/python3.9/site-packages (from mlxtend==0.23.3) (1.26.0)\n",
      "Requirement already satisfied: pandas>=0.24.2 in /Users/saadelghissassi/opt/anaconda3/lib/python3.9/site-packages (from mlxtend==0.23.3) (2.1.1)\n",
      "Requirement already satisfied: scikit-learn>=1.3.1 in /Users/saadelghissassi/opt/anaconda3/lib/python3.9/site-packages (from mlxtend==0.23.3) (1.5.1)\n",
      "Requirement already satisfied: matplotlib>=3.0.0 in /Users/saadelghissassi/opt/anaconda3/lib/python3.9/site-packages (from mlxtend==0.23.3) (3.8.0)\n",
      "Requirement already satisfied: joblib>=0.13.2 in /Users/saadelghissassi/opt/anaconda3/lib/python3.9/site-packages (from mlxtend==0.23.3) (1.4.2)\n",
      "Requirement already satisfied: contourpy>=1.0.1 in /Users/saadelghissassi/opt/anaconda3/lib/python3.9/site-packages (from matplotlib>=3.0.0->mlxtend==0.23.3) (1.3.0)\n",
      "Requirement already satisfied: cycler>=0.10 in /Users/saadelghissassi/opt/anaconda3/lib/python3.9/site-packages (from matplotlib>=3.0.0->mlxtend==0.23.3) (0.10.0)\n",
      "Requirement already satisfied: fonttools>=4.22.0 in /Users/saadelghissassi/opt/anaconda3/lib/python3.9/site-packages (from matplotlib>=3.0.0->mlxtend==0.23.3) (4.25.0)\n",
      "Requirement already satisfied: kiwisolver>=1.0.1 in /Users/saadelghissassi/opt/anaconda3/lib/python3.9/site-packages (from matplotlib>=3.0.0->mlxtend==0.23.3) (1.3.1)\n",
      "Requirement already satisfied: packaging>=20.0 in /Users/saadelghissassi/opt/anaconda3/lib/python3.9/site-packages (from matplotlib>=3.0.0->mlxtend==0.23.3) (21.0)\n",
      "Requirement already satisfied: pillow>=6.2.0 in /Users/saadelghissassi/opt/anaconda3/lib/python3.9/site-packages (from matplotlib>=3.0.0->mlxtend==0.23.3) (8.4.0)\n",
      "Requirement already satisfied: pyparsing>=2.3.1 in /Users/saadelghissassi/opt/anaconda3/lib/python3.9/site-packages (from matplotlib>=3.0.0->mlxtend==0.23.3) (3.0.4)\n",
      "Requirement already satisfied: python-dateutil>=2.7 in /Users/saadelghissassi/opt/anaconda3/lib/python3.9/site-packages (from matplotlib>=3.0.0->mlxtend==0.23.3) (2.8.2)\n",
      "Requirement already satisfied: importlib-resources>=3.2.0 in /Users/saadelghissassi/opt/anaconda3/lib/python3.9/site-packages (from matplotlib>=3.0.0->mlxtend==0.23.3) (6.5.2)\n",
      "Requirement already satisfied: pytz>=2020.1 in /Users/saadelghissassi/opt/anaconda3/lib/python3.9/site-packages (from pandas>=0.24.2->mlxtend==0.23.3) (2021.3)\n",
      "Requirement already satisfied: tzdata>=2022.1 in /Users/saadelghissassi/opt/anaconda3/lib/python3.9/site-packages (from pandas>=0.24.2->mlxtend==0.23.3) (2024.2)\n",
      "Requirement already satisfied: threadpoolctl>=3.1.0 in /Users/saadelghissassi/opt/anaconda3/lib/python3.9/site-packages (from scikit-learn>=1.3.1->mlxtend==0.23.3) (3.5.0)\n",
      "Requirement already satisfied: six in /Users/saadelghissassi/opt/anaconda3/lib/python3.9/site-packages (from cycler>=0.10->matplotlib>=3.0.0->mlxtend==0.23.3) (1.16.0)\n",
      "Requirement already satisfied: zipp>=3.1.0 in /Users/saadelghissassi/opt/anaconda3/lib/python3.9/site-packages (from importlib-resources>=3.2.0->matplotlib>=3.0.0->mlxtend==0.23.3) (3.6.0)\n",
      "Requirement already satisfied: nltk in /Users/saadelghissassi/opt/anaconda3/lib/python3.9/site-packages (3.6.5)\n",
      "Requirement already satisfied: click in /Users/saadelghissassi/opt/anaconda3/lib/python3.9/site-packages (from nltk) (8.0.3)\n",
      "Requirement already satisfied: joblib in /Users/saadelghissassi/opt/anaconda3/lib/python3.9/site-packages (from nltk) (1.4.2)\n",
      "Requirement already satisfied: regex>=2021.8.3 in /Users/saadelghissassi/opt/anaconda3/lib/python3.9/site-packages (from nltk) (2021.8.3)\n",
      "Requirement already satisfied: tqdm in /Users/saadelghissassi/opt/anaconda3/lib/python3.9/site-packages (from nltk) (4.62.3)\n",
      "/Users/saadelghissassi/opt/anaconda3/lib/python3.9/runpy.py:127: RuntimeWarning: 'nltk.downloader' found in sys.modules after import of package 'nltk', but prior to execution of 'nltk.downloader'; this may result in unpredictable behaviour\n",
      "  warn(RuntimeWarning(msg))\n",
      "[nltk_data] Downloading collection 'popular'\n",
      "[nltk_data]    | \n",
      "[nltk_data]    | Downloading package cmudict to\n",
      "[nltk_data]    |     /Users/saadelghissassi/nltk_data...\n",
      "[nltk_data]    |   Package cmudict is already up-to-date!\n",
      "[nltk_data]    | Downloading package gazetteers to\n",
      "[nltk_data]    |     /Users/saadelghissassi/nltk_data...\n",
      "[nltk_data]    |   Package gazetteers is already up-to-date!\n",
      "[nltk_data]    | Downloading package genesis to\n",
      "[nltk_data]    |     /Users/saadelghissassi/nltk_data...\n",
      "[nltk_data]    |   Package genesis is already up-to-date!\n",
      "[nltk_data]    | Downloading package gutenberg to\n",
      "[nltk_data]    |     /Users/saadelghissassi/nltk_data...\n",
      "[nltk_data]    |   Package gutenberg is already up-to-date!\n",
      "[nltk_data]    | Downloading package inaugural to\n",
      "[nltk_data]    |     /Users/saadelghissassi/nltk_data...\n",
      "[nltk_data]    |   Package inaugural is already up-to-date!\n",
      "[nltk_data]    | Downloading package movie_reviews to\n",
      "[nltk_data]    |     /Users/saadelghissassi/nltk_data...\n",
      "[nltk_data]    |   Package movie_reviews is already up-to-date!\n",
      "[nltk_data]    | Downloading package names to\n",
      "[nltk_data]    |     /Users/saadelghissassi/nltk_data...\n",
      "[nltk_data]    |   Package names is already up-to-date!\n",
      "[nltk_data]    | Downloading package shakespeare to\n",
      "[nltk_data]    |     /Users/saadelghissassi/nltk_data...\n",
      "[nltk_data]    |   Package shakespeare is already up-to-date!\n",
      "[nltk_data]    | Downloading package stopwords to\n",
      "[nltk_data]    |     /Users/saadelghissassi/nltk_data...\n",
      "[nltk_data]    |   Package stopwords is already up-to-date!\n",
      "[nltk_data]    | Downloading package treebank to\n",
      "[nltk_data]    |     /Users/saadelghissassi/nltk_data...\n",
      "[nltk_data]    |   Package treebank is already up-to-date!\n",
      "[nltk_data]    | Downloading package twitter_samples to\n",
      "[nltk_data]    |     /Users/saadelghissassi/nltk_data...\n",
      "[nltk_data]    |   Package twitter_samples is already up-to-date!\n",
      "[nltk_data]    | Downloading package omw to\n",
      "[nltk_data]    |     /Users/saadelghissassi/nltk_data...\n",
      "[nltk_data]    |   Package omw is already up-to-date!\n",
      "[nltk_data]    | Downloading package omw-1.4 to\n",
      "[nltk_data]    |     /Users/saadelghissassi/nltk_data...\n",
      "[nltk_data]    |   Package omw-1.4 is already up-to-date!\n",
      "[nltk_data]    | Downloading package wordnet to\n",
      "[nltk_data]    |     /Users/saadelghissassi/nltk_data...\n",
      "[nltk_data]    |   Package wordnet is already up-to-date!\n",
      "[nltk_data]    | Downloading package wordnet2021 to\n",
      "[nltk_data]    |     /Users/saadelghissassi/nltk_data...\n",
      "[nltk_data]    |   Package wordnet2021 is already up-to-date!\n",
      "[nltk_data]    | Downloading package wordnet31 to\n",
      "[nltk_data]    |     /Users/saadelghissassi/nltk_data...\n",
      "[nltk_data]    |   Package wordnet31 is already up-to-date!\n",
      "[nltk_data]    | Downloading package wordnet_ic to\n",
      "[nltk_data]    |     /Users/saadelghissassi/nltk_data...\n",
      "[nltk_data]    |   Package wordnet_ic is already up-to-date!\n",
      "[nltk_data]    | Downloading package words to\n",
      "[nltk_data]    |     /Users/saadelghissassi/nltk_data...\n",
      "[nltk_data]    |   Package words is already up-to-date!\n",
      "[nltk_data]    | Downloading package maxent_ne_chunker to\n",
      "[nltk_data]    |     /Users/saadelghissassi/nltk_data...\n",
      "[nltk_data]    |   Package maxent_ne_chunker is already up-to-date!\n",
      "[nltk_data]    | Downloading package punkt to\n",
      "[nltk_data]    |     /Users/saadelghissassi/nltk_data...\n",
      "[nltk_data]    |   Package punkt is already up-to-date!\n",
      "[nltk_data]    | Downloading package snowball_data to\n",
      "[nltk_data]    |     /Users/saadelghissassi/nltk_data...\n",
      "[nltk_data]    |   Package snowball_data is already up-to-date!\n",
      "[nltk_data]    | Downloading package averaged_perceptron_tagger to\n",
      "[nltk_data]    |     /Users/saadelghissassi/nltk_data...\n",
      "[nltk_data]    |   Package averaged_perceptron_tagger is already up-\n",
      "[nltk_data]    |       to-date!\n",
      "[nltk_data]    | \n",
      "[nltk_data]  Done downloading collection popular\n",
      "Requirement already satisfied: folium==0.12.1 in /Users/saadelghissassi/opt/anaconda3/lib/python3.9/site-packages (0.12.1)\n",
      "Requirement already satisfied: branca>=0.3.0 in /Users/saadelghissassi/opt/anaconda3/lib/python3.9/site-packages (from folium==0.12.1) (0.6.0)\n",
      "Requirement already satisfied: jinja2>=2.9 in /Users/saadelghissassi/opt/anaconda3/lib/python3.9/site-packages (from folium==0.12.1) (2.11.3)\n",
      "Requirement already satisfied: numpy in /Users/saadelghissassi/opt/anaconda3/lib/python3.9/site-packages (from folium==0.12.1) (1.26.0)\n",
      "Requirement already satisfied: requests in /Users/saadelghissassi/opt/anaconda3/lib/python3.9/site-packages (from folium==0.12.1) (2.26.0)\n",
      "Requirement already satisfied: MarkupSafe>=0.23 in /Users/saadelghissassi/opt/anaconda3/lib/python3.9/site-packages (from jinja2>=2.9->folium==0.12.1) (1.1.1)\n",
      "Requirement already satisfied: urllib3<1.27,>=1.21.1 in /Users/saadelghissassi/opt/anaconda3/lib/python3.9/site-packages (from requests->folium==0.12.1) (1.26.7)\n",
      "Requirement already satisfied: certifi>=2017.4.17 in /Users/saadelghissassi/opt/anaconda3/lib/python3.9/site-packages (from requests->folium==0.12.1) (2024.2.2)\n",
      "Requirement already satisfied: charset-normalizer~=2.0.0 in /Users/saadelghissassi/opt/anaconda3/lib/python3.9/site-packages (from requests->folium==0.12.1) (2.0.4)\n",
      "Requirement already satisfied: idna<4,>=2.5 in /Users/saadelghissassi/opt/anaconda3/lib/python3.9/site-packages (from requests->folium==0.12.1) (3.2)\n"
     ]
    }
   ],
   "source": [
    "# requires ipkernel\n",
    "# installation of required libraries and dependencies\n",
    "# numeric calculations\n",
    "! pip install numpy==1.26.0 \n",
    "# data frames \n",
    "! pip install pandas==2.1.1 \n",
    "# machine learning algorithms \n",
    "! pip install scikit-learn==1.5.1 \n",
    "! pip install scipy==1.12.0\n",
    "# plotting \n",
    "! pip install plotly==5.24.1 \n",
    "! pip install matplotlib==3.8.0 \n",
    "! pip install seaborn==0.13.2 \n",
    "! pip install plotly-express==0.4.1 \n",
    "! pip install chart-studio==1.1.0 \n",
    "# web app library \n",
    "! pip install streamlit==1.37.1 \n",
    "# association rules\n",
    "! pip install mlxtend==0.23.3\n",
    "# Language processing\n",
    "! pip install nltk\n",
    "! python -m nltk.downloader popular # popular functions\n",
    "# Folium\n",
    "! pip install folium==0.12.1\n"
   ]
  },
  {
   "attachments": {},
   "cell_type": "markdown",
   "metadata": {},
   "source": [
    "- ###   Imports"
   ]
  },
  {
   "cell_type": "code",
   "execution_count": 3,
   "metadata": {},
   "outputs": [
    {
     "name": "stderr",
     "output_type": "stream",
     "text": [
      "/Users/saadelghissassi/opt/anaconda3/lib/python3.9/site-packages/pandas/core/computation/expressions.py:21: UserWarning: Pandas requires version '2.8.0' or newer of 'numexpr' (version '2.7.3' currently installed).\n",
      "  from pandas.core.computation.check import NUMEXPR_INSTALLED\n",
      "/Users/saadelghissassi/opt/anaconda3/lib/python3.9/site-packages/pandas/core/arrays/masked.py:62: UserWarning: Pandas requires version '1.3.4' or newer of 'bottleneck' (version '1.3.2' currently installed).\n",
      "  from pandas.core import (\n"
     ]
    }
   ],
   "source": [
    "import pandas as pd\n",
    "import re\n",
    "import matplotlib.pyplot as plt\n",
    "from sklearn.metrics import silhouette_score, silhouette_samples\n",
    "import sklearn.cluster as cl\n",
    "import folium\n",
    "from folium.plugins import MarkerCluster\n",
    "import matplotlib.pyplot as plt\n",
    "from scipy.cluster.hierarchy import dendrogram, linkage, fcluster\n",
    "import nltk\n"
   ]
  },
  {
   "attachments": {},
   "cell_type": "markdown",
   "metadata": {},
   "source": [
    "## #3 Importing Data"
   ]
  },
  {
   "cell_type": "code",
   "execution_count": 4,
   "metadata": {},
   "outputs": [],
   "source": [
    "# Charger les données avec low_memory=False pour éviter les avertissements\n",
    "DATA = pd.read_csv(\"data/flickr_data2.csv\", sep=\",\", low_memory=False)"
   ]
  },
  {
   "cell_type": "markdown",
   "metadata": {},
   "source": [
    "## #1: Discovering areas of interests using clustering"
   ]
  },
  {
   "attachments": {},
   "cell_type": "markdown",
   "metadata": {},
   "source": [
    "# I/ Understanding the Data"
   ]
  },
  {
   "cell_type": "markdown",
   "metadata": {},
   "source": [
    "--Write something to describe this part of the report--"
   ]
  },
  {
   "attachments": {},
   "cell_type": "markdown",
   "metadata": {},
   "source": [
    "## #1 Data clearing and preparation"
   ]
  },
  {
   "cell_type": "code",
   "execution_count": 5,
   "metadata": {},
   "outputs": [],
   "source": [
    "# Print details about parsing step:\n",
    "# -> Number of lines parsed - % of original data parsed\n",
    "def parse_conclusion(parsed_data):\n",
    "    l = len(parsed_data)\n",
    "    print(f\"<Lines parsed: {l} - {round(100*l/len(DATA),3)}% of original data>\")"
   ]
  },
  {
   "attachments": {},
   "cell_type": "markdown",
   "metadata": {},
   "source": [
    "- Étape 1 : Nettoyage initial des colonnes"
   ]
  },
  {
   "cell_type": "code",
   "execution_count": 6,
   "metadata": {},
   "outputs": [],
   "source": [
    "# Supprimer les espaces supplémentaires dans les noms des colonnes\n",
    "parsed_data = DATA\n",
    "parsed_data.columns = parsed_data.columns.str.strip()\n",
    "\n",
    "# Convertir les colonnes temporelles en numériques\n",
    "# Liste des colonnes temporelles\n",
    "time_columns = [\n",
    "    'date_taken_minute', 'date_taken_hour', 'date_taken_day',\n",
    "    'date_taken_month', 'date_taken_year',\n",
    "    'date_upload_minute', 'date_upload_hour', 'date_upload_day',\n",
    "    'date_upload_month', 'date_upload_year'\n",
    "]\n",
    "\n",
    "# Convertir chaque colonne en int64, remplacer les erreurs par 0\n",
    "for col in time_columns:\n",
    "    parsed_data[col] = pd.to_numeric(DATA[col], errors='coerce').fillna(0).astype('int64')"
   ]
  },
  {
   "attachments": {},
   "cell_type": "markdown",
   "metadata": {},
   "source": [
    "- Étape 2 : Suppression des doublons basés sur l'identifiant unique"
   ]
  },
  {
   "cell_type": "code",
   "execution_count": 7,
   "metadata": {},
   "outputs": [
    {
     "name": "stdout",
     "output_type": "stream",
     "text": [
      "<Lines parsed: 252143 - 60.0% of original data>\n"
     ]
    }
   ],
   "source": [
    "# Sauvegarder les doublons pour audit futur\n",
    "duplicate_data = parsed_data[parsed_data['id'].duplicated(keep='first')].sort_values(\"id\")\n",
    "duplicate_data.to_csv(\n",
    "    \"data/parsed_lines/duplicatedId.csv\", index=False\n",
    ")\n",
    "\n",
    "# Supprimer les doublons\n",
    "parsed_data = parsed_data[~parsed_data['id'].duplicated(keep='first')]\n",
    "\n",
    "parse_conclusion(duplicate_data)"
   ]
  },
  {
   "attachments": {},
   "cell_type": "markdown",
   "metadata": {},
   "source": [
    "- Étape 3 : Gestion des colonnes inutilisées ou corrompues"
   ]
  },
  {
   "cell_type": "code",
   "execution_count": 8,
   "metadata": {},
   "outputs": [
    {
     "name": "stdout",
     "output_type": "stream",
     "text": [
      "<Lines parsed: 47 - 0.011% of original data>\n"
     ]
    }
   ],
   "source": [
    "# Identifier les colonnes inutiles\n",
    "unused_columns = [\"Unnamed: 16\", \"Unnamed: 17\", \"Unnamed: 18\", \n",
    "                  \"date_upload_minute\", \"date_upload_hour\", \"date_upload_day\", \n",
    "                  \"date_upload_month\", \"date_upload_year\"]\n",
    "\n",
    "# Sauvegarder les données corrompues\n",
    "corrupted_data = parsed_data[parsed_data[\"Unnamed: 16\"].notnull() | parsed_data[\"Unnamed: 17\"].notnull() | parsed_data[\"Unnamed: 18\"].notnull()]\n",
    "corrupted_data.to_csv(\n",
    "    \"data/parsed_lines/corrupted_data.csv\"\n",
    ", index=False)\n",
    "\n",
    "\n",
    "# Supprimer les colonnes inutilisées et les lignes corrompues\n",
    "parsed_data = parsed_data[~(parsed_data[\"Unnamed: 16\"].notnull() | parsed_data[\"Unnamed: 17\"].notnull() | parsed_data[\"Unnamed: 18\"].notnull())]\n",
    "parsed_data = parsed_data.drop(columns=unused_columns)\n",
    "\n",
    "parse_conclusion(corrupted_data)"
   ]
  },
  {
   "attachments": {},
   "cell_type": "markdown",
   "metadata": {},
   "source": [
    "- Étape 4 : Nettoyage des coordonnées GPS"
   ]
  },
  {
   "cell_type": "code",
   "execution_count": 9,
   "metadata": {},
   "outputs": [
    {
     "name": "stdout",
     "output_type": "stream",
     "text": [
      "<Lines parsed: 10502 - 2.499% of original data>\n"
     ]
    }
   ],
   "source": [
    "# Définir les limites géographiques de Lyon\n",
    "lyon_lat_min, lyon_lat_max = 45.69, 45.85\n",
    "lyon_lon_min, lyon_lon_max = 4.78, 4.92\n",
    "\n",
    "# Sauvegarder les données not Lyonnaises ou non definies\n",
    "out_lyon_data = parsed_data[\n",
    "    ~((parsed_data['lat'] >= lyon_lat_min) & \n",
    "    (parsed_data['lat'] <= lyon_lat_max) &\n",
    "    (parsed_data['long'] >= lyon_lon_min) &\n",
    "    (parsed_data['long'] <= lyon_lon_max))\n",
    "]\n",
    "out_lyon_data.to_csv(\n",
    "    \"data/parsed_lines/out_lyon.csv\"\n",
    ", index=False)\n",
    "\n",
    "# Filtrer les données pour garder uniquement les points dans Lyon\n",
    "parsed_data = parsed_data[\n",
    "    (parsed_data['lat'] >= lyon_lat_min) & \n",
    "    (parsed_data['lat'] <= lyon_lat_max) &\n",
    "    (parsed_data['long'] >= lyon_lon_min) &\n",
    "    (parsed_data['long'] <= lyon_lon_max)\n",
    "]\n",
    "\n",
    "parse_conclusion(out_lyon_data)"
   ]
  },
  {
   "attachments": {},
   "cell_type": "markdown",
   "metadata": {},
   "source": [
    "- Étape 5 : Gestion des valeurs manquantes"
   ]
  },
  {
   "cell_type": "code",
   "execution_count": 10,
   "metadata": {},
   "outputs": [
    {
     "name": "stdout",
     "output_type": "stream",
     "text": [
      "<Lines parsed: 0 - 0.0% of original data>\n"
     ]
    }
   ],
   "source": [
    "# Supprimer les lignes avec des valeurs manquantes\n",
    "#parsed_data = parsed_data.dropna(subset=['id', 'user', 'lat', 'long', 'tags', 'title', 'date_taken_minute', 'date_taken_hour', 'date_taken_day', 'date_taken_month', 'date_taken_year'])\n",
    "\n",
    "# Sauvegarder les lignes à données manquantes\n",
    "val_manquante_data = parsed_data[parsed_data.drop(columns=['tags','title']).isna().any(axis = 1)]\n",
    "val_manquante_data.to_csv(\n",
    "    \"data/parsed_lines/NaNs.csv\"\n",
    ", index=False)\n",
    "\n",
    "# Remplir les valeurs manquantes pour les colonnes textuelles par des chaînes vides\n",
    "parsed_data['tags'] = parsed_data['tags'].fillna('')\n",
    "parsed_data['title'] = parsed_data['title'].fillna('')\n",
    "\n",
    "parse_conclusion(val_manquante_data)"
   ]
  },
  {
   "attachments": {},
   "cell_type": "markdown",
   "metadata": {},
   "source": [
    "- Étape 6 : Filtrage des dates incohérentes"
   ]
  },
  {
   "cell_type": "code",
   "execution_count": 11,
   "metadata": {},
   "outputs": [
    {
     "name": "stdout",
     "output_type": "stream",
     "text": [
      "<Lines parsed: 2028 - 0.483% of original data>\n"
     ]
    }
   ],
   "source": [
    "min_year = 2009\n",
    "\n",
    "# Sauvegarder les données ayant des date non correcte\n",
    "uncorrect_date_data = parsed_data[\n",
    "    ~((parsed_data['date_taken_year'] >= min_year) & (parsed_data['date_taken_year'] <= 2025) &\n",
    "    (parsed_data['date_taken_month'] >= 1) & (parsed_data['date_taken_month'] <= 12) &\n",
    "    (parsed_data['date_taken_day'] >= 1) & (parsed_data['date_taken_day'] <= 31) &\n",
    "    (parsed_data['date_taken_hour'] >= 0) & (parsed_data['date_taken_hour'] <= 23) &\n",
    "    (parsed_data['date_taken_minute'] >= 0) & (parsed_data['date_taken_minute'] <= 59))\n",
    "]\n",
    "uncorrect_date_data.to_csv(\n",
    "    \"data/parsed_lines/uncorrect_date.csv\"\n",
    ", index=False)\n",
    "\n",
    "# Garder uniquement les dates raisonnables (entre 2009 et 2025)\n",
    "parsed_data = parsed_data[\n",
    "    (parsed_data['date_taken_year'] >= min_year) & (parsed_data['date_taken_year'] <= 2025) &\n",
    "    (parsed_data['date_taken_month'] >= 1) & (parsed_data['date_taken_month'] <= 12) &\n",
    "    (parsed_data['date_taken_day'] >= 1) & (parsed_data['date_taken_day'] <= 31) &\n",
    "    (parsed_data['date_taken_hour'] >= 0) & (parsed_data['date_taken_hour'] <= 23) &\n",
    "    (parsed_data['date_taken_minute'] >= 0) & (parsed_data['date_taken_minute'] <= 59) \n",
    "]\n",
    "\n",
    "parse_conclusion(uncorrect_date_data)"
   ]
  },
  {
   "attachments": {},
   "cell_type": "markdown",
   "metadata": {},
   "source": [
    "- Étape 7 : Nettoyage/Standarisation des colonnes textuelles"
   ]
  },
  {
   "cell_type": "code",
   "execution_count": 12,
   "metadata": {},
   "outputs": [],
   "source": [
    "# Fonction pour nettoyer le texte\n",
    "def clean_text(text):\n",
    "    # Supprimer les caractères spéciaux et passer en minuscules\n",
    "    return re.sub(r'[^a-zA-Z0-9, ]', '', text).lower()\n",
    "\n",
    "# Appliquer le nettoyage sur les colonnes textuelles\n",
    "parsed_data['tags'] = parsed_data['tags'].apply(clean_text)\n",
    "parsed_data['title'] = parsed_data['title'].apply(clean_text)"
   ]
  },
  {
   "attachments": {},
   "cell_type": "markdown",
   "metadata": {},
   "source": [
    "- Résultat final"
   ]
  },
  {
   "cell_type": "code",
   "execution_count": 13,
   "metadata": {},
   "outputs": [
    {
     "name": "stdout",
     "output_type": "stream",
     "text": [
      "Données nettoyées :\n"
     ]
    },
    {
     "data": {
      "text/html": [
       "<div>\n",
       "<style scoped>\n",
       "    .dataframe tbody tr th:only-of-type {\n",
       "        vertical-align: middle;\n",
       "    }\n",
       "\n",
       "    .dataframe tbody tr th {\n",
       "        vertical-align: top;\n",
       "    }\n",
       "\n",
       "    .dataframe thead th {\n",
       "        text-align: right;\n",
       "    }\n",
       "</style>\n",
       "<table border=\"1\" class=\"dataframe\">\n",
       "  <thead>\n",
       "    <tr style=\"text-align: right;\">\n",
       "      <th></th>\n",
       "      <th>id</th>\n",
       "      <th>user</th>\n",
       "      <th>lat</th>\n",
       "      <th>long</th>\n",
       "      <th>tags</th>\n",
       "      <th>title</th>\n",
       "      <th>date_taken_minute</th>\n",
       "      <th>date_taken_hour</th>\n",
       "      <th>date_taken_day</th>\n",
       "      <th>date_taken_month</th>\n",
       "      <th>date_taken_year</th>\n",
       "    </tr>\n",
       "  </thead>\n",
       "  <tbody>\n",
       "    <tr>\n",
       "      <th>0</th>\n",
       "      <td>4395181099</td>\n",
       "      <td>30624617@N03</td>\n",
       "      <td>45.754858</td>\n",
       "      <td>4.821710</td>\n",
       "      <td>chair,lyon,rhne,chaise,rhnealpes</td>\n",
       "      <td>chaises avec vue</td>\n",
       "      <td>11</td>\n",
       "      <td>15</td>\n",
       "      <td>28</td>\n",
       "      <td>2</td>\n",
       "      <td>2010</td>\n",
       "    </tr>\n",
       "    <tr>\n",
       "      <th>1</th>\n",
       "      <td>4394748717</td>\n",
       "      <td>35853470@N00</td>\n",
       "      <td>45.753270</td>\n",
       "      <td>4.862953</td>\n",
       "      <td></td>\n",
       "      <td></td>\n",
       "      <td>51</td>\n",
       "      <td>17</td>\n",
       "      <td>28</td>\n",
       "      <td>2</td>\n",
       "      <td>2010</td>\n",
       "    </tr>\n",
       "    <tr>\n",
       "      <th>2</th>\n",
       "      <td>4394694699</td>\n",
       "      <td>11817998@N05</td>\n",
       "      <td>45.760655</td>\n",
       "      <td>4.846564</td>\n",
       "      <td>365,iphone</td>\n",
       "      <td>59365  r46 v103 b163</td>\n",
       "      <td>29</td>\n",
       "      <td>17</td>\n",
       "      <td>28</td>\n",
       "      <td>2</td>\n",
       "      <td>2010</td>\n",
       "    </tr>\n",
       "    <tr>\n",
       "      <th>3</th>\n",
       "      <td>4394803790</td>\n",
       "      <td>11545749@N06</td>\n",
       "      <td>45.784000</td>\n",
       "      <td>4.874072</td>\n",
       "      <td>nin,nineinchnails,gift,screening,toiou,avott</td>\n",
       "      <td>20100129 toiou avott lyon</td>\n",
       "      <td>15</td>\n",
       "      <td>20</td>\n",
       "      <td>28</td>\n",
       "      <td>1</td>\n",
       "      <td>2010</td>\n",
       "    </tr>\n",
       "    <tr>\n",
       "      <th>4</th>\n",
       "      <td>4394803554</td>\n",
       "      <td>11545749@N06</td>\n",
       "      <td>45.784000</td>\n",
       "      <td>4.874072</td>\n",
       "      <td>lyon,nin,nineinchnails,gift,screening,toiou,avott</td>\n",
       "      <td>20100128 toiou avott lyon</td>\n",
       "      <td>10</td>\n",
       "      <td>20</td>\n",
       "      <td>28</td>\n",
       "      <td>1</td>\n",
       "      <td>2010</td>\n",
       "    </tr>\n",
       "  </tbody>\n",
       "</table>\n",
       "</div>"
      ],
      "text/plain": [
       "           id          user        lat      long  \\\n",
       "0  4395181099  30624617@N03  45.754858  4.821710   \n",
       "1  4394748717  35853470@N00  45.753270  4.862953   \n",
       "2  4394694699  11817998@N05  45.760655  4.846564   \n",
       "3  4394803790  11545749@N06  45.784000  4.874072   \n",
       "4  4394803554  11545749@N06  45.784000  4.874072   \n",
       "\n",
       "                                                tags  \\\n",
       "0                   chair,lyon,rhne,chaise,rhnealpes   \n",
       "1                                                      \n",
       "2                                         365,iphone   \n",
       "3       nin,nineinchnails,gift,screening,toiou,avott   \n",
       "4  lyon,nin,nineinchnails,gift,screening,toiou,avott   \n",
       "\n",
       "                       title  date_taken_minute  date_taken_hour  \\\n",
       "0           chaises avec vue                 11               15   \n",
       "1                                            51               17   \n",
       "2       59365  r46 v103 b163                 29               17   \n",
       "3  20100129 toiou avott lyon                 15               20   \n",
       "4  20100128 toiou avott lyon                 10               20   \n",
       "\n",
       "   date_taken_day  date_taken_month  date_taken_year  \n",
       "0              28                 2             2010  \n",
       "1              28                 2             2010  \n",
       "2              28                 2             2010  \n",
       "3              28                 1             2010  \n",
       "4              28                 1             2010  "
      ]
     },
     "execution_count": 13,
     "metadata": {},
     "output_type": "execute_result"
    }
   ],
   "source": [
    "# Résumé final des données nettoyées\n",
    "print(\"Données nettoyées :\")\n",
    "\n",
    "# Sauvegarder les données nettoyées pour les prochaines étapes\n",
    "parsed_data.to_csv(\"data/cleaned_flickr_data.csv\", index=False)\n",
    "\n",
    "parsed_data.head(5)"
   ]
  },
  {
   "attachments": {},
   "cell_type": "markdown",
   "metadata": {},
   "source": [
    "## #2 Visualize Data on map"
   ]
  },
  {
   "cell_type": "code",
   "execution_count": 13,
   "metadata": {},
   "outputs": [
    {
     "ename": "KeyboardInterrupt",
     "evalue": "",
     "output_type": "error",
     "traceback": [
      "\u001b[0;31m---------------------------------------------------------------------------\u001b[0m",
      "\u001b[0;31mKeyboardInterrupt\u001b[0m                         Traceback (most recent call last)",
      "\u001b[0;32m/var/folders/02/pn6v6_p924397h_95y6dszsw0000gn/T/ipykernel_24017/1847009163.py\u001b[0m in \u001b[0;36m<module>\u001b[0;34m\u001b[0m\n\u001b[1;32m     10\u001b[0m \u001b[0;31m# Add points from the dataset\u001b[0m\u001b[0;34m\u001b[0m\u001b[0;34m\u001b[0m\u001b[0m\n\u001b[1;32m     11\u001b[0m \u001b[0;32mfor\u001b[0m \u001b[0m_\u001b[0m\u001b[0;34m,\u001b[0m \u001b[0mrow\u001b[0m \u001b[0;32min\u001b[0m \u001b[0mparsed_data\u001b[0m\u001b[0;34m.\u001b[0m\u001b[0miterrows\u001b[0m\u001b[0;34m(\u001b[0m\u001b[0;34m)\u001b[0m\u001b[0;34m:\u001b[0m\u001b[0;34m\u001b[0m\u001b[0;34m\u001b[0m\u001b[0m\n\u001b[0;32m---> 12\u001b[0;31m     folium.Marker(\n\u001b[0m\u001b[1;32m     13\u001b[0m         \u001b[0mlocation\u001b[0m\u001b[0;34m=\u001b[0m\u001b[0;34m[\u001b[0m\u001b[0mrow\u001b[0m\u001b[0;34m[\u001b[0m\u001b[0;34m'lat'\u001b[0m\u001b[0;34m]\u001b[0m\u001b[0;34m,\u001b[0m \u001b[0mrow\u001b[0m\u001b[0;34m[\u001b[0m\u001b[0;34m'long'\u001b[0m\u001b[0;34m]\u001b[0m\u001b[0;34m]\u001b[0m\u001b[0;34m,\u001b[0m  \u001b[0;31m# Replace with 'lat' and 'long' if necessary\u001b[0m\u001b[0;34m\u001b[0m\u001b[0;34m\u001b[0m\u001b[0m\n\u001b[1;32m     14\u001b[0m         \u001b[0mpopup\u001b[0m\u001b[0;34m=\u001b[0m\u001b[0;34mf\"Tags: {row['tags']}, Title: {row['title']}\"\u001b[0m\u001b[0;34m,\u001b[0m  \u001b[0;31m# Optional popup information\u001b[0m\u001b[0;34m\u001b[0m\u001b[0;34m\u001b[0m\u001b[0m\n",
      "\u001b[0;32m~/opt/anaconda3/lib/python3.9/site-packages/folium/map.py\u001b[0m in \u001b[0;36m__init__\u001b[0;34m(self, location, popup, tooltip, icon, draggable, **kwargs)\u001b[0m\n\u001b[1;32m    271\u001b[0m         \"\"\")\n\u001b[1;32m    272\u001b[0m \u001b[0;34m\u001b[0m\u001b[0m\n\u001b[0;32m--> 273\u001b[0;31m     def __init__(self, location=None, popup=None, tooltip=None, icon=None,\n\u001b[0m\u001b[1;32m    274\u001b[0m                  draggable=False, **kwargs):\n\u001b[1;32m    275\u001b[0m         \u001b[0msuper\u001b[0m\u001b[0;34m(\u001b[0m\u001b[0mMarker\u001b[0m\u001b[0;34m,\u001b[0m \u001b[0mself\u001b[0m\u001b[0;34m)\u001b[0m\u001b[0;34m.\u001b[0m\u001b[0m__init__\u001b[0m\u001b[0;34m(\u001b[0m\u001b[0;34m)\u001b[0m\u001b[0;34m\u001b[0m\u001b[0;34m\u001b[0m\u001b[0m\n",
      "\u001b[0;31mKeyboardInterrupt\u001b[0m: "
     ]
    }
   ],
   "source": [
    "# Define the center of Lyon\n",
    "lyon_lat, lyon_lon = 45.75, 4.85  # Approximate coordinates for Lyon, France\n",
    "\n",
    "# Create a Folium map\n",
    "map_lyon = folium.Map(location=[lyon_lat, lyon_lon], zoom_start=12)\n",
    "\n",
    "# Create a marker cluster\n",
    "marker_cluster = MarkerCluster().add_to(map_lyon)\n",
    "\n",
    "# Add points from the dataset\n",
    "for _, row in parsed_data.iterrows():\n",
    "    folium.Marker(\n",
    "        location=[row['lat'], row['long']],  # Replace with 'lat' and 'long' if necessary\n",
    "        popup=f\"Tags: {row['tags']}, Title: {row['title']}\",  # Optional popup information\n",
    "    ).add_to(marker_cluster)\n",
    "\n",
    "# Display the map\n",
    "map_lyon\n",
    "\n",
    "# Optional: Save the map as an HTML file\n",
    "map_lyon.save(\"lyon_map_unclustered.html\")"
   ]
  },
  {
   "attachments": {},
   "cell_type": "markdown",
   "metadata": {},
   "source": [
    "## #3 Clustering data"
   ]
  },
  {
   "attachments": {},
   "cell_type": "markdown",
   "metadata": {},
   "source": [
    "To cluster the geo-located data from Lyon, we will apply multiple clustering techniques to identify areas of interest and patterns of activity.\n",
    "\n",
    "Our aim is to :\n",
    "\n",
    "* Identify dense regions of photo-taking activity, which may correspond to points of interest (e.g., landmarks, parks).\n",
    "* Highlight outliers or isolated points that may not belong to any significant cluster.\n",
    "* Compare different clustering techniques to determine the most effective one for this dataset."
   ]
  },
  {
   "cell_type": "code",
   "execution_count": 58,
   "metadata": {},
   "outputs": [],
   "source": [
    "clustered_data = parsed_data\n",
    "features = [\"lat\",\"long\"]"
   ]
  },
  {
   "attachments": {},
   "cell_type": "markdown",
   "metadata": {},
   "source": [
    "## #a) K-means\n",
    "\n",
    "* Why? Suitable for finding spherical clusters in data.\n",
    "* Input required: Number of clusters (k).\n",
    "* Steps: Apply K-Means with varying values of k to find the optimal number of clusters using the elbow method."
   ]
  },
  {
   "attachments": {},
   "cell_type": "markdown",
   "metadata": {},
   "source": [
    "- Finding K with the elbow method"
   ]
  },
  {
   "cell_type": "code",
   "execution_count": 59,
   "metadata": {},
   "outputs": [
    {
     "name": "stderr",
     "output_type": "stream",
     "text": [
      "C:\\Users\\dlarrazmar\\AppData\\Local\\Temp\\ipykernel_13292\\3731107169.py:6: FutureWarning: The behavior of DataFrame concatenation with empty or all-NA entries is deprecated. In a future version, this will no longer exclude empty or all-NA columns when determining the result dtypes. To retain the old behavior, exclude the relevant entries before the concat operation.\n",
      "  ks_df = pd.concat([ks_df, new_row], ignore_index=True)\n"
     ]
    },
    {
     "data": {
      "text/plain": [
       "[<matplotlib.lines.Line2D at 0x12fbb497190>]"
      ]
     },
     "execution_count": 59,
     "metadata": {},
     "output_type": "execute_result"
    },
    {
     "data": {
      "image/png": "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",
      "text/plain": [
       "<Figure size 640x480 with 1 Axes>"
      ]
     },
     "metadata": {},
     "output_type": "display_data"
   "execution_count": 14,
   "metadata": {},
   "outputs": [
    {
     "ename": "KeyError",
     "evalue": "('lat', 'long')",
     "output_type": "error",
     "traceback": [
      "\u001b[0;31m---------------------------------------------------------------------------\u001b[0m",
      "\u001b[0;31mKeyError\u001b[0m                                  Traceback (most recent call last)",
      "\u001b[0;32m~/opt/anaconda3/lib/python3.9/site-packages/pandas/core/indexes/base.py\u001b[0m in \u001b[0;36mget_loc\u001b[0;34m(self, key)\u001b[0m\n\u001b[1;32m   3789\u001b[0m         \u001b[0;32mtry\u001b[0m\u001b[0;34m:\u001b[0m\u001b[0;34m\u001b[0m\u001b[0;34m\u001b[0m\u001b[0m\n\u001b[0;32m-> 3790\u001b[0;31m             \u001b[0;32mreturn\u001b[0m \u001b[0mself\u001b[0m\u001b[0;34m.\u001b[0m\u001b[0m_engine\u001b[0m\u001b[0;34m.\u001b[0m\u001b[0mget_loc\u001b[0m\u001b[0;34m(\u001b[0m\u001b[0mcasted_key\u001b[0m\u001b[0;34m)\u001b[0m\u001b[0;34m\u001b[0m\u001b[0;34m\u001b[0m\u001b[0m\n\u001b[0m\u001b[1;32m   3791\u001b[0m         \u001b[0;32mexcept\u001b[0m \u001b[0mKeyError\u001b[0m \u001b[0;32mas\u001b[0m \u001b[0merr\u001b[0m\u001b[0;34m:\u001b[0m\u001b[0;34m\u001b[0m\u001b[0;34m\u001b[0m\u001b[0m\n",
      "\u001b[0;32mindex.pyx\u001b[0m in \u001b[0;36mpandas._libs.index.IndexEngine.get_loc\u001b[0;34m()\u001b[0m\n",
      "\u001b[0;32mindex.pyx\u001b[0m in \u001b[0;36mpandas._libs.index.IndexEngine.get_loc\u001b[0;34m()\u001b[0m\n",
      "\u001b[0;32mpandas/_libs/hashtable_class_helper.pxi\u001b[0m in \u001b[0;36mpandas._libs.hashtable.PyObjectHashTable.get_item\u001b[0;34m()\u001b[0m\n",
      "\u001b[0;32mpandas/_libs/hashtable_class_helper.pxi\u001b[0m in \u001b[0;36mpandas._libs.hashtable.PyObjectHashTable.get_item\u001b[0;34m()\u001b[0m\n",
      "\u001b[0;31mKeyError\u001b[0m: ('lat', 'long')",
      "\nThe above exception was the direct cause of the following exception:\n",
      "\u001b[0;31mKeyError\u001b[0m                                  Traceback (most recent call last)",
      "\u001b[0;32m/var/folders/02/pn6v6_p924397h_95y6dszsw0000gn/T/ipykernel_24017/1295488668.py\u001b[0m in \u001b[0;36m<module>\u001b[0;34m\u001b[0m\n\u001b[1;32m      5\u001b[0m \u001b[0mkmeans\u001b[0m \u001b[0;34m=\u001b[0m \u001b[0mcl\u001b[0m\u001b[0;34m.\u001b[0m\u001b[0mKMeans\u001b[0m\u001b[0;34m(\u001b[0m\u001b[0mn_clusters\u001b[0m\u001b[0;34m=\u001b[0m\u001b[0mk\u001b[0m\u001b[0;34m,\u001b[0m \u001b[0minit\u001b[0m\u001b[0;34m=\u001b[0m\u001b[0;34m'k-means++'\u001b[0m\u001b[0;34m)\u001b[0m\u001b[0;34m\u001b[0m\u001b[0;34m\u001b[0m\u001b[0m\n\u001b[1;32m      6\u001b[0m \u001b[0;31m# fit scaled data\u001b[0m\u001b[0;34m\u001b[0m\u001b[0;34m\u001b[0m\u001b[0m\n\u001b[0;32m----> 7\u001b[0;31m \u001b[0mkmeans\u001b[0m\u001b[0;34m.\u001b[0m\u001b[0mfit\u001b[0m\u001b[0;34m(\u001b[0m\u001b[0mKm_clustered_data\u001b[0m\u001b[0;34m[\u001b[0m\u001b[0;34m\"lat\"\u001b[0m\u001b[0;34m,\u001b[0m\u001b[0;34m\"long\"\u001b[0m\u001b[0;34m]\u001b[0m\u001b[0;34m)\u001b[0m\u001b[0;34m\u001b[0m\u001b[0;34m\u001b[0m\u001b[0m\n\u001b[0m",
      "\u001b[0;32m~/opt/anaconda3/lib/python3.9/site-packages/pandas/core/frame.py\u001b[0m in \u001b[0;36m__getitem__\u001b[0;34m(self, key)\u001b[0m\n\u001b[1;32m   3894\u001b[0m             \u001b[0;32mif\u001b[0m \u001b[0mself\u001b[0m\u001b[0;34m.\u001b[0m\u001b[0mcolumns\u001b[0m\u001b[0;34m.\u001b[0m\u001b[0mnlevels\u001b[0m \u001b[0;34m>\u001b[0m \u001b[0;36m1\u001b[0m\u001b[0;34m:\u001b[0m\u001b[0;34m\u001b[0m\u001b[0;34m\u001b[0m\u001b[0m\n\u001b[1;32m   3895\u001b[0m                 \u001b[0;32mreturn\u001b[0m \u001b[0mself\u001b[0m\u001b[0;34m.\u001b[0m\u001b[0m_getitem_multilevel\u001b[0m\u001b[0;34m(\u001b[0m\u001b[0mkey\u001b[0m\u001b[0;34m)\u001b[0m\u001b[0;34m\u001b[0m\u001b[0;34m\u001b[0m\u001b[0m\n\u001b[0;32m-> 3896\u001b[0;31m             \u001b[0mindexer\u001b[0m \u001b[0;34m=\u001b[0m \u001b[0mself\u001b[0m\u001b[0;34m.\u001b[0m\u001b[0mcolumns\u001b[0m\u001b[0;34m.\u001b[0m\u001b[0mget_loc\u001b[0m\u001b[0;34m(\u001b[0m\u001b[0mkey\u001b[0m\u001b[0;34m)\u001b[0m\u001b[0;34m\u001b[0m\u001b[0;34m\u001b[0m\u001b[0m\n\u001b[0m\u001b[1;32m   3897\u001b[0m             \u001b[0;32mif\u001b[0m \u001b[0mis_integer\u001b[0m\u001b[0;34m(\u001b[0m\u001b[0mindexer\u001b[0m\u001b[0;34m)\u001b[0m\u001b[0;34m:\u001b[0m\u001b[0;34m\u001b[0m\u001b[0;34m\u001b[0m\u001b[0m\n\u001b[1;32m   3898\u001b[0m                 \u001b[0mindexer\u001b[0m \u001b[0;34m=\u001b[0m \u001b[0;34m[\u001b[0m\u001b[0mindexer\u001b[0m\u001b[0;34m]\u001b[0m\u001b[0;34m\u001b[0m\u001b[0;34m\u001b[0m\u001b[0m\n",
      "\u001b[0;32m~/opt/anaconda3/lib/python3.9/site-packages/pandas/core/indexes/base.py\u001b[0m in \u001b[0;36mget_loc\u001b[0;34m(self, key)\u001b[0m\n\u001b[1;32m   3795\u001b[0m             ):\n\u001b[1;32m   3796\u001b[0m                 \u001b[0;32mraise\u001b[0m \u001b[0mInvalidIndexError\u001b[0m\u001b[0;34m(\u001b[0m\u001b[0mkey\u001b[0m\u001b[0;34m)\u001b[0m\u001b[0;34m\u001b[0m\u001b[0;34m\u001b[0m\u001b[0m\n\u001b[0;32m-> 3797\u001b[0;31m             \u001b[0;32mraise\u001b[0m \u001b[0mKeyError\u001b[0m\u001b[0;34m(\u001b[0m\u001b[0mkey\u001b[0m\u001b[0;34m)\u001b[0m \u001b[0;32mfrom\u001b[0m \u001b[0merr\u001b[0m\u001b[0;34m\u001b[0m\u001b[0;34m\u001b[0m\u001b[0m\n\u001b[0m\u001b[1;32m   3798\u001b[0m         \u001b[0;32mexcept\u001b[0m \u001b[0mTypeError\u001b[0m\u001b[0;34m:\u001b[0m\u001b[0;34m\u001b[0m\u001b[0;34m\u001b[0m\u001b[0m\n\u001b[1;32m   3799\u001b[0m             \u001b[0;31m# If we have a listlike key, _check_indexing_error will raise\u001b[0m\u001b[0;34m\u001b[0m\u001b[0;34m\u001b[0m\u001b[0m\n",
      "\u001b[0;31mKeyError\u001b[0m: ('lat', 'long')"
     ]
    }
   ],
   "source": [
    "ks_df = pd.DataFrame(columns=[\"k\", \"WCSS\"])\n",
    "for k in range(1,21):\n",
    "    kmeans = cl.KMeans(n_clusters=k, init='k-means++')\n",
    "    kmeans.fit(clustered_data[features])\n",
    "    new_row = pd.DataFrame({\"k\": [k], \"WCSS\": [kmeans.inertia_]})\n",
    "    ks_df = pd.concat([ks_df, new_row], ignore_index=True)\n",
    "\n",
    "plt.axis([1, 20, 0, 200])\n",
    "plt.xlabel(\"k\")\n",
    "plt.ylabel(\"WCSS\")\n",
    "plt.plot(ks_df[\"k\"], ks_df[\"WCSS\"], \"-xb\")"
   ]
  },
  {
   "attachments": {},
   "cell_type": "markdown",
   "metadata": {},
   "source": [
    "- Clustering data"
   ]
  },
  {
   "cell_type": "code",
   "execution_count": 60,
   "metadata": {},
   "outputs": [
    {
     "ename": "KeyboardInterrupt",
     "evalue": "",
     "output_type": "error",
     "traceback": [
      "\u001b[1;31m---------------------------------------------------------------------------\u001b[0m",
      "\u001b[1;31mKeyboardInterrupt\u001b[0m                         Traceback (most recent call last)",
      "Cell \u001b[1;32mIn[60], line 12\u001b[0m\n\u001b[0;32m     10\u001b[0m \u001b[39m# Evaluate clustering\u001b[39;00m\n\u001b[0;32m     11\u001b[0m inertia \u001b[39m=\u001b[39m kmeans\u001b[39m.\u001b[39minertia_\n\u001b[1;32m---> 12\u001b[0m silhouette_avg_score \u001b[39m=\u001b[39m silhouette_score(clustered_data[features], K_mean_labels)\n\u001b[0;32m     13\u001b[0m sample_silhouette_values \u001b[39m=\u001b[39m silhouette_samples(clustered_data[features], K_mean_labels)\n\u001b[0;32m     14\u001b[0m means_lst \u001b[39m=\u001b[39m []\n",
      "File \u001b[1;32m~\\AppData\\Roaming\\Python\\Python39\\site-packages\\sklearn\\utils\\_param_validation.py:213\u001b[0m, in \u001b[0;36mvalidate_params.<locals>.decorator.<locals>.wrapper\u001b[1;34m(*args, **kwargs)\u001b[0m\n\u001b[0;32m    207\u001b[0m \u001b[39mtry\u001b[39;00m:\n\u001b[0;32m    208\u001b[0m     \u001b[39mwith\u001b[39;00m config_context(\n\u001b[0;32m    209\u001b[0m         skip_parameter_validation\u001b[39m=\u001b[39m(\n\u001b[0;32m    210\u001b[0m             prefer_skip_nested_validation \u001b[39mor\u001b[39;00m global_skip_validation\n\u001b[0;32m    211\u001b[0m         )\n\u001b[0;32m    212\u001b[0m     ):\n\u001b[1;32m--> 213\u001b[0m         \u001b[39mreturn\u001b[39;00m func(\u001b[39m*\u001b[39margs, \u001b[39m*\u001b[39m\u001b[39m*\u001b[39mkwargs)\n\u001b[0;32m    214\u001b[0m \u001b[39mexcept\u001b[39;00m InvalidParameterError \u001b[39mas\u001b[39;00m e:\n\u001b[0;32m    215\u001b[0m     \u001b[39m# When the function is just a wrapper around an estimator, we allow\u001b[39;00m\n\u001b[0;32m    216\u001b[0m     \u001b[39m# the function to delegate validation to the estimator, but we replace\u001b[39;00m\n\u001b[0;32m    217\u001b[0m     \u001b[39m# the name of the estimator by the name of the function in the error\u001b[39;00m\n\u001b[0;32m    218\u001b[0m     \u001b[39m# message to avoid confusion.\u001b[39;00m\n\u001b[0;32m    219\u001b[0m     msg \u001b[39m=\u001b[39m re\u001b[39m.\u001b[39msub(\n\u001b[0;32m    220\u001b[0m         \u001b[39mr\u001b[39m\u001b[39m\"\u001b[39m\u001b[39mparameter of \u001b[39m\u001b[39m\\\u001b[39m\u001b[39mw+ must be\u001b[39m\u001b[39m\"\u001b[39m,\n\u001b[0;32m    221\u001b[0m         \u001b[39mf\u001b[39m\u001b[39m\"\u001b[39m\u001b[39mparameter of \u001b[39m\u001b[39m{\u001b[39;00mfunc\u001b[39m.\u001b[39m\u001b[39m__qualname__\u001b[39m\u001b[39m}\u001b[39;00m\u001b[39m must be\u001b[39m\u001b[39m\"\u001b[39m,\n\u001b[0;32m    222\u001b[0m         \u001b[39mstr\u001b[39m(e),\n\u001b[0;32m    223\u001b[0m     )\n",
      "File \u001b[1;32m~\\AppData\\Roaming\\Python\\Python39\\site-packages\\sklearn\\metrics\\cluster\\_unsupervised.py:141\u001b[0m, in \u001b[0;36msilhouette_score\u001b[1;34m(X, labels, metric, sample_size, random_state, **kwds)\u001b[0m\n\u001b[0;32m    139\u001b[0m     \u001b[39melse\u001b[39;00m:\n\u001b[0;32m    140\u001b[0m         X, labels \u001b[39m=\u001b[39m X[indices], labels[indices]\n\u001b[1;32m--> 141\u001b[0m \u001b[39mreturn\u001b[39;00m np\u001b[39m.\u001b[39mmean(silhouette_samples(X, labels, metric\u001b[39m=\u001b[39mmetric, \u001b[39m*\u001b[39m\u001b[39m*\u001b[39mkwds))\n",
      "File \u001b[1;32m~\\AppData\\Roaming\\Python\\Python39\\site-packages\\sklearn\\utils\\_param_validation.py:186\u001b[0m, in \u001b[0;36mvalidate_params.<locals>.decorator.<locals>.wrapper\u001b[1;34m(*args, **kwargs)\u001b[0m\n\u001b[0;32m    184\u001b[0m global_skip_validation \u001b[39m=\u001b[39m get_config()[\u001b[39m\"\u001b[39m\u001b[39mskip_parameter_validation\u001b[39m\u001b[39m\"\u001b[39m]\n\u001b[0;32m    185\u001b[0m \u001b[39mif\u001b[39;00m global_skip_validation:\n\u001b[1;32m--> 186\u001b[0m     \u001b[39mreturn\u001b[39;00m func(\u001b[39m*\u001b[39margs, \u001b[39m*\u001b[39m\u001b[39m*\u001b[39mkwargs)\n\u001b[0;32m    188\u001b[0m func_sig \u001b[39m=\u001b[39m signature(func)\n\u001b[0;32m    190\u001b[0m \u001b[39m# Map *args/**kwargs to the function signature\u001b[39;00m\n",
      "File \u001b[1;32m~\\AppData\\Roaming\\Python\\Python39\\site-packages\\sklearn\\metrics\\cluster\\_unsupervised.py:305\u001b[0m, in \u001b[0;36msilhouette_samples\u001b[1;34m(X, labels, metric, **kwds)\u001b[0m\n\u001b[0;32m    301\u001b[0m kwds[\u001b[39m\"\u001b[39m\u001b[39mmetric\u001b[39m\u001b[39m\"\u001b[39m] \u001b[39m=\u001b[39m metric\n\u001b[0;32m    302\u001b[0m reduce_func \u001b[39m=\u001b[39m functools\u001b[39m.\u001b[39mpartial(\n\u001b[0;32m    303\u001b[0m     _silhouette_reduce, labels\u001b[39m=\u001b[39mlabels, label_freqs\u001b[39m=\u001b[39mlabel_freqs\n\u001b[0;32m    304\u001b[0m )\n\u001b[1;32m--> 305\u001b[0m results \u001b[39m=\u001b[39m \u001b[39mzip\u001b[39;49m(\u001b[39m*\u001b[39;49mpairwise_distances_chunked(X, reduce_func\u001b[39m=\u001b[39;49mreduce_func, \u001b[39m*\u001b[39;49m\u001b[39m*\u001b[39;49mkwds))\n\u001b[0;32m    306\u001b[0m intra_clust_dists, inter_clust_dists \u001b[39m=\u001b[39m results\n\u001b[0;32m    307\u001b[0m intra_clust_dists \u001b[39m=\u001b[39m np\u001b[39m.\u001b[39mconcatenate(intra_clust_dists)\n",
      "File \u001b[1;32m~\\AppData\\Roaming\\Python\\Python39\\site-packages\\sklearn\\metrics\\pairwise.py:2172\u001b[0m, in \u001b[0;36mpairwise_distances_chunked\u001b[1;34m(X, Y, reduce_func, metric, n_jobs, working_memory, **kwds)\u001b[0m\n\u001b[0;32m   2170\u001b[0m \u001b[39melse\u001b[39;00m:\n\u001b[0;32m   2171\u001b[0m     X_chunk \u001b[39m=\u001b[39m X[sl]\n\u001b[1;32m-> 2172\u001b[0m D_chunk \u001b[39m=\u001b[39m pairwise_distances(X_chunk, Y, metric\u001b[39m=\u001b[39mmetric, n_jobs\u001b[39m=\u001b[39mn_jobs, \u001b[39m*\u001b[39m\u001b[39m*\u001b[39mkwds)\n\u001b[0;32m   2173\u001b[0m \u001b[39mif\u001b[39;00m (X \u001b[39mis\u001b[39;00m Y \u001b[39mor\u001b[39;00m Y \u001b[39mis\u001b[39;00m \u001b[39mNone\u001b[39;00m) \u001b[39mand\u001b[39;00m PAIRWISE_DISTANCE_FUNCTIONS\u001b[39m.\u001b[39mget(\n\u001b[0;32m   2174\u001b[0m     metric, \u001b[39mNone\u001b[39;00m\n\u001b[0;32m   2175\u001b[0m ) \u001b[39mis\u001b[39;00m euclidean_distances:\n\u001b[0;32m   2176\u001b[0m     \u001b[39m# zeroing diagonal, taking care of aliases of \"euclidean\",\u001b[39;00m\n\u001b[0;32m   2177\u001b[0m     \u001b[39m# i.e. \"l2\"\u001b[39;00m\n\u001b[0;32m   2178\u001b[0m     D_chunk\u001b[39m.\u001b[39mflat[sl\u001b[39m.\u001b[39mstart :: _num_samples(X) \u001b[39m+\u001b[39m \u001b[39m1\u001b[39m] \u001b[39m=\u001b[39m \u001b[39m0\u001b[39m\n",
      "File \u001b[1;32m~\\AppData\\Roaming\\Python\\Python39\\site-packages\\sklearn\\utils\\_param_validation.py:186\u001b[0m, in \u001b[0;36mvalidate_params.<locals>.decorator.<locals>.wrapper\u001b[1;34m(*args, **kwargs)\u001b[0m\n\u001b[0;32m    184\u001b[0m global_skip_validation \u001b[39m=\u001b[39m get_config()[\u001b[39m\"\u001b[39m\u001b[39mskip_parameter_validation\u001b[39m\u001b[39m\"\u001b[39m]\n\u001b[0;32m    185\u001b[0m \u001b[39mif\u001b[39;00m global_skip_validation:\n\u001b[1;32m--> 186\u001b[0m     \u001b[39mreturn\u001b[39;00m func(\u001b[39m*\u001b[39margs, \u001b[39m*\u001b[39m\u001b[39m*\u001b[39mkwargs)\n\u001b[0;32m    188\u001b[0m func_sig \u001b[39m=\u001b[39m signature(func)\n\u001b[0;32m    190\u001b[0m \u001b[39m# Map *args/**kwargs to the function signature\u001b[39;00m\n",
      "File \u001b[1;32m~\\AppData\\Roaming\\Python\\Python39\\site-packages\\sklearn\\metrics\\pairwise.py:2375\u001b[0m, in \u001b[0;36mpairwise_distances\u001b[1;34m(X, Y, metric, n_jobs, force_all_finite, **kwds)\u001b[0m\n\u001b[0;32m   2372\u001b[0m         \u001b[39mreturn\u001b[39;00m distance\u001b[39m.\u001b[39msquareform(distance\u001b[39m.\u001b[39mpdist(X, metric\u001b[39m=\u001b[39mmetric, \u001b[39m*\u001b[39m\u001b[39m*\u001b[39mkwds))\n\u001b[0;32m   2373\u001b[0m     func \u001b[39m=\u001b[39m partial(distance\u001b[39m.\u001b[39mcdist, metric\u001b[39m=\u001b[39mmetric, \u001b[39m*\u001b[39m\u001b[39m*\u001b[39mkwds)\n\u001b[1;32m-> 2375\u001b[0m \u001b[39mreturn\u001b[39;00m _parallel_pairwise(X, Y, func, n_jobs, \u001b[39m*\u001b[39m\u001b[39m*\u001b[39mkwds)\n",
      "File \u001b[1;32m~\\AppData\\Roaming\\Python\\Python39\\site-packages\\sklearn\\metrics\\pairwise.py:1893\u001b[0m, in \u001b[0;36m_parallel_pairwise\u001b[1;34m(X, Y, func, n_jobs, **kwds)\u001b[0m\n\u001b[0;32m   1890\u001b[0m X, Y, dtype \u001b[39m=\u001b[39m _return_float_dtype(X, Y)\n\u001b[0;32m   1892\u001b[0m \u001b[39mif\u001b[39;00m effective_n_jobs(n_jobs) \u001b[39m==\u001b[39m \u001b[39m1\u001b[39m:\n\u001b[1;32m-> 1893\u001b[0m     \u001b[39mreturn\u001b[39;00m func(X, Y, \u001b[39m*\u001b[39m\u001b[39m*\u001b[39mkwds)\n\u001b[0;32m   1895\u001b[0m \u001b[39m# enforce a threading backend to prevent data communication overhead\u001b[39;00m\n\u001b[0;32m   1896\u001b[0m fd \u001b[39m=\u001b[39m delayed(_dist_wrapper)\n",
      "File \u001b[1;32m~\\AppData\\Roaming\\Python\\Python39\\site-packages\\sklearn\\utils\\_param_validation.py:186\u001b[0m, in \u001b[0;36mvalidate_params.<locals>.decorator.<locals>.wrapper\u001b[1;34m(*args, **kwargs)\u001b[0m\n\u001b[0;32m    184\u001b[0m global_skip_validation \u001b[39m=\u001b[39m get_config()[\u001b[39m\"\u001b[39m\u001b[39mskip_parameter_validation\u001b[39m\u001b[39m\"\u001b[39m]\n\u001b[0;32m    185\u001b[0m \u001b[39mif\u001b[39;00m global_skip_validation:\n\u001b[1;32m--> 186\u001b[0m     \u001b[39mreturn\u001b[39;00m func(\u001b[39m*\u001b[39margs, \u001b[39m*\u001b[39m\u001b[39m*\u001b[39mkwargs)\n\u001b[0;32m    188\u001b[0m func_sig \u001b[39m=\u001b[39m signature(func)\n\u001b[0;32m    190\u001b[0m \u001b[39m# Map *args/**kwargs to the function signature\u001b[39;00m\n",
      "File \u001b[1;32m~\\AppData\\Roaming\\Python\\Python39\\site-packages\\sklearn\\metrics\\pairwise.py:372\u001b[0m, in \u001b[0;36meuclidean_distances\u001b[1;34m(X, Y, Y_norm_squared, squared, X_norm_squared)\u001b[0m\n\u001b[0;32m    366\u001b[0m     \u001b[39mif\u001b[39;00m Y_norm_squared\u001b[39m.\u001b[39mshape \u001b[39m!=\u001b[39m (\u001b[39m1\u001b[39m, Y\u001b[39m.\u001b[39mshape[\u001b[39m0\u001b[39m]):\n\u001b[0;32m    367\u001b[0m         \u001b[39mraise\u001b[39;00m \u001b[39mValueError\u001b[39;00m(\n\u001b[0;32m    368\u001b[0m             \u001b[39mf\u001b[39m\u001b[39m\"\u001b[39m\u001b[39mIncompatible dimensions for Y of shape \u001b[39m\u001b[39m{\u001b[39;00mY\u001b[39m.\u001b[39mshape\u001b[39m}\u001b[39;00m\u001b[39m and \u001b[39m\u001b[39m\"\u001b[39m\n\u001b[0;32m    369\u001b[0m             \u001b[39mf\u001b[39m\u001b[39m\"\u001b[39m\u001b[39mY_norm_squared of shape \u001b[39m\u001b[39m{\u001b[39;00moriginal_shape\u001b[39m}\u001b[39;00m\u001b[39m.\u001b[39m\u001b[39m\"\u001b[39m\n\u001b[0;32m    370\u001b[0m         )\n\u001b[1;32m--> 372\u001b[0m \u001b[39mreturn\u001b[39;00m _euclidean_distances(X, Y, X_norm_squared, Y_norm_squared, squared)\n",
      "File \u001b[1;32m~\\AppData\\Roaming\\Python\\Python39\\site-packages\\sklearn\\metrics\\pairwise.py:407\u001b[0m, in \u001b[0;36m_euclidean_distances\u001b[1;34m(X, Y, X_norm_squared, Y_norm_squared, squared)\u001b[0m\n\u001b[0;32m    404\u001b[0m     distances \u001b[39m=\u001b[39m _euclidean_distances_upcast(X, XX, Y, YY)\n\u001b[0;32m    405\u001b[0m \u001b[39melse\u001b[39;00m:\n\u001b[0;32m    406\u001b[0m     \u001b[39m# if dtype is already float64, no need to chunk and upcast\u001b[39;00m\n\u001b[1;32m--> 407\u001b[0m     distances \u001b[39m=\u001b[39m \u001b[39m-\u001b[39;49m\u001b[39m2\u001b[39;49m \u001b[39m*\u001b[39;49m safe_sparse_dot(X, Y\u001b[39m.\u001b[39;49mT, dense_output\u001b[39m=\u001b[39;49m\u001b[39mTrue\u001b[39;49;00m)\n\u001b[0;32m    408\u001b[0m     distances \u001b[39m+\u001b[39m\u001b[39m=\u001b[39m XX\n\u001b[0;32m    409\u001b[0m     distances \u001b[39m+\u001b[39m\u001b[39m=\u001b[39m YY\n",
      "\u001b[1;31mKeyboardInterrupt\u001b[0m: "
     ]
    }
   ],
   "source": [
    "# number of clusters \n",
    "k = 5 # set to optimal k found with elbow method\n",
    "# create a model\n",
    "kmeans = cl.KMeans(n_clusters=k, init='k-means++')\n",
    "# fit scaled data\n",
    "kmeans.fit(clustered_data[[\"lat\",\"long\"]])\n",
    "# Add labels to data\n",
    "K_mean_labels = kmeans.labels_\n",
    "clustered_data = clustered_data.join(pd.DataFrame({\"cluster kmeans\": K_mean_labels}))\n",
    "# Evaluate clustering\n",
    "inertia = kmeans.inertia_\n",
    "# sample_silhouette_values = silhouette_samples(clustered_data[features], K_mean_labels)\n",
    "# means_lst = []\n",
    "# for label in range(k):\n",
    "#     means_lst.append(sample_silhouette_values[K_mean_labels == label].mean())\n",
    "\n",
    "\n",
    "print(f\"Sum of squared distances: {kmeans.inertia_}\")\n",
    "# print(f\"Mean silouette scores for each cluster:\\n{means_lst}\")\n",
    "\n",
    "\n",
    "clustered_data.head(10)"
   ]
  },
  {
   "attachments": {},
   "cell_type": "markdown",
   "metadata": {},
   "source": [
    "## #b) DBSCAN"
   ]
  },
  {
   "cell_type": "markdown",
   "metadata": {},
   "source": [
    "## #c) Hierarchical Clustering\n",
    "\n",
    "\n",
    "* Why? Provides a dendrogram to visualize the hierarchy of clusters.\n",
    "* Input required: No predefined number of clusters; can be adjusted by cutting the dendrogram.\n",
    "* Steps: \n",
    "Compute a linkage matrix using ward or other linkage methods.\n",
    "Cut the dendrogram to form clusters."
   ]
  },
  {
   "cell_type": "code",
   "execution_count": null,
   "metadata": {},
   "outputs": [],
   "source": [
    "# 1. Préparation des données\n",
    "geo_data = parsed_data[['lat', 'long']]\n",
    "\n",
    "# Sous-échantillonnage des données (garder n points aléatoires pour éviter les blocages)\n",
    "geo_data_sampled = geo_data.sample(n=10000, random_state=42)\n",
    "\n",
    "# 2. Création de la matrice de linkage avec les données échantillonnées\n",
    "from scipy.cluster.hierarchy import linkage, dendrogram, fcluster\n",
    "import matplotlib.pyplot as plt\n",
    "\n",
    "linkage_matrix = linkage(geo_data_sampled, method='ward')\n",
    "\n",
    "# 3. Visualisation du dendrogramme\n",
    "plt.figure(figsize=(12, 8))\n",
    "dendrogram(linkage_matrix, truncate_mode='level', p=5)  # Truncate pour simplifier la visualisation\n",
    "plt.title(\"Dendrogramme (Clustering Hiérarchique - Échantillonné)\")\n",
    "plt.xlabel(\"Points de données\")\n",
    "plt.ylabel(\"Distance\")\n",
    "plt.show()\n",
    "\n",
    "# 4. Découpage du dendrogramme pour obtenir les clusters\n",
    "num_clusters = 5\n",
    "sampled_clusters = fcluster(linkage_matrix, t=num_clusters, criterion='maxclust')\n",
    "\n",
    "# Ajouter les clusters à l'échantillon pour analyse\n",
    "geo_data_sampled['hierarchical_cluster'] = sampled_clusters\n",
    "\n",
    "# 5. Visualisation des clusters (échantillon uniquement)\n",
    "plt.figure(figsize=(10, 8))\n",
    "plt.scatter(geo_data_sampled['long'], geo_data_sampled['lat'], c=geo_data_sampled['hierarchical_cluster'], cmap='tab10', s=50)\n",
    "plt.title(f\"Clustering Hiérarchique (Nombre de clusters: {num_clusters})\")\n",
    "plt.xlabel(\"Longitude\")\n",
    "plt.ylabel(\"Latitude\")\n",
    "plt.grid()\n",
    "plt.show()\n"
   ]
  }
 ],
 "metadata": {
  "kernelspec": {
   "display_name": "base",
   "language": "python",
   "name": "python3"
  },
  "language_info": {
   "codemirror_mode": {
    "name": "ipython",
    "version": 3
   },
   "file_extension": ".py",
   "mimetype": "text/x-python",
   "name": "python",
   "nbconvert_exporter": "python",
   "pygments_lexer": "ipython3",
   "version": "3.9.7"
  }
 },
 "nbformat": 4,
 "nbformat_minor": 2
}
