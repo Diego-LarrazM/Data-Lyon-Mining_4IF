{
 "cells": [
  {
   "cell_type": "markdown",
   "metadata": {},
   "source": [
    "# <center>Data Mining project: Discover and describe areas of interest<br> and events from geo-located data</center>"
   ]
  },
  {
   "cell_type": "markdown",
   "metadata": {},
   "source": [
    "## #0: Import Dataset and Libraries"
   ]
  },
  {
   "cell_type": "markdown",
   "metadata": {},
   "source": [
    "## Setting Environment"
   ]
  },
  {
   "cell_type": "code",
   "execution_count": 1,
   "metadata": {},
   "outputs": [],
   "source": [
    "! python -m venv dataMiningEnv\n",
    "#Activate windows\n",
    "#! dataMiningEnv\\Scripts\\activate.bat\n",
    "\n",
    "#Activate mac\n",
    "! source dataMiningEnv/bin/activate\n"
   ]
  },
  {
   "cell_type": "markdown",
   "metadata": {},
   "source": [
    "## Importing Libraries"
   ]
  },
  {
   "cell_type": "markdown",
   "metadata": {},
   "source": [
    "- ### Installs"
   ]
  },
  {
   "cell_type": "code",
   "execution_count": 2,
   "metadata": {},
   "outputs": [
    {
     "name": "stdout",
     "output_type": "stream",
     "text": [
      "Requirement already satisfied: numpy==1.26.0 in /Users/saadelghissassi/opt/anaconda3/lib/python3.9/site-packages (1.26.0)\n",
      "Requirement already satisfied: pandas==2.1.1 in /Users/saadelghissassi/opt/anaconda3/lib/python3.9/site-packages (2.1.1)\n",
      "Requirement already satisfied: numpy>=1.22.4 in /Users/saadelghissassi/opt/anaconda3/lib/python3.9/site-packages (from pandas==2.1.1) (1.26.0)\n",
      "Requirement already satisfied: python-dateutil>=2.8.2 in /Users/saadelghissassi/opt/anaconda3/lib/python3.9/site-packages (from pandas==2.1.1) (2.8.2)\n",
      "Requirement already satisfied: pytz>=2020.1 in /Users/saadelghissassi/opt/anaconda3/lib/python3.9/site-packages (from pandas==2.1.1) (2021.3)\n",
      "Requirement already satisfied: tzdata>=2022.1 in /Users/saadelghissassi/opt/anaconda3/lib/python3.9/site-packages (from pandas==2.1.1) (2024.2)\n",
      "Requirement already satisfied: six>=1.5 in /Users/saadelghissassi/opt/anaconda3/lib/python3.9/site-packages (from python-dateutil>=2.8.2->pandas==2.1.1) (1.16.0)\n",
      "Requirement already satisfied: scikit-learn==1.5.1 in /Users/saadelghissassi/opt/anaconda3/lib/python3.9/site-packages (1.5.1)\n",
      "Requirement already satisfied: numpy>=1.19.5 in /Users/saadelghissassi/opt/anaconda3/lib/python3.9/site-packages (from scikit-learn==1.5.1) (1.26.0)\n",
      "Requirement already satisfied: scipy>=1.6.0 in /Users/saadelghissassi/opt/anaconda3/lib/python3.9/site-packages (from scikit-learn==1.5.1) (1.12.0)\n",
      "Requirement already satisfied: joblib>=1.2.0 in /Users/saadelghissassi/opt/anaconda3/lib/python3.9/site-packages (from scikit-learn==1.5.1) (1.4.2)\n",
      "Requirement already satisfied: threadpoolctl>=3.1.0 in /Users/saadelghissassi/opt/anaconda3/lib/python3.9/site-packages (from scikit-learn==1.5.1) (3.5.0)\n",
      "Requirement already satisfied: scipy==1.12.0 in /Users/saadelghissassi/opt/anaconda3/lib/python3.9/site-packages (1.12.0)\n",
      "Requirement already satisfied: numpy<1.29.0,>=1.22.4 in /Users/saadelghissassi/opt/anaconda3/lib/python3.9/site-packages (from scipy==1.12.0) (1.26.0)\n",
      "Requirement already satisfied: plotly==5.24.1 in /Users/saadelghissassi/opt/anaconda3/lib/python3.9/site-packages (5.24.1)\n",
      "Requirement already satisfied: tenacity>=6.2.0 in /Users/saadelghissassi/opt/anaconda3/lib/python3.9/site-packages (from plotly==5.24.1) (8.0.1)\n",
      "Requirement already satisfied: packaging in /Users/saadelghissassi/opt/anaconda3/lib/python3.9/site-packages (from plotly==5.24.1) (21.0)\n",
      "Requirement already satisfied: pyparsing>=2.0.2 in /Users/saadelghissassi/opt/anaconda3/lib/python3.9/site-packages (from packaging->plotly==5.24.1) (3.0.4)\n",
      "Requirement already satisfied: matplotlib==3.8.0 in /Users/saadelghissassi/opt/anaconda3/lib/python3.9/site-packages (3.8.0)\n",
      "Requirement already satisfied: contourpy>=1.0.1 in /Users/saadelghissassi/opt/anaconda3/lib/python3.9/site-packages (from matplotlib==3.8.0) (1.3.0)\n",
      "Requirement already satisfied: cycler>=0.10 in /Users/saadelghissassi/opt/anaconda3/lib/python3.9/site-packages (from matplotlib==3.8.0) (0.10.0)\n",
      "Requirement already satisfied: fonttools>=4.22.0 in /Users/saadelghissassi/opt/anaconda3/lib/python3.9/site-packages (from matplotlib==3.8.0) (4.25.0)\n",
      "Requirement already satisfied: kiwisolver>=1.0.1 in /Users/saadelghissassi/opt/anaconda3/lib/python3.9/site-packages (from matplotlib==3.8.0) (1.3.1)\n",
      "Requirement already satisfied: numpy<2,>=1.21 in /Users/saadelghissassi/opt/anaconda3/lib/python3.9/site-packages (from matplotlib==3.8.0) (1.26.0)\n",
      "Requirement already satisfied: packaging>=20.0 in /Users/saadelghissassi/opt/anaconda3/lib/python3.9/site-packages (from matplotlib==3.8.0) (21.0)\n",
      "Requirement already satisfied: pillow>=6.2.0 in /Users/saadelghissassi/opt/anaconda3/lib/python3.9/site-packages (from matplotlib==3.8.0) (8.4.0)\n",
      "Requirement already satisfied: pyparsing>=2.3.1 in /Users/saadelghissassi/opt/anaconda3/lib/python3.9/site-packages (from matplotlib==3.8.0) (3.0.4)\n",
      "Requirement already satisfied: python-dateutil>=2.7 in /Users/saadelghissassi/opt/anaconda3/lib/python3.9/site-packages (from matplotlib==3.8.0) (2.8.2)\n",
      "Requirement already satisfied: importlib-resources>=3.2.0 in /Users/saadelghissassi/opt/anaconda3/lib/python3.9/site-packages (from matplotlib==3.8.0) (6.5.2)\n",
      "Requirement already satisfied: six in /Users/saadelghissassi/opt/anaconda3/lib/python3.9/site-packages (from cycler>=0.10->matplotlib==3.8.0) (1.16.0)\n",
      "Requirement already satisfied: zipp>=3.1.0 in /Users/saadelghissassi/opt/anaconda3/lib/python3.9/site-packages (from importlib-resources>=3.2.0->matplotlib==3.8.0) (3.6.0)\n",
      "Requirement already satisfied: seaborn==0.13.2 in /Users/saadelghissassi/opt/anaconda3/lib/python3.9/site-packages (0.13.2)\n",
      "Requirement already satisfied: numpy!=1.24.0,>=1.20 in /Users/saadelghissassi/opt/anaconda3/lib/python3.9/site-packages (from seaborn==0.13.2) (1.26.0)\n",
      "Requirement already satisfied: pandas>=1.2 in /Users/saadelghissassi/opt/anaconda3/lib/python3.9/site-packages (from seaborn==0.13.2) (2.1.1)\n",
      "Requirement already satisfied: matplotlib!=3.6.1,>=3.4 in /Users/saadelghissassi/opt/anaconda3/lib/python3.9/site-packages (from seaborn==0.13.2) (3.8.0)\n",
      "Requirement already satisfied: contourpy>=1.0.1 in /Users/saadelghissassi/opt/anaconda3/lib/python3.9/site-packages (from matplotlib!=3.6.1,>=3.4->seaborn==0.13.2) (1.3.0)\n",
      "Requirement already satisfied: cycler>=0.10 in /Users/saadelghissassi/opt/anaconda3/lib/python3.9/site-packages (from matplotlib!=3.6.1,>=3.4->seaborn==0.13.2) (0.10.0)\n",
      "Requirement already satisfied: fonttools>=4.22.0 in /Users/saadelghissassi/opt/anaconda3/lib/python3.9/site-packages (from matplotlib!=3.6.1,>=3.4->seaborn==0.13.2) (4.25.0)\n",
      "Requirement already satisfied: kiwisolver>=1.0.1 in /Users/saadelghissassi/opt/anaconda3/lib/python3.9/site-packages (from matplotlib!=3.6.1,>=3.4->seaborn==0.13.2) (1.3.1)\n",
      "Requirement already satisfied: packaging>=20.0 in /Users/saadelghissassi/opt/anaconda3/lib/python3.9/site-packages (from matplotlib!=3.6.1,>=3.4->seaborn==0.13.2) (21.0)\n",
      "Requirement already satisfied: pillow>=6.2.0 in /Users/saadelghissassi/opt/anaconda3/lib/python3.9/site-packages (from matplotlib!=3.6.1,>=3.4->seaborn==0.13.2) (8.4.0)\n",
      "Requirement already satisfied: pyparsing>=2.3.1 in /Users/saadelghissassi/opt/anaconda3/lib/python3.9/site-packages (from matplotlib!=3.6.1,>=3.4->seaborn==0.13.2) (3.0.4)\n",
      "Requirement already satisfied: python-dateutil>=2.7 in /Users/saadelghissassi/opt/anaconda3/lib/python3.9/site-packages (from matplotlib!=3.6.1,>=3.4->seaborn==0.13.2) (2.8.2)\n",
      "Requirement already satisfied: importlib-resources>=3.2.0 in /Users/saadelghissassi/opt/anaconda3/lib/python3.9/site-packages (from matplotlib!=3.6.1,>=3.4->seaborn==0.13.2) (6.5.2)\n",
      "Requirement already satisfied: pytz>=2020.1 in /Users/saadelghissassi/opt/anaconda3/lib/python3.9/site-packages (from pandas>=1.2->seaborn==0.13.2) (2021.3)\n",
      "Requirement already satisfied: tzdata>=2022.1 in /Users/saadelghissassi/opt/anaconda3/lib/python3.9/site-packages (from pandas>=1.2->seaborn==0.13.2) (2024.2)\n",
      "Requirement already satisfied: six in /Users/saadelghissassi/opt/anaconda3/lib/python3.9/site-packages (from cycler>=0.10->matplotlib!=3.6.1,>=3.4->seaborn==0.13.2) (1.16.0)\n",
      "Requirement already satisfied: zipp>=3.1.0 in /Users/saadelghissassi/opt/anaconda3/lib/python3.9/site-packages (from importlib-resources>=3.2.0->matplotlib!=3.6.1,>=3.4->seaborn==0.13.2) (3.6.0)\n",
      "Requirement already satisfied: plotly-express==0.4.1 in /Users/saadelghissassi/opt/anaconda3/lib/python3.9/site-packages (0.4.1)\n",
      "Requirement already satisfied: pandas>=0.20.0 in /Users/saadelghissassi/opt/anaconda3/lib/python3.9/site-packages (from plotly-express==0.4.1) (2.1.1)\n",
      "Requirement already satisfied: plotly>=4.1.0 in /Users/saadelghissassi/opt/anaconda3/lib/python3.9/site-packages (from plotly-express==0.4.1) (5.24.1)\n",
      "Requirement already satisfied: statsmodels>=0.9.0 in /Users/saadelghissassi/opt/anaconda3/lib/python3.9/site-packages (from plotly-express==0.4.1) (0.12.2)\n",
      "Requirement already satisfied: scipy>=0.18 in /Users/saadelghissassi/opt/anaconda3/lib/python3.9/site-packages (from plotly-express==0.4.1) (1.12.0)\n",
      "Requirement already satisfied: patsy>=0.5 in /Users/saadelghissassi/opt/anaconda3/lib/python3.9/site-packages (from plotly-express==0.4.1) (0.5.2)\n",
      "Requirement already satisfied: numpy>=1.11 in /Users/saadelghissassi/opt/anaconda3/lib/python3.9/site-packages (from plotly-express==0.4.1) (1.26.0)\n",
      "Requirement already satisfied: python-dateutil>=2.8.2 in /Users/saadelghissassi/opt/anaconda3/lib/python3.9/site-packages (from pandas>=0.20.0->plotly-express==0.4.1) (2.8.2)\n",
      "Requirement already satisfied: pytz>=2020.1 in /Users/saadelghissassi/opt/anaconda3/lib/python3.9/site-packages (from pandas>=0.20.0->plotly-express==0.4.1) (2021.3)\n",
      "Requirement already satisfied: tzdata>=2022.1 in /Users/saadelghissassi/opt/anaconda3/lib/python3.9/site-packages (from pandas>=0.20.0->plotly-express==0.4.1) (2024.2)\n",
      "Requirement already satisfied: six in /Users/saadelghissassi/opt/anaconda3/lib/python3.9/site-packages (from patsy>=0.5->plotly-express==0.4.1) (1.16.0)\n",
      "Requirement already satisfied: tenacity>=6.2.0 in /Users/saadelghissassi/opt/anaconda3/lib/python3.9/site-packages (from plotly>=4.1.0->plotly-express==0.4.1) (8.0.1)\n",
      "Requirement already satisfied: packaging in /Users/saadelghissassi/opt/anaconda3/lib/python3.9/site-packages (from plotly>=4.1.0->plotly-express==0.4.1) (21.0)\n",
      "Requirement already satisfied: pyparsing>=2.0.2 in /Users/saadelghissassi/opt/anaconda3/lib/python3.9/site-packages (from packaging->plotly>=4.1.0->plotly-express==0.4.1) (3.0.4)\n",
      "Requirement already satisfied: chart-studio==1.1.0 in /Users/saadelghissassi/opt/anaconda3/lib/python3.9/site-packages (1.1.0)\n",
      "Requirement already satisfied: plotly in /Users/saadelghissassi/opt/anaconda3/lib/python3.9/site-packages (from chart-studio==1.1.0) (5.24.1)\n",
      "Requirement already satisfied: requests in /Users/saadelghissassi/opt/anaconda3/lib/python3.9/site-packages (from chart-studio==1.1.0) (2.26.0)\n",
      "Requirement already satisfied: retrying>=1.3.3 in /Users/saadelghissassi/opt/anaconda3/lib/python3.9/site-packages (from chart-studio==1.1.0) (1.3.4)\n",
      "Requirement already satisfied: six in /Users/saadelghissassi/opt/anaconda3/lib/python3.9/site-packages (from chart-studio==1.1.0) (1.16.0)\n",
      "Requirement already satisfied: tenacity>=6.2.0 in /Users/saadelghissassi/opt/anaconda3/lib/python3.9/site-packages (from plotly->chart-studio==1.1.0) (8.0.1)\n",
      "Requirement already satisfied: packaging in /Users/saadelghissassi/opt/anaconda3/lib/python3.9/site-packages (from plotly->chart-studio==1.1.0) (21.0)\n",
      "Requirement already satisfied: urllib3<1.27,>=1.21.1 in /Users/saadelghissassi/opt/anaconda3/lib/python3.9/site-packages (from requests->chart-studio==1.1.0) (1.26.7)\n",
      "Requirement already satisfied: certifi>=2017.4.17 in /Users/saadelghissassi/opt/anaconda3/lib/python3.9/site-packages (from requests->chart-studio==1.1.0) (2024.2.2)\n",
      "Requirement already satisfied: charset-normalizer~=2.0.0 in /Users/saadelghissassi/opt/anaconda3/lib/python3.9/site-packages (from requests->chart-studio==1.1.0) (2.0.4)\n",
      "Requirement already satisfied: idna<4,>=2.5 in /Users/saadelghissassi/opt/anaconda3/lib/python3.9/site-packages (from requests->chart-studio==1.1.0) (3.2)\n",
      "Requirement already satisfied: pyparsing>=2.0.2 in /Users/saadelghissassi/opt/anaconda3/lib/python3.9/site-packages (from packaging->plotly->chart-studio==1.1.0) (3.0.4)\n",
      "\u001b[31mERROR: Ignored the following versions that require a different python version: 0.55.2 Requires-Python <3.5; 1.12.1 Requires-Python >=3.7, !=3.9.7; 1.12.1rc1 Requires-Python >=3.7, !=3.9.7; 1.12.2 Requires-Python >=3.7, !=3.9.7; 1.12.2rc1 Requires-Python >=3.7, !=3.9.7; 1.12.2rc2 Requires-Python >=3.7, !=3.9.7; 1.13.0 Requires-Python >=3.7, !=3.9.7; 1.13.0rc1 Requires-Python >=3.7, !=3.9.7; 1.13.0rc2 Requires-Python >=3.7, !=3.9.7; 1.14.0 Requires-Python >=3.7, !=3.9.7; 1.14.0rc1 Requires-Python >=3.7, !=3.9.7; 1.14.1 Requires-Python >=3.7, !=3.9.7; 1.14.1rc1 Requires-Python >=3.7, !=3.9.7; 1.15.0 Requires-Python >=3.7, !=3.9.7; 1.15.1 Requires-Python >=3.7, !=3.9.7; 1.15.2 Requires-Python >=3.7, !=3.9.7; 1.15.2rc1 Requires-Python >=3.7, !=3.9.7; 1.16.0 Requires-Python >=3.7, !=3.9.7; 1.17.0 Requires-Python >=3.7, !=3.9.7; 1.18.0 Requires-Python >=3.7, !=3.9.7; 1.18.1 Requires-Python >=3.7, !=3.9.7; 1.18.1rc1 Requires-Python >=3.7, !=3.9.7; 1.19.0 Requires-Python >=3.7, !=3.9.7; 1.20.0 Requires-Python >=3.7, !=3.9.7; 1.21.0 Requires-Python >=3.7, !=3.9.7; 1.22.0 Requires-Python >=3.7, !=3.9.7; 1.23.0 Requires-Python >=3.7, !=3.9.7; 1.23.1 Requires-Python >=3.7, !=3.9.7; 1.24.0 Requires-Python >=3.8, !=3.9.7; 1.24.1 Requires-Python >=3.8, !=3.9.7; 1.25.0 Requires-Python >=3.8, !=3.9.7; 1.26.0 Requires-Python >=3.8, !=3.9.7; 1.26.1 Requires-Python !=3.9.7,>=3.8; 1.27.0 Requires-Python >=3.8, !=3.9.7; 1.27.1 Requires-Python >=3.8, !=3.9.7; 1.27.2 Requires-Python >=3.8, !=3.9.7; 1.28.0 Requires-Python >=3.8, !=3.9.7; 1.28.1 Requires-Python >=3.8, !=3.9.7; 1.28.2 Requires-Python >=3.8, !=3.9.7; 1.29.0 Requires-Python >=3.8, !=3.9.7; 1.30.0 Requires-Python >=3.8, !=3.9.7; 1.31.0 Requires-Python >=3.8, !=3.9.7; 1.31.1 Requires-Python >=3.8, !=3.9.7; 1.32.0 Requires-Python >=3.8, !=3.9.7; 1.32.1 Requires-Python >=3.8, !=3.9.7; 1.32.2 Requires-Python >=3.8, !=3.9.7; 1.32.2rc1 Requires-Python >=3.8, !=3.9.7; 1.33.0 Requires-Python !=3.9.7,>=3.8; 1.34.0 Requires-Python !=3.9.7,>=3.8; 1.35.0 Requires-Python !=3.9.7,>=3.8; 1.36.0 Requires-Python !=3.9.7,>=3.8; 1.37.0 Requires-Python !=3.9.7,>=3.8; 1.37.1 Requires-Python !=3.9.7,>=3.8; 1.38.0 Requires-Python !=3.9.7,>=3.8; 1.39.0 Requires-Python !=3.9.7,>=3.8; 1.40.0 Requires-Python !=3.9.7,>=3.8; 1.40.1 Requires-Python !=3.9.7,>=3.8; 1.40.2 Requires-Python !=3.9.7,>=3.9; 1.41.0 Requires-Python !=3.9.7,>=3.9; 1.41.1 Requires-Python !=3.9.7,>=3.9\u001b[0m\u001b[31m\n",
      "\u001b[0m\u001b[31mERROR: Could not find a version that satisfies the requirement streamlit==1.37.1 (from versions: 0.1, 0.2, 0.3, 0.4, 0.5, 0.6, 0.7, 0.8, 0.8.2, 0.9.0, 0.11.0, 0.12.2, 0.12.3, 0.12.4, 0.13.0, 0.13.1, 0.13.3, 0.13.5, 0.14.2, 0.15.0, 0.15.1, 0.15.2, 0.15.3, 0.15.4, 0.15.5, 0.15.6, 0.16.0, 0.16.1, 0.16.2, 0.16.3, 0.17.0, 0.17.1, 0.17.2, 0.18.0, 0.18.1, 0.19.0, 0.19.1, 0.20.0, 0.21.0, 0.22.0, 0.22.1, 0.22.2, 0.23.0, 0.24.0, 0.24.1, 0.24.2, 0.24.3, 0.25.0, 0.26.0, 0.26.1, 0.27.0, 0.28.0, 0.29.0, 0.30.0, 0.31.0, 0.32.0, 0.33.0, 0.34.0, 0.35.0, 0.36.0, 0.37.0, 0.40.0, 0.40.1, 0.41.0, 0.42.0, 0.43.0, 0.43.1, 0.43.2, 0.44.0, 0.45.0, 0.46.0, 0.47.0, 0.47.1, 0.47.2, 0.47.3, 0.47.4, 0.48.0, 0.48.1, 0.49.0, 0.50.0, 0.50.1, 0.50.2, 0.51.0, 0.52.0, 0.52.1, 0.52.2, 0.53.0, 0.54.0, 0.55.0, 0.56.0, 0.57.0, 0.57.1, 0.57.2, 0.57.3, 0.58.0, 0.59.0, 0.60.0, 0.61.0, 0.62.0, 0.62.1, 0.63.0, 0.63.1, 0.64.0, 0.65.0, 0.65.1, 0.65.2, 0.66.0, 0.67.0, 0.67.1, 0.68.0, 0.68.1, 0.69.0, 0.69.1, 0.69.2, 0.70.0, 0.71.0, 0.72.0, 0.73.0, 0.73.1, 0.74.0, 0.74.1, 0.75.0, 0.76.0, 0.77.0, 0.78.0, 0.79.0, 0.80.0, 0.81.0, 0.81.1, 0.82.0, 0.83.0, 0.84.0, 0.84.1, 0.84.2, 0.85.0, 0.85.1, 0.86.0, 0.87.0, 0.88.0, 0.89.0, 1.0.0, 1.1.0, 1.2.0, 1.3.0, 1.3.1, 1.4.0, 1.5.0, 1.5.1, 1.6.0rc3, 1.6.0rc4, 1.6.0, 1.7.0, 1.8.0rc1, 1.8.0, 1.8.1rc1, 1.8.1, 1.9.0rc1, 1.9.0, 1.9.1rc1, 1.9.1rc2, 1.9.1, 1.9.2rc1, 1.9.2, 1.10.0rc1, 1.10.0rc2, 1.10.0, 1.11.0rc1, 1.11.0, 1.11.1rc1, 1.11.1, 1.12.0rc1, 1.12.0rc2, 1.12.0)\u001b[0m\u001b[31m\n",
      "\u001b[0m\u001b[31mERROR: No matching distribution found for streamlit==1.37.1\u001b[0m\u001b[31m\n",
      "\u001b[0mRequirement already satisfied: mlxtend==0.23.3 in /Users/saadelghissassi/opt/anaconda3/lib/python3.9/site-packages (0.23.3)\n",
      "Requirement already satisfied: scipy>=1.2.1 in /Users/saadelghissassi/opt/anaconda3/lib/python3.9/site-packages (from mlxtend==0.23.3) (1.12.0)\n",
      "Requirement already satisfied: numpy>=1.16.2 in /Users/saadelghissassi/opt/anaconda3/lib/python3.9/site-packages (from mlxtend==0.23.3) (1.26.0)\n",
      "Requirement already satisfied: pandas>=0.24.2 in /Users/saadelghissassi/opt/anaconda3/lib/python3.9/site-packages (from mlxtend==0.23.3) (2.1.1)\n",
      "Requirement already satisfied: scikit-learn>=1.3.1 in /Users/saadelghissassi/opt/anaconda3/lib/python3.9/site-packages (from mlxtend==0.23.3) (1.5.1)\n",
      "Requirement already satisfied: matplotlib>=3.0.0 in /Users/saadelghissassi/opt/anaconda3/lib/python3.9/site-packages (from mlxtend==0.23.3) (3.8.0)\n",
      "Requirement already satisfied: joblib>=0.13.2 in /Users/saadelghissassi/opt/anaconda3/lib/python3.9/site-packages (from mlxtend==0.23.3) (1.4.2)\n",
      "Requirement already satisfied: contourpy>=1.0.1 in /Users/saadelghissassi/opt/anaconda3/lib/python3.9/site-packages (from matplotlib>=3.0.0->mlxtend==0.23.3) (1.3.0)\n",
      "Requirement already satisfied: cycler>=0.10 in /Users/saadelghissassi/opt/anaconda3/lib/python3.9/site-packages (from matplotlib>=3.0.0->mlxtend==0.23.3) (0.10.0)\n",
      "Requirement already satisfied: fonttools>=4.22.0 in /Users/saadelghissassi/opt/anaconda3/lib/python3.9/site-packages (from matplotlib>=3.0.0->mlxtend==0.23.3) (4.25.0)\n",
      "Requirement already satisfied: kiwisolver>=1.0.1 in /Users/saadelghissassi/opt/anaconda3/lib/python3.9/site-packages (from matplotlib>=3.0.0->mlxtend==0.23.3) (1.3.1)\n",
      "Requirement already satisfied: packaging>=20.0 in /Users/saadelghissassi/opt/anaconda3/lib/python3.9/site-packages (from matplotlib>=3.0.0->mlxtend==0.23.3) (21.0)\n",
      "Requirement already satisfied: pillow>=6.2.0 in /Users/saadelghissassi/opt/anaconda3/lib/python3.9/site-packages (from matplotlib>=3.0.0->mlxtend==0.23.3) (8.4.0)\n",
      "Requirement already satisfied: pyparsing>=2.3.1 in /Users/saadelghissassi/opt/anaconda3/lib/python3.9/site-packages (from matplotlib>=3.0.0->mlxtend==0.23.3) (3.0.4)\n",
      "Requirement already satisfied: python-dateutil>=2.7 in /Users/saadelghissassi/opt/anaconda3/lib/python3.9/site-packages (from matplotlib>=3.0.0->mlxtend==0.23.3) (2.8.2)\n",
      "Requirement already satisfied: importlib-resources>=3.2.0 in /Users/saadelghissassi/opt/anaconda3/lib/python3.9/site-packages (from matplotlib>=3.0.0->mlxtend==0.23.3) (6.5.2)\n",
      "Requirement already satisfied: pytz>=2020.1 in /Users/saadelghissassi/opt/anaconda3/lib/python3.9/site-packages (from pandas>=0.24.2->mlxtend==0.23.3) (2021.3)\n",
      "Requirement already satisfied: tzdata>=2022.1 in /Users/saadelghissassi/opt/anaconda3/lib/python3.9/site-packages (from pandas>=0.24.2->mlxtend==0.23.3) (2024.2)\n",
      "Requirement already satisfied: threadpoolctl>=3.1.0 in /Users/saadelghissassi/opt/anaconda3/lib/python3.9/site-packages (from scikit-learn>=1.3.1->mlxtend==0.23.3) (3.5.0)\n",
      "Requirement already satisfied: six in /Users/saadelghissassi/opt/anaconda3/lib/python3.9/site-packages (from cycler>=0.10->matplotlib>=3.0.0->mlxtend==0.23.3) (1.16.0)\n",
      "Requirement already satisfied: zipp>=3.1.0 in /Users/saadelghissassi/opt/anaconda3/lib/python3.9/site-packages (from importlib-resources>=3.2.0->matplotlib>=3.0.0->mlxtend==0.23.3) (3.6.0)\n",
      "Requirement already satisfied: nltk in /Users/saadelghissassi/opt/anaconda3/lib/python3.9/site-packages (3.6.5)\n",
      "Requirement already satisfied: click in /Users/saadelghissassi/opt/anaconda3/lib/python3.9/site-packages (from nltk) (8.0.3)\n",
      "Requirement already satisfied: joblib in /Users/saadelghissassi/opt/anaconda3/lib/python3.9/site-packages (from nltk) (1.4.2)\n",
      "Requirement already satisfied: regex>=2021.8.3 in /Users/saadelghissassi/opt/anaconda3/lib/python3.9/site-packages (from nltk) (2021.8.3)\n",
      "Requirement already satisfied: tqdm in /Users/saadelghissassi/opt/anaconda3/lib/python3.9/site-packages (from nltk) (4.62.3)\n",
      "/Users/saadelghissassi/opt/anaconda3/lib/python3.9/runpy.py:127: RuntimeWarning: 'nltk.downloader' found in sys.modules after import of package 'nltk', but prior to execution of 'nltk.downloader'; this may result in unpredictable behaviour\n",
      "  warn(RuntimeWarning(msg))\n",
      "[nltk_data] Downloading collection 'popular'\n",
      "[nltk_data]    | \n",
      "[nltk_data]    | Downloading package cmudict to\n",
      "[nltk_data]    |     /Users/saadelghissassi/nltk_data...\n",
      "[nltk_data]    |   Package cmudict is already up-to-date!\n",
      "[nltk_data]    | Downloading package gazetteers to\n",
      "[nltk_data]    |     /Users/saadelghissassi/nltk_data...\n",
      "[nltk_data]    |   Package gazetteers is already up-to-date!\n",
      "[nltk_data]    | Downloading package genesis to\n",
      "[nltk_data]    |     /Users/saadelghissassi/nltk_data...\n",
      "[nltk_data]    |   Package genesis is already up-to-date!\n",
      "[nltk_data]    | Downloading package gutenberg to\n",
      "[nltk_data]    |     /Users/saadelghissassi/nltk_data...\n",
      "[nltk_data]    |   Package gutenberg is already up-to-date!\n",
      "[nltk_data]    | Downloading package inaugural to\n",
      "[nltk_data]    |     /Users/saadelghissassi/nltk_data...\n",
      "[nltk_data]    |   Package inaugural is already up-to-date!\n",
      "[nltk_data]    | Downloading package movie_reviews to\n",
      "[nltk_data]    |     /Users/saadelghissassi/nltk_data...\n",
      "[nltk_data]    |   Package movie_reviews is already up-to-date!\n",
      "[nltk_data]    | Downloading package names to\n",
      "[nltk_data]    |     /Users/saadelghissassi/nltk_data...\n",
      "[nltk_data]    |   Package names is already up-to-date!\n",
      "[nltk_data]    | Downloading package shakespeare to\n",
      "[nltk_data]    |     /Users/saadelghissassi/nltk_data...\n",
      "[nltk_data]    |   Package shakespeare is already up-to-date!\n",
      "[nltk_data]    | Downloading package stopwords to\n",
      "[nltk_data]    |     /Users/saadelghissassi/nltk_data...\n",
      "[nltk_data]    |   Package stopwords is already up-to-date!\n",
      "[nltk_data]    | Downloading package treebank to\n",
      "[nltk_data]    |     /Users/saadelghissassi/nltk_data...\n",
      "[nltk_data]    |   Package treebank is already up-to-date!\n",
      "[nltk_data]    | Downloading package twitter_samples to\n",
      "[nltk_data]    |     /Users/saadelghissassi/nltk_data...\n",
      "[nltk_data]    |   Package twitter_samples is already up-to-date!\n",
      "[nltk_data]    | Downloading package omw to\n",
      "[nltk_data]    |     /Users/saadelghissassi/nltk_data...\n",
      "[nltk_data]    |   Package omw is already up-to-date!\n",
      "[nltk_data]    | Downloading package omw-1.4 to\n",
      "[nltk_data]    |     /Users/saadelghissassi/nltk_data...\n",
      "[nltk_data]    |   Package omw-1.4 is already up-to-date!\n",
      "[nltk_data]    | Downloading package wordnet to\n",
      "[nltk_data]    |     /Users/saadelghissassi/nltk_data...\n",
      "[nltk_data]    |   Package wordnet is already up-to-date!\n",
      "[nltk_data]    | Downloading package wordnet2021 to\n",
      "[nltk_data]    |     /Users/saadelghissassi/nltk_data...\n",
      "[nltk_data]    |   Package wordnet2021 is already up-to-date!\n",
      "[nltk_data]    | Downloading package wordnet31 to\n",
      "[nltk_data]    |     /Users/saadelghissassi/nltk_data...\n",
      "[nltk_data]    |   Package wordnet31 is already up-to-date!\n",
      "[nltk_data]    | Downloading package wordnet_ic to\n",
      "[nltk_data]    |     /Users/saadelghissassi/nltk_data...\n",
      "[nltk_data]    |   Package wordnet_ic is already up-to-date!\n",
      "[nltk_data]    | Downloading package words to\n",
      "[nltk_data]    |     /Users/saadelghissassi/nltk_data...\n",
      "[nltk_data]    |   Package words is already up-to-date!\n",
      "[nltk_data]    | Downloading package maxent_ne_chunker to\n",
      "[nltk_data]    |     /Users/saadelghissassi/nltk_data...\n",
      "[nltk_data]    |   Package maxent_ne_chunker is already up-to-date!\n",
      "[nltk_data]    | Downloading package punkt to\n",
      "[nltk_data]    |     /Users/saadelghissassi/nltk_data...\n",
      "[nltk_data]    |   Package punkt is already up-to-date!\n",
      "[nltk_data]    | Downloading package snowball_data to\n",
      "[nltk_data]    |     /Users/saadelghissassi/nltk_data...\n",
      "[nltk_data]    |   Package snowball_data is already up-to-date!\n",
      "[nltk_data]    | Downloading package averaged_perceptron_tagger to\n",
      "[nltk_data]    |     /Users/saadelghissassi/nltk_data...\n",
      "[nltk_data]    |   Package averaged_perceptron_tagger is already up-\n",
      "[nltk_data]    |       to-date!\n",
      "[nltk_data]    | \n",
      "[nltk_data]  Done downloading collection popular\n"
     ]
    }
   ],
   "source": [
    "# installation of required libraries and dependencies\n",
    "# numeric calculations\n",
    "! pip install numpy==1.26.0 \n",
    "# data frames \n",
    "! pip install pandas==2.1.1 \n",
    "# machine learning algorithms \n",
    "! pip install scikit-learn==1.5.1 \n",
    "! pip install scipy==1.12.0\n",
    "# plotting \n",
    "! pip install plotly==5.24.1 \n",
    "! pip install matplotlib==3.8.0 \n",
    "! pip install seaborn==0.13.2 \n",
    "! pip install plotly-express==0.4.1 \n",
    "! pip install chart-studio==1.1.0 \n",
    "# web app library \n",
    "! pip install streamlit==1.37.1 \n",
    "# association rules\n",
    "! pip install mlxtend==0.23.3\n",
    "# Language processing\n",
    "! pip install nltk\n",
    "! python -m nltk.downloader popular # popular functions\n"
   ]
  },
  {
   "cell_type": "markdown",
   "metadata": {},
   "source": [
    "- ### Imports"
   ]
  },
  {
   "cell_type": "code",
   "execution_count": 3,
   "metadata": {},
   "outputs": [
    {
     "name": "stderr",
     "output_type": "stream",
     "text": [
      "/Users/saadelghissassi/opt/anaconda3/lib/python3.9/site-packages/pandas/core/computation/expressions.py:21: UserWarning: Pandas requires version '2.8.0' or newer of 'numexpr' (version '2.7.3' currently installed).\n",
      "  from pandas.core.computation.check import NUMEXPR_INSTALLED\n",
      "/Users/saadelghissassi/opt/anaconda3/lib/python3.9/site-packages/pandas/core/arrays/masked.py:62: UserWarning: Pandas requires version '1.3.4' or newer of 'bottleneck' (version '1.3.2' currently installed).\n",
      "  from pandas.core import (\n"
     ]
    }
   ],
   "source": [
    "import pandas as pd\n",
    "\n",
    "import nltk\n"
   ]
  },
  {
   "cell_type": "markdown",
   "metadata": {},
   "source": [
    "## Importing Data"
   ]
  },
  {
   "cell_type": "code",
   "execution_count": null,
   "metadata": {},
   "outputs": [],
   "source": [
    "# Charger les données avec low_memory=False pour éviter les avertissements\n",
    "data = pd.read_csv(\"data/flickr_data2.csv\", sep=\",\", low_memory=False)"
   ]
  },
  {
   "cell_type": "markdown",
   "metadata": {},
   "source": [
    "## #1: Discovering areas of interests using clustering"
   ]
  },
  {
   "cell_type": "markdown",
   "metadata": {},
   "source": [
    "## Understanding the Data"
   ]
  },
  {
   "cell_type": "markdown",
   "metadata": {},
   "source": [
    "--Write something to describe this part of the report--"
   ]
  },
  {
   "cell_type": "markdown",
   "metadata": {},
   "source": [
    "## Data clearing and preparation"
   ]
  },
  {
   "cell_type": "code",
   "execution_count": null,
   "metadata": {},
   "outputs": [],
   "source": [
    "# Étape 1 : Nettoyage initial des colonnes\n",
    "# Supprimer les espaces supplémentaires dans les noms des colonnes\n",
    "data.columns = data.columns.str.strip()\n",
    "\n",
    "# Convertir les colonnes temporelles en numériques\n",
    "# Liste des colonnes temporelles\n",
    "time_columns = [\n",
    "    'date_taken_minute', 'date_taken_hour', 'date_taken_day',\n",
    "    'date_taken_month', 'date_taken_year',\n",
    "    'date_upload_minute', 'date_upload_hour', 'date_upload_day',\n",
    "    'date_upload_month', 'date_upload_year'\n",
    "]\n",
    "\n",
    "# Convertir chaque colonne en int64, remplacer les erreurs par 0\n",
    "for col in time_columns:\n",
    "    data[col] = pd.to_numeric(data[col], errors='coerce').fillna(0).astype('int64')"
   ]
  },
  {
   "cell_type": "code",
   "execution_count": null,
   "metadata": {},
   "outputs": [],
   "source": [
    "# Étape 2 : Suppression des doublons basés sur l'identifiant unique\n",
    "# Sauvegarder les doublons pour audit futur\n",
    "data[data['id'].duplicated(keep='first')].sort_values(\"id\").to_csv(\n",
    "    \"data/parsed_lines/duplicatedId.csv\", index=False\n",
    ")\n",
    "\n",
    "# Supprimer les doublons\n",
    "data = data[~data['id'].duplicated(keep='first')]"
   ]
  },
  {
   "cell_type": "code",
   "execution_count": null,
   "metadata": {},
   "outputs": [],
   "source": [
    "# Étape 3 : Gestion des colonnes inutilisées ou corrompues\n",
    "# Identifier les colonnes inutiles\n",
    "unused_columns = [\"Unnamed: 16\", \"Unnamed: 17\", \"Unnamed: 18\", \n",
    "                  \"date_upload_minute\", \"date_upload_hour\", \"date_upload_day\", \n",
    "                  \"date_upload_month\", \"date_upload_year\"]\n",
    "\n",
    "# Sauvegarder les données corrompues\n",
    "corrupted_data = data[data[unused_columns].notnull().any(axis=1)]\n",
    "corrupted_data.to_csv(\"data/parsed_lines/corrupted_data.csv\", index=False)\n",
    "\n",
    "# Supprimer les colonnes inutilisées et les lignes corrompues\n",
    "data = data.drop(columns=unused_columns)"
   ]
  },
  {
   "cell_type": "code",
   "execution_count": null,
   "metadata": {},
   "outputs": [],
   "source": [
    "# Étape 4 : Nettoyage des coordonnées GPS\n",
    "# Définir les limites géographiques de Lyon\n",
    "lyon_lat_min, lyon_lat_max = 45.69, 45.85\n",
    "lyon_lon_min, lyon_lon_max = 4.78, 4.92\n",
    "\n",
    "# Filtrer les données pour garder uniquement les points dans Lyon\n",
    "data = data[\n",
    "    (data['latitude'] >= lyon_lat_min) & \n",
    "    (data['latitude'] <= lyon_lat_max) &\n",
    "    (data['longitude'] >= lyon_lon_min) &\n",
    "    (data['longitude'] <= lyon_lon_max)\n",
    "]"
   ]
  },
  {
   "cell_type": "code",
   "execution_count": null,
   "metadata": {},
   "outputs": [],
   "source": [
    "# Étape 5 : Gestion des valeurs manquantes\n",
    "# Supprimer les lignes avec des valeurs manquantes dans latitude/longitude\n",
    "data = data.dropna(subset=['latitude', 'longitude'])\n",
    "\n",
    "# Remplir les valeurs manquantes pour les colonnes textuelles par des chaînes vides\n",
    "data['tags'] = data['tags'].fillna('')\n",
    "data['title'] = data['title'].fillna('')"
   ]
  },
  {
   "cell_type": "code",
   "execution_count": null,
   "metadata": {},
   "outputs": [],
   "source": [
    "# Étape 6 : Suppression des doublons géographiques et temporels\n",
    "# Identifier les doublons basés sur latitude, longitude, et année\n",
    "data = data.drop_duplicates(subset=['latitude', 'longitude', 'date_taken_year'])"
   ]
  },
  {
   "cell_type": "code",
   "execution_count": null,
   "metadata": {},
   "outputs": [],
   "source": [
    "# Étape 7 : Filtrage des dates incohérentes\n",
    "# Garder uniquement les dates raisonnables (entre 2000 et 2025)\n",
    "data = data[\n",
    "    (data['date_taken_year'] >= 2000) &\n",
    "    (data['date_taken_year'] <= 2025)\n",
    "]"
   ]
  },
  {
   "cell_type": "code",
   "execution_count": null,
   "metadata": {},
   "outputs": [],
   "source": [
    "# Étape 8 : Nettoyage des colonnes textuelles\n",
    "# Fonction pour nettoyer le texte\n",
    "def clean_text(text):\n",
    "    # Supprimer les caractères spéciaux et passer en minuscules\n",
    "    return re.sub(r'[^a-zA-Z0-9, ]', '', text).lower()\n",
    "\n",
    "# Appliquer le nettoyage sur les colonnes textuelles\n",
    "data['tags'] = data['tags'].apply(clean_text)\n",
    "data['title'] = data['title'].apply(clean_text)"
   ]
  },
  {
   "cell_type": "code",
   "execution_count": null,
   "metadata": {},
   "outputs": [],
   "source": [
    "# Étape 9 : Normalisation des coordonnées GPS\n",
    "# Normaliser latitude et longitude pour les algorithmes de clustering\n",
    "scaler = StandardScaler()\n",
    "data[['latitude', 'longitude']] = scaler.fit_transform(data[['latitude', 'longitude']])"
   ]
  },
  {
   "cell_type": "code",
   "execution_count": null,
   "metadata": {},
   "outputs": [],
   "source": [
    "# Résumé final des données nettoyées\n",
    "print(\"Données nettoyées :\")\n",
    "print(data.info())"
   ]
  },
  {
   "cell_type": "code",
   "execution_count": null,
   "metadata": {},
   "outputs": [],
   "source": [
    "# Sauvegarder les données nettoyées pour les prochaines étapes\n",
    "data.to_csv(\"data/cleaned_flickr_data.csv\", index=False)"
   ]
  }
 ],
 "metadata": {
  "kernelspec": {
   "display_name": "base",
   "language": "python",
   "name": "python3"
  },
  "language_info": {
   "codemirror_mode": {
    "name": "ipython",
    "version": 3
   },
   "file_extension": ".py",
   "mimetype": "text/x-python",
   "name": "python",
   "nbconvert_exporter": "python",
   "pygments_lexer": "ipython3",
   "version": "3.9.7"
  }
 },
 "nbformat": 4,
 "nbformat_minor": 2
}
