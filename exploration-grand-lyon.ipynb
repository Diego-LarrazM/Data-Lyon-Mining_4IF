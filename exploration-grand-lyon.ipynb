{
 "cells": [
  {
   "cell_type": "markdown",
   "metadata": {},
   "source": [
    "# <center>Data Mining project: Discover and describe areas of interest<br> and events from geo-located parsed_data</center>"
   ]
  },
  {
   "attachments": {},
   "cell_type": "markdown",
   "metadata": {},
   "source": [
    "# 0/ Import Dataset and Libraries"
   ]
  },
  {
   "attachments": {},
   "cell_type": "markdown",
   "metadata": {},
   "source": [
    "## #1 Setting Environment"
   ]
  },
  {
   "cell_type": "code",
   "execution_count": 1,
   "metadata": {},
   "outputs": [
    {
     "name": "stderr",
     "output_type": "stream",
     "text": [
      "Actual environment location may have moved due to redirects, links or junctions.\n",
      "  Requested location: \"h:\\IF4\\fouilleD\\Data-Lyon-Mining_4IF\\dataMiningEnv\\Scripts\\python.exe\"\n",
      "  Actual location:    \"\\\\ps-home.insa-lyon.fr\\users\\home\\dlarrazmar\\IF4\\fouilleD\\Data-Lyon-Mining_4IF\\dataMiningEnv\\Scripts\\python.exe\"\n",
      "'source' n'est pas reconnu en tant que commande interne\n",
      "ou externe, un programme ex�cutable ou un fichier de commandes.\n"
     ]
    }
   ],
   "source": [
    "! python -m venv dataMiningEnv\n",
    "#Activate windows\n",
    "#! dataMiningEnv\\Scripts\\activate.bat\n",
    "\n",
    "#Activate mac\n",
    "! source dataMiningEnv/bin/activate\n"
   ]
  },
  {
   "attachments": {},
   "cell_type": "markdown",
   "metadata": {},
   "source": [
    "## #2 Importing Libraries"
   ]
  },
  {
   "cell_type": "markdown",
   "metadata": {},
   "source": [
    "- ### Installs"
   ]
  },
  {
   "attachments": {},
   "cell_type": "markdown",
   "metadata": {},
   "source": [
    ">requires: `pip install ipykernel`"
   ]
  },
  {
   "cell_type": "code",
   "execution_count": 1,
   "metadata": {},
   "outputs": [
    {
     "name": "stdout",
     "output_type": "stream",
     "text": [
      "Requirement already satisfied: numpy==1.26.0 in \\\\ps-home.insa-lyon.fr\\users\\home\\dlarrazmar\\if4\\fouilled\\data-lyon-mining_4if\\dataminingenv\\lib\\site-packages (1.26.0)\n"
     ]
    },
    {
     "name": "stderr",
     "output_type": "stream",
     "text": [
      "WARNING: You are using pip version 21.2.4; however, version 25.0 is available.\n",
      "You should consider upgrading via the '\\\\ps-home.insa-lyon.fr\\users\\home\\dlarrazmar\\IF4\\fouilleD\\Data-Lyon-Mining_4IF\\dataMiningEnv\\Scripts\\python.exe -m pip install --upgrade pip' command.\n"
     ]
    },
    {
     "name": "stdout",
     "output_type": "stream",
     "text": [
      "Requirement already satisfied: pandas==2.1.1 in \\\\ps-home.insa-lyon.fr\\users\\home\\dlarrazmar\\if4\\fouilled\\data-lyon-mining_4if\\dataminingenv\\lib\\site-packages (2.1.1)\n",
      "Requirement already satisfied: numpy>=1.22.4 in \\\\ps-home.insa-lyon.fr\\users\\home\\dlarrazmar\\if4\\fouilled\\data-lyon-mining_4if\\dataminingenv\\lib\\site-packages (from pandas==2.1.1) (1.26.0)\n",
      "Requirement already satisfied: tzdata>=2022.1 in \\\\ps-home.insa-lyon.fr\\users\\home\\dlarrazmar\\if4\\fouilled\\data-lyon-mining_4if\\dataminingenv\\lib\\site-packages (from pandas==2.1.1) (2025.1)\n",
      "Requirement already satisfied: python-dateutil>=2.8.2 in \\\\ps-home.insa-lyon.fr\\users\\home\\dlarrazmar\\if4\\fouilled\\data-lyon-mining_4if\\dataminingenv\\lib\\site-packages (from pandas==2.1.1) (2.9.0.post0)\n",
      "Requirement already satisfied: pytz>=2020.1 in \\\\ps-home.insa-lyon.fr\\users\\home\\dlarrazmar\\if4\\fouilled\\data-lyon-mining_4if\\dataminingenv\\lib\\site-packages (from pandas==2.1.1) (2024.2)\n",
      "Requirement already satisfied: six>=1.5 in \\\\ps-home.insa-lyon.fr\\users\\home\\dlarrazmar\\if4\\fouilled\\data-lyon-mining_4if\\dataminingenv\\lib\\site-packages (from python-dateutil>=2.8.2->pandas==2.1.1) (1.17.0)\n"
     ]
    },
    {
     "name": "stderr",
     "output_type": "stream",
     "text": [
      "WARNING: You are using pip version 21.2.4; however, version 25.0 is available.\n",
      "You should consider upgrading via the '\\\\ps-home.insa-lyon.fr\\users\\home\\dlarrazmar\\IF4\\fouilleD\\Data-Lyon-Mining_4IF\\dataMiningEnv\\Scripts\\python.exe -m pip install --upgrade pip' command.\n"
     ]
    },
    {
     "name": "stdout",
     "output_type": "stream",
     "text": [
      "Collecting scikit-learn==1.5.1\n",
      "  Using cached scikit_learn-1.5.1-cp39-cp39-win_amd64.whl (11.0 MB)\n",
      "Requirement already satisfied: numpy>=1.19.5 in \\\\ps-home.insa-lyon.fr\\users\\home\\dlarrazmar\\if4\\fouilled\\data-lyon-mining_4if\\dataminingenv\\lib\\site-packages (from scikit-learn==1.5.1) (1.26.0)\n",
      "Requirement already satisfied: threadpoolctl>=3.1.0 in \\\\ps-home.insa-lyon.fr\\users\\home\\dlarrazmar\\if4\\fouilled\\data-lyon-mining_4if\\dataminingenv\\lib\\site-packages (from scikit-learn==1.5.1) (3.5.0)\n",
      "Collecting joblib>=1.2.0\n",
      "  Using cached joblib-1.4.2-py3-none-any.whl (301 kB)\n",
      "Collecting scipy>=1.6.0\n",
      "  Using cached scipy-1.13.1-cp39-cp39-win_amd64.whl (46.2 MB)\n",
      "Installing collected packages: scipy, joblib, scikit-learn\n",
      "Successfully installed joblib-1.4.2 scikit-learn-1.5.1 scipy-1.13.1\n"
     ]
    },
    {
     "name": "stderr",
     "output_type": "stream",
     "text": [
      "WARNING: You are using pip version 21.2.4; however, version 25.0 is available.\n",
      "You should consider upgrading via the '\\\\ps-home.insa-lyon.fr\\users\\home\\dlarrazmar\\IF4\\fouilleD\\Data-Lyon-Mining_4IF\\dataMiningEnv\\Scripts\\python.exe -m pip install --upgrade pip' command.\n"
     ]
    },
    {
     "name": "stdout",
     "output_type": "stream",
     "text": [
      "Collecting matplotlib==3.8.0\n",
      "  Downloading matplotlib-3.8.0-cp39-cp39-win_amd64.whl (7.6 MB)\n",
      "Requirement already satisfied: python-dateutil>=2.7 in \\\\ps-home.insa-lyon.fr\\users\\home\\dlarrazmar\\if4\\fouilled\\data-lyon-mining_4if\\dataminingenv\\lib\\site-packages (from matplotlib==3.8.0) (2.9.0.post0)\n",
      "Collecting pyparsing>=2.3.1\n",
      "  Downloading pyparsing-3.2.1-py3-none-any.whl (107 kB)\n",
      "Collecting fonttools>=4.22.0\n",
      "  Downloading fonttools-4.55.6-cp39-cp39-win_amd64.whl (2.2 MB)\n",
      "Collecting kiwisolver>=1.0.1\n",
      "  Downloading kiwisolver-1.4.7-cp39-cp39-win_amd64.whl (55 kB)\n",
      "Collecting importlib-resources>=3.2.0\n",
      "  Downloading importlib_resources-6.5.2-py3-none-any.whl (37 kB)\n",
      "Requirement already satisfied: packaging>=20.0 in \\\\ps-home.insa-lyon.fr\\users\\home\\dlarrazmar\\if4\\fouilled\\data-lyon-mining_4if\\dataminingenv\\lib\\site-packages (from matplotlib==3.8.0) (24.2)\n",
      "Requirement already satisfied: numpy<2,>=1.21 in \\\\ps-home.insa-lyon.fr\\users\\home\\dlarrazmar\\if4\\fouilled\\data-lyon-mining_4if\\dataminingenv\\lib\\site-packages (from matplotlib==3.8.0) (1.26.0)\n",
      "Collecting pillow>=6.2.0\n",
      "  Downloading pillow-11.1.0-cp39-cp39-win_amd64.whl (2.6 MB)\n",
      "Collecting cycler>=0.10\n",
      "  Downloading cycler-0.12.1-py3-none-any.whl (8.3 kB)\n",
      "Collecting contourpy>=1.0.1\n",
      "  Downloading contourpy-1.3.0-cp39-cp39-win_amd64.whl (211 kB)\n",
      "Requirement already satisfied: zipp>=3.1.0 in \\\\ps-home.insa-lyon.fr\\users\\home\\dlarrazmar\\if4\\fouilled\\data-lyon-mining_4if\\dataminingenv\\lib\\site-packages (from importlib-resources>=3.2.0->matplotlib==3.8.0) (3.21.0)\n",
      "Requirement already satisfied: six>=1.5 in \\\\ps-home.insa-lyon.fr\\users\\home\\dlarrazmar\\if4\\fouilled\\data-lyon-mining_4if\\dataminingenv\\lib\\site-packages (from python-dateutil>=2.7->matplotlib==3.8.0) (1.17.0)\n",
      "Installing collected packages: pyparsing, pillow, kiwisolver, importlib-resources, fonttools, cycler, contourpy, matplotlib\n",
      "Successfully installed contourpy-1.3.0 cycler-0.12.1 fonttools-4.55.6 importlib-resources-6.5.2 kiwisolver-1.4.7 matplotlib-3.8.0 pillow-11.1.0 pyparsing-3.2.1\n"
     ]
    },
    {
     "name": "stderr",
     "output_type": "stream",
     "text": [
      "WARNING: You are using pip version 21.2.4; however, version 25.0 is available.\n",
      "You should consider upgrading via the '\\\\ps-home.insa-lyon.fr\\users\\home\\dlarrazmar\\IF4\\fouilleD\\Data-Lyon-Mining_4IF\\dataMiningEnv\\Scripts\\python.exe -m pip install --upgrade pip' command.\n"
     ]
    },
    {
     "name": "stdout",
     "output_type": "stream",
     "text": [
      "Collecting folium==0.12.1\n",
      "  Downloading folium-0.12.1-py2.py3-none-any.whl (94 kB)\n",
      "Collecting requests\n",
      "  Downloading requests-2.32.3-py3-none-any.whl (64 kB)\n",
      "Requirement already satisfied: numpy in \\\\ps-home.insa-lyon.fr\\users\\home\\dlarrazmar\\if4\\fouilled\\data-lyon-mining_4if\\dataminingenv\\lib\\site-packages (from folium==0.12.1) (1.26.0)\n",
      "Collecting jinja2>=2.9\n",
      "  Downloading jinja2-3.1.5-py3-none-any.whl (134 kB)\n",
      "Collecting branca>=0.3.0\n",
      "  Downloading branca-0.8.1-py3-none-any.whl (26 kB)\n",
      "Collecting MarkupSafe>=2.0\n",
      "  Downloading MarkupSafe-3.0.2-cp39-cp39-win_amd64.whl (15 kB)\n",
      "Collecting idna<4,>=2.5\n",
      "  Downloading idna-3.10-py3-none-any.whl (70 kB)\n",
      "Collecting urllib3<3,>=1.21.1\n",
      "  Downloading urllib3-2.3.0-py3-none-any.whl (128 kB)\n",
      "Collecting charset-normalizer<4,>=2\n",
      "  Downloading charset_normalizer-3.4.1-cp39-cp39-win_amd64.whl (102 kB)\n",
      "Collecting certifi>=2017.4.17\n",
      "  Downloading certifi-2024.12.14-py3-none-any.whl (164 kB)\n",
      "Installing collected packages: MarkupSafe, urllib3, jinja2, idna, charset-normalizer, certifi, requests, branca, folium\n",
      "Successfully installed MarkupSafe-3.0.2 branca-0.8.1 certifi-2024.12.14 charset-normalizer-3.4.1 folium-0.12.1 idna-3.10 jinja2-3.1.5 requests-2.32.3 urllib3-2.3.0\n"
     ]
    },
    {
     "name": "stderr",
     "output_type": "stream",
     "text": [
      "WARNING: You are using pip version 21.2.4; however, version 25.0 is available.\n",
      "You should consider upgrading via the '\\\\ps-home.insa-lyon.fr\\users\\home\\dlarrazmar\\IF4\\fouilleD\\Data-Lyon-Mining_4IF\\dataMiningEnv\\Scripts\\python.exe -m pip install --upgrade pip' command.\n"
     ]
    }
   ],
   "source": [
    "\n",
    "# installation of required libraries and dependencies\n",
    "# numeric calculations\n",
    "! pip install numpy==1.26.0 \n",
    "# data frames \n",
    "! pip install pandas==2.1.1 \n",
    "# machine learning algorithms \n",
    "! pip install scikit-learn==1.5.1 \n",
    "# plotting \n",
    "! pip install matplotlib==3.8.0 \n",
    "# Language processing\n",
    "#! pip install nltk\n",
    "#! python -m nltk.downloader popular # popular functions\n",
    "# Folium\n",
    "! pip install folium==0.12.1\n"
   ]
  },
  {
   "attachments": {},
   "cell_type": "markdown",
   "metadata": {},
   "source": [
    "- ###   Imports"
   ]
  },
  {
   "cell_type": "code",
   "execution_count": 2,
   "metadata": {},
   "outputs": [],
   "source": [
    "import pandas as pd\n",
    "import re\n",
    "import matplotlib.pyplot as plt\n",
    "from sklearn.metrics import silhouette_score, silhouette_samples\n",
    "import sklearn.cluster as cl\n",
    "import folium\n",
    "from folium.plugins import MarkerCluster\n",
    "#import nltk\n"
   ]
  },
  {
   "attachments": {},
   "cell_type": "markdown",
   "metadata": {},
   "source": [
    "## #3 Importing Data"
   ]
  },
  {
   "cell_type": "code",
   "execution_count": 4,
   "metadata": {},
   "outputs": [],
   "source": [
    "# Charger les données avec low_memory=False pour éviter les avertissements\n",
    "DATA = pd.read_csv(\"data/flickr_data2.csv\", sep=\",\", low_memory=False)"
   ]
  },
  {
   "cell_type": "markdown",
   "metadata": {},
   "source": [
    "## #1: Discovering areas of interests using clustering"
   ]
  },
  {
   "attachments": {},
   "cell_type": "markdown",
   "metadata": {},
   "source": [
    "# I/ Understanding the Data"
   ]
  },
  {
   "cell_type": "markdown",
   "metadata": {},
   "source": [
    "--Write something to describe this part of the report--"
   ]
  },
  {
   "attachments": {},
   "cell_type": "markdown",
   "metadata": {},
   "source": [
    "## #1 Data clearing and preparation"
   ]
  },
  {
   "cell_type": "code",
   "execution_count": 5,
   "metadata": {},
   "outputs": [],
   "source": [
    "# Print details about parsing step:\n",
    "# -> Number of lines parsed - % of original data parsed\n",
    "def parse_conclusion(parsed_data):\n",
    "    l = len(parsed_data)\n",
    "    print(f\"<Lines parsed: {l} - {round(100*l/len(DATA),3)}% of original data>\")"
   ]
  },
  {
   "attachments": {},
   "cell_type": "markdown",
   "metadata": {},
   "source": [
    "- Étape 1 : Nettoyage initial des colonnes"
   ]
  },
  {
   "cell_type": "code",
   "execution_count": 6,
   "metadata": {},
   "outputs": [],
   "source": [
    "# Supprimer les espaces supplémentaires dans les noms des colonnes\n",
    "parsed_data = DATA\n",
    "parsed_data.columns = parsed_data.columns.str.strip()\n",
    "\n",
    "# Convertir les colonnes temporelles en numériques\n",
    "# Liste des colonnes temporelles\n",
    "time_columns = [\n",
    "    'date_taken_minute', 'date_taken_hour', 'date_taken_day',\n",
    "    'date_taken_month', 'date_taken_year',\n",
    "    'date_upload_minute', 'date_upload_hour', 'date_upload_day',\n",
    "    'date_upload_month', 'date_upload_year'\n",
    "]\n",
    "\n",
    "# Convertir chaque colonne en int64, remplacer les erreurs par 0\n",
    "for col in time_columns:\n",
    "    parsed_data[col] = pd.to_numeric(DATA[col], errors='coerce').fillna(0).astype('int64')"
   ]
  },
  {
   "attachments": {},
   "cell_type": "markdown",
   "metadata": {},
   "source": [
    "- Étape 2 : Suppression des doublons basés sur l'identifiant unique"
   ]
  },
  {
   "cell_type": "code",
   "execution_count": 7,
   "metadata": {},
   "outputs": [
    {
     "name": "stdout",
     "output_type": "stream",
     "text": [
      "<Lines parsed: 252143 - 60.0% of original data>\n"
     ]
    }
   ],
   "source": [
    "# Sauvegarder les doublons pour audit futur\n",
    "duplicate_data = parsed_data[parsed_data['id'].duplicated(keep='first')].sort_values(\"id\")\n",
    "duplicate_data.to_csv(\n",
    "    \"data/parsed_lines/duplicatedId.csv\", index=False\n",
    ")\n",
    "\n",
    "# Supprimer les doublons\n",
    "parsed_data = parsed_data[~parsed_data['id'].duplicated(keep='first')]\n",
    "\n",
    "parse_conclusion(duplicate_data)"
   ]
  },
  {
   "attachments": {},
   "cell_type": "markdown",
   "metadata": {},
   "source": [
    "- Étape 3 : Gestion des colonnes inutilisées ou corrompues"
   ]
  },
  {
   "cell_type": "code",
   "execution_count": 8,
   "metadata": {},
   "outputs": [
    {
     "name": "stdout",
     "output_type": "stream",
     "text": [
      "<Lines parsed: 47 - 0.011% of original data>\n"
     ]
    }
   ],
   "source": [
    "# Identifier les colonnes inutiles\n",
    "unused_columns = [\"Unnamed: 16\", \"Unnamed: 17\", \"Unnamed: 18\", \n",
    "                  \"date_upload_minute\", \"date_upload_hour\", \"date_upload_day\", \n",
    "                  \"date_upload_month\", \"date_upload_year\"]\n",
    "\n",
    "# Sauvegarder les données corrompues\n",
    "corrupted_data = parsed_data[parsed_data[\"Unnamed: 16\"].notnull() | parsed_data[\"Unnamed: 17\"].notnull() | parsed_data[\"Unnamed: 18\"].notnull()]\n",
    "corrupted_data.to_csv(\n",
    "    \"data/parsed_lines/corrupted_data.csv\"\n",
    ", index=False)\n",
    "\n",
    "\n",
    "# Supprimer les colonnes inutilisées et les lignes corrompues\n",
    "parsed_data = parsed_data[~(parsed_data[\"Unnamed: 16\"].notnull() | parsed_data[\"Unnamed: 17\"].notnull() | parsed_data[\"Unnamed: 18\"].notnull())]\n",
    "parsed_data = parsed_data.drop(columns=unused_columns)\n",
    "\n",
    "parse_conclusion(corrupted_data)"
   ]
  },
  {
   "attachments": {},
   "cell_type": "markdown",
   "metadata": {},
   "source": [
    "- Étape 4 : Nettoyage des coordonnées GPS exterieures à Lyon"
   ]
  },
  {
   "cell_type": "code",
   "execution_count": 9,
   "metadata": {},
   "outputs": [
    {
     "name": "stdout",
     "output_type": "stream",
     "text": [
      "<Lines parsed: 10502 - 2.499% of original data>\n"
     ]
    }
   ],
   "source": [
    "# Définir les limites géographiques de Lyon\n",
    "lyon_lat_min, lyon_lat_max = 45.69, 45.85\n",
    "lyon_lon_min, lyon_lon_max = 4.78, 4.92\n",
    "\n",
    "# Sauvegarder les données not Lyonnaises ou non definies\n",
    "out_lyon_data = parsed_data[\n",
    "    ~((parsed_data['lat'] >= lyon_lat_min) & \n",
    "    (parsed_data['lat'] <= lyon_lat_max) &\n",
    "    (parsed_data['long'] >= lyon_lon_min) &\n",
    "    (parsed_data['long'] <= lyon_lon_max))\n",
    "]\n",
    "out_lyon_data.to_csv(\n",
    "    \"data/parsed_lines/out_lyon.csv\"\n",
    ", index=False)\n",
    "\n",
    "# Filtrer les données pour garder uniquement les points dans Lyon\n",
    "parsed_data = parsed_data[\n",
    "    (parsed_data['lat'] >= lyon_lat_min) & \n",
    "    (parsed_data['lat'] <= lyon_lat_max) &\n",
    "    (parsed_data['long'] >= lyon_lon_min) &\n",
    "    (parsed_data['long'] <= lyon_lon_max)\n",
    "]\n",
    "\n",
    "parse_conclusion(out_lyon_data)"
   ]
  },
  {
   "attachments": {},
   "cell_type": "markdown",
   "metadata": {},
   "source": [
    "- Étape 5 : Gestion des valeurs manquantes"
   ]
  },
  {
   "cell_type": "code",
   "execution_count": 10,
   "metadata": {},
   "outputs": [
    {
     "name": "stdout",
     "output_type": "stream",
     "text": [
      "<Lines parsed: 0 - 0.0% of original data>\n"
     ]
    }
   ],
   "source": [
    "# Supprimer les lignes avec des valeurs manquantes\n",
    "#parsed_data = parsed_data.dropna(subset=['id', 'user', 'lat', 'long', 'tags', 'title', 'date_taken_minute', 'date_taken_hour', 'date_taken_day', 'date_taken_month', 'date_taken_year'])\n",
    "\n",
    "# Sauvegarder les lignes à données manquantes\n",
    "val_manquante_data = parsed_data[parsed_data.drop(columns=['tags','title']).isna().any(axis = 1)]\n",
    "val_manquante_data.to_csv(\n",
    "    \"data/parsed_lines/NaNs.csv\"\n",
    ", index=False)\n",
    "\n",
    "# Remplir les valeurs manquantes pour les colonnes textuelles par des chaînes vides\n",
    "parsed_data['tags'] = parsed_data['tags'].fillna('')\n",
    "parsed_data['title'] = parsed_data['title'].fillna('')\n",
    "\n",
    "parse_conclusion(val_manquante_data)"
   ]
  },
  {
   "attachments": {},
   "cell_type": "markdown",
   "metadata": {},
   "source": [
    "- Étape 6 : Filtrage des dates incohérentes"
   ]
  },
  {
   "cell_type": "code",
   "execution_count": 11,
   "metadata": {},
   "outputs": [
    {
     "name": "stdout",
     "output_type": "stream",
     "text": [
      "<Lines parsed: 2028 - 0.483% of original data>\n"
     ]
    }
   ],
   "source": [
    "min_year = 2009\n",
    "\n",
    "# Sauvegarder les données ayant des date non correcte\n",
    "uncorrect_date_data = parsed_data[\n",
    "    ~((parsed_data['date_taken_year'] >= min_year) & (parsed_data['date_taken_year'] <= 2025) &\n",
    "    (parsed_data['date_taken_month'] >= 1) & (parsed_data['date_taken_month'] <= 12) &\n",
    "    (parsed_data['date_taken_day'] >= 1) & (parsed_data['date_taken_day'] <= 31) &\n",
    "    (parsed_data['date_taken_hour'] >= 0) & (parsed_data['date_taken_hour'] <= 23) &\n",
    "    (parsed_data['date_taken_minute'] >= 0) & (parsed_data['date_taken_minute'] <= 59))\n",
    "]\n",
    "uncorrect_date_data.to_csv(\n",
    "    \"data/parsed_lines/uncorrect_date.csv\"\n",
    ", index=False)\n",
    "\n",
    "# Garder uniquement les dates raisonnables (entre 2009 et 2025)\n",
    "parsed_data = parsed_data[\n",
    "    (parsed_data['date_taken_year'] >= min_year) & (parsed_data['date_taken_year'] <= 2025) &\n",
    "    (parsed_data['date_taken_month'] >= 1) & (parsed_data['date_taken_month'] <= 12) &\n",
    "    (parsed_data['date_taken_day'] >= 1) & (parsed_data['date_taken_day'] <= 31) &\n",
    "    (parsed_data['date_taken_hour'] >= 0) & (parsed_data['date_taken_hour'] <= 23) &\n",
    "    (parsed_data['date_taken_minute'] >= 0) & (parsed_data['date_taken_minute'] <= 59) \n",
    "]\n",
    "\n",
    "parse_conclusion(uncorrect_date_data)"
   ]
  },
  {
   "attachments": {},
   "cell_type": "markdown",
   "metadata": {},
   "source": [
    "- Étape 7 : Nettoyage/Standarisation des colonnes textuelles"
   ]
  },
  {
   "cell_type": "code",
   "execution_count": 12,
   "metadata": {},
   "outputs": [],
   "source": [
    "# Fonction pour nettoyer le texte\n",
    "def clean_text(text):\n",
    "    # Supprimer les caractères spéciaux et passer en minuscules\n",
    "    return re.sub(r'[^a-zA-Z0-9, ]', '', text).lower()\n",
    "\n",
    "# Appliquer le nettoyage sur les colonnes textuelles\n",
    "parsed_data['tags'] = parsed_data['tags'].apply(clean_text)\n",
    "parsed_data['title'] = parsed_data['title'].apply(clean_text)"
   ]
  },
  {
   "attachments": {},
   "cell_type": "markdown",
   "metadata": {},
   "source": [
    "- Résultat final"
   ]
  },
  {
   "cell_type": "code",
   "execution_count": 13,
   "metadata": {},
   "outputs": [
    {
     "name": "stdout",
     "output_type": "stream",
     "text": [
      "Données nettoyées :\n"
     ]
    },
    {
     "data": {
      "text/html": [
       "<div>\n",
       "<style scoped>\n",
       "    .dataframe tbody tr th:only-of-type {\n",
       "        vertical-align: middle;\n",
       "    }\n",
       "\n",
       "    .dataframe tbody tr th {\n",
       "        vertical-align: top;\n",
       "    }\n",
       "\n",
       "    .dataframe thead th {\n",
       "        text-align: right;\n",
       "    }\n",
       "</style>\n",
       "<table border=\"1\" class=\"dataframe\">\n",
       "  <thead>\n",
       "    <tr style=\"text-align: right;\">\n",
       "      <th></th>\n",
       "      <th>id</th>\n",
       "      <th>user</th>\n",
       "      <th>lat</th>\n",
       "      <th>long</th>\n",
       "      <th>tags</th>\n",
       "      <th>title</th>\n",
       "      <th>date_taken_minute</th>\n",
       "      <th>date_taken_hour</th>\n",
       "      <th>date_taken_day</th>\n",
       "      <th>date_taken_month</th>\n",
       "      <th>date_taken_year</th>\n",
       "    </tr>\n",
       "  </thead>\n",
       "  <tbody>\n",
       "    <tr>\n",
       "      <th>0</th>\n",
       "      <td>4395181099</td>\n",
       "      <td>30624617@N03</td>\n",
       "      <td>45.754858</td>\n",
       "      <td>4.821710</td>\n",
       "      <td>chair,lyon,rhne,chaise,rhnealpes</td>\n",
       "      <td>chaises avec vue</td>\n",
       "      <td>11</td>\n",
       "      <td>15</td>\n",
       "      <td>28</td>\n",
       "      <td>2</td>\n",
       "      <td>2010</td>\n",
       "    </tr>\n",
       "    <tr>\n",
       "      <th>1</th>\n",
       "      <td>4394748717</td>\n",
       "      <td>35853470@N00</td>\n",
       "      <td>45.753270</td>\n",
       "      <td>4.862953</td>\n",
       "      <td></td>\n",
       "      <td></td>\n",
       "      <td>51</td>\n",
       "      <td>17</td>\n",
       "      <td>28</td>\n",
       "      <td>2</td>\n",
       "      <td>2010</td>\n",
       "    </tr>\n",
       "    <tr>\n",
       "      <th>2</th>\n",
       "      <td>4394694699</td>\n",
       "      <td>11817998@N05</td>\n",
       "      <td>45.760655</td>\n",
       "      <td>4.846564</td>\n",
       "      <td>365,iphone</td>\n",
       "      <td>59365  r46 v103 b163</td>\n",
       "      <td>29</td>\n",
       "      <td>17</td>\n",
       "      <td>28</td>\n",
       "      <td>2</td>\n",
       "      <td>2010</td>\n",
       "    </tr>\n",
       "    <tr>\n",
       "      <th>3</th>\n",
       "      <td>4394803790</td>\n",
       "      <td>11545749@N06</td>\n",
       "      <td>45.784000</td>\n",
       "      <td>4.874072</td>\n",
       "      <td>nin,nineinchnails,gift,screening,toiou,avott</td>\n",
       "      <td>20100129 toiou avott lyon</td>\n",
       "      <td>15</td>\n",
       "      <td>20</td>\n",
       "      <td>28</td>\n",
       "      <td>1</td>\n",
       "      <td>2010</td>\n",
       "    </tr>\n",
       "    <tr>\n",
       "      <th>4</th>\n",
       "      <td>4394803554</td>\n",
       "      <td>11545749@N06</td>\n",
       "      <td>45.784000</td>\n",
       "      <td>4.874072</td>\n",
       "      <td>lyon,nin,nineinchnails,gift,screening,toiou,avott</td>\n",
       "      <td>20100128 toiou avott lyon</td>\n",
       "      <td>10</td>\n",
       "      <td>20</td>\n",
       "      <td>28</td>\n",
       "      <td>1</td>\n",
       "      <td>2010</td>\n",
       "    </tr>\n",
       "  </tbody>\n",
       "</table>\n",
       "</div>"
      ],
      "text/plain": [
       "           id          user        lat      long  \\\n",
       "0  4395181099  30624617@N03  45.754858  4.821710   \n",
       "1  4394748717  35853470@N00  45.753270  4.862953   \n",
       "2  4394694699  11817998@N05  45.760655  4.846564   \n",
       "3  4394803790  11545749@N06  45.784000  4.874072   \n",
       "4  4394803554  11545749@N06  45.784000  4.874072   \n",
       "\n",
       "                                                tags  \\\n",
       "0                   chair,lyon,rhne,chaise,rhnealpes   \n",
       "1                                                      \n",
       "2                                         365,iphone   \n",
       "3       nin,nineinchnails,gift,screening,toiou,avott   \n",
       "4  lyon,nin,nineinchnails,gift,screening,toiou,avott   \n",
       "\n",
       "                       title  date_taken_minute  date_taken_hour  \\\n",
       "0           chaises avec vue                 11               15   \n",
       "1                                            51               17   \n",
       "2       59365  r46 v103 b163                 29               17   \n",
       "3  20100129 toiou avott lyon                 15               20   \n",
       "4  20100128 toiou avott lyon                 10               20   \n",
       "\n",
       "   date_taken_day  date_taken_month  date_taken_year  \n",
       "0              28                 2             2010  \n",
       "1              28                 2             2010  \n",
       "2              28                 2             2010  \n",
       "3              28                 1             2010  \n",
       "4              28                 1             2010  "
      ]
     },
     "execution_count": 13,
     "metadata": {},
     "output_type": "execute_result"
    }
   ],
   "source": [
    "# Résumé final des données nettoyées\n",
    "print(\"Données nettoyées :\")\n",
    "\n",
    "# Sauvegarder les données nettoyées pour les prochaines étapes\n",
    "parsed_data.to_csv(\"data/cleaned_flickr_data.csv\", index=False)\n",
    "\n",
    "parsed_data.head(5)"
   ]
  },
  {
   "attachments": {},
   "cell_type": "markdown",
   "metadata": {},
   "source": [
    "## #2 Visualize Data on map"
   ]
  },
  {
   "cell_type": "code",
   "execution_count": 14,
   "metadata": {},
   "outputs": [
    {
     "ename": "KeyboardInterrupt",
     "evalue": "",
     "output_type": "error",
     "traceback": [
      "\u001b[1;31m---------------------------------------------------------------------------\u001b[0m",
      "\u001b[1;31mKeyboardInterrupt\u001b[0m                         Traceback (most recent call last)",
      "Cell \u001b[1;32mIn[14], line 12\u001b[0m\n\u001b[0;32m     10\u001b[0m \u001b[39m# Add points from the dataset\u001b[39;00m\n\u001b[0;32m     11\u001b[0m \u001b[39mfor\u001b[39;00m _, row \u001b[39min\u001b[39;00m parsed_data\u001b[39m.\u001b[39miterrows():\n\u001b[1;32m---> 12\u001b[0m     folium\u001b[39m.\u001b[39;49mMarker(\n\u001b[0;32m     13\u001b[0m         location\u001b[39m=\u001b[39;49m[row[\u001b[39m'\u001b[39;49m\u001b[39mlat\u001b[39;49m\u001b[39m'\u001b[39;49m], row[\u001b[39m'\u001b[39;49m\u001b[39mlong\u001b[39;49m\u001b[39m'\u001b[39;49m]],  \u001b[39m# Replace with 'lat' and 'long' if necessary\u001b[39;49;00m\n\u001b[0;32m     14\u001b[0m         popup\u001b[39m=\u001b[39;49m\u001b[39mf\u001b[39;49m\u001b[39m\"\u001b[39;49m\u001b[39mTags: \u001b[39;49m\u001b[39m{\u001b[39;49;00mrow[\u001b[39m'\u001b[39;49m\u001b[39mtags\u001b[39;49m\u001b[39m'\u001b[39;49m]\u001b[39m}\u001b[39;49;00m\u001b[39m, Title: \u001b[39;49m\u001b[39m{\u001b[39;49;00mrow[\u001b[39m'\u001b[39;49m\u001b[39mtitle\u001b[39;49m\u001b[39m'\u001b[39;49m]\u001b[39m}\u001b[39;49;00m\u001b[39m\"\u001b[39;49m,  \u001b[39m# Optional popup information\u001b[39;49;00m\n\u001b[0;32m     15\u001b[0m     )\u001b[39m.\u001b[39madd_to(marker_cluster)\n\u001b[0;32m     17\u001b[0m \u001b[39m# Display the map\u001b[39;00m\n\u001b[0;32m     18\u001b[0m map_lyon\n",
      "File \u001b[1;32mh:\\IF4\\fouilleD\\Data-Lyon-Mining_4IF\\dataMiningEnv\\lib\\site-packages\\folium\\map.py:288\u001b[0m, in \u001b[0;36mMarker.__init__\u001b[1;34m(self, location, popup, tooltip, icon, draggable, **kwargs)\u001b[0m\n\u001b[0;32m    285\u001b[0m     \u001b[39mself\u001b[39m\u001b[39m.\u001b[39micon \u001b[39m=\u001b[39m icon\n\u001b[0;32m    286\u001b[0m \u001b[39mif\u001b[39;00m popup \u001b[39mis\u001b[39;00m \u001b[39mnot\u001b[39;00m \u001b[39mNone\u001b[39;00m:\n\u001b[0;32m    287\u001b[0m     \u001b[39mself\u001b[39m\u001b[39m.\u001b[39madd_child(popup \u001b[39mif\u001b[39;00m \u001b[39misinstance\u001b[39m(popup, Popup)\n\u001b[1;32m--> 288\u001b[0m                    \u001b[39melse\u001b[39;00m Popup(\u001b[39mstr\u001b[39;49m(popup)))\n\u001b[0;32m    289\u001b[0m \u001b[39mif\u001b[39;00m tooltip \u001b[39mis\u001b[39;00m \u001b[39mnot\u001b[39;00m \u001b[39mNone\u001b[39;00m:\n\u001b[0;32m    290\u001b[0m     \u001b[39mself\u001b[39m\u001b[39m.\u001b[39madd_child(tooltip \u001b[39mif\u001b[39;00m \u001b[39misinstance\u001b[39m(tooltip, Tooltip)\n\u001b[0;32m    291\u001b[0m                    \u001b[39melse\u001b[39;00m Tooltip(\u001b[39mstr\u001b[39m(tooltip)))\n",
      "File \u001b[1;32mh:\\IF4\\fouilleD\\Data-Lyon-Mining_4IF\\dataMiningEnv\\lib\\site-packages\\folium\\map.py:354\u001b[0m, in \u001b[0;36mPopup.__init__\u001b[1;34m(self, html, parse_html, max_width, show, sticky, **kwargs)\u001b[0m\n\u001b[0;32m    352\u001b[0m     \u001b[39mself\u001b[39m\u001b[39m.\u001b[39mhtml\u001b[39m.\u001b[39madd_child(html)\n\u001b[0;32m    353\u001b[0m \u001b[39melif\u001b[39;00m \u001b[39misinstance\u001b[39m(html, \u001b[39mstr\u001b[39m):\n\u001b[1;32m--> 354\u001b[0m     \u001b[39mself\u001b[39m\u001b[39m.\u001b[39mhtml\u001b[39m.\u001b[39madd_child(Html(html, script\u001b[39m=\u001b[39;49mscript))\n\u001b[0;32m    356\u001b[0m \u001b[39mself\u001b[39m\u001b[39m.\u001b[39mshow \u001b[39m=\u001b[39m show\n\u001b[0;32m    357\u001b[0m \u001b[39mself\u001b[39m\u001b[39m.\u001b[39moptions \u001b[39m=\u001b[39m parse_options(\n\u001b[0;32m    358\u001b[0m     max_width\u001b[39m=\u001b[39mmax_width,\n\u001b[0;32m    359\u001b[0m     autoClose\u001b[39m=\u001b[39m\u001b[39mFalse\u001b[39;00m \u001b[39mif\u001b[39;00m show \u001b[39mor\u001b[39;00m sticky \u001b[39melse\u001b[39;00m \u001b[39mNone\u001b[39;00m,\n\u001b[0;32m    360\u001b[0m     closeOnClick\u001b[39m=\u001b[39m\u001b[39mFalse\u001b[39;00m \u001b[39mif\u001b[39;00m sticky \u001b[39melse\u001b[39;00m \u001b[39mNone\u001b[39;00m,\n\u001b[0;32m    361\u001b[0m     \u001b[39m*\u001b[39m\u001b[39m*\u001b[39mkwargs\n\u001b[0;32m    362\u001b[0m )\n",
      "File \u001b[1;32mh:\\IF4\\fouilleD\\Data-Lyon-Mining_4IF\\dataMiningEnv\\lib\\site-packages\\branca\\element.py:508\u001b[0m, in \u001b[0;36mHtml.__init__\u001b[1;34m(self, data, script, width, height)\u001b[0m\n\u001b[0;32m    505\u001b[0m \u001b[39mself\u001b[39m\u001b[39m.\u001b[39mscript \u001b[39m=\u001b[39m script\n\u001b[0;32m    506\u001b[0m \u001b[39mself\u001b[39m\u001b[39m.\u001b[39mdata \u001b[39m=\u001b[39m data\n\u001b[1;32m--> 508\u001b[0m \u001b[39mself\u001b[39m\u001b[39m.\u001b[39mwidth \u001b[39m=\u001b[39m _parse_size(width)\n\u001b[0;32m    509\u001b[0m \u001b[39mself\u001b[39m\u001b[39m.\u001b[39mheight \u001b[39m=\u001b[39m _parse_size(height)\n",
      "File \u001b[1;32mh:\\IF4\\fouilleD\\Data-Lyon-Mining_4IF\\dataMiningEnv\\lib\\site-packages\\branca\\utilities.py:382\u001b[0m, in \u001b[0;36m_parse_size\u001b[1;34m(value)\u001b[0m\n\u001b[0;32m    378\u001b[0m     \u001b[39mreturn\u001b[39;00m \u001b[39mfloat\u001b[39m(value), \u001b[39m\"\u001b[39m\u001b[39mpx\u001b[39m\u001b[39m\"\u001b[39m\n\u001b[0;32m    379\u001b[0m \u001b[39melif\u001b[39;00m \u001b[39misinstance\u001b[39m(value, \u001b[39mstr\u001b[39m):\n\u001b[0;32m    380\u001b[0m     \u001b[39m# match digits or a point, possibly followed by a space,\u001b[39;00m\n\u001b[0;32m    381\u001b[0m     \u001b[39m# followed by a unit: either 1 to 5 letters or a percent sign\u001b[39;00m\n\u001b[1;32m--> 382\u001b[0m     match \u001b[39m=\u001b[39m re\u001b[39m.\u001b[39;49mfullmatch(\u001b[39mr\u001b[39;49m\u001b[39m\"\u001b[39;49m\u001b[39m([\u001b[39;49m\u001b[39m\\\u001b[39;49m\u001b[39md.]+)\u001b[39;49m\u001b[39m\\\u001b[39;49m\u001b[39ms?(\u001b[39;49m\u001b[39m\\\u001b[39;49m\u001b[39mw\u001b[39;49m\u001b[39m{\u001b[39;49m\u001b[39m1,5}|\u001b[39;49m\u001b[39m%\u001b[39;49m\u001b[39m)\u001b[39;49m\u001b[39m\"\u001b[39;49m, value\u001b[39m.\u001b[39;49mstrip())\n\u001b[0;32m    383\u001b[0m     \u001b[39mif\u001b[39;00m match:\n\u001b[0;32m    384\u001b[0m         \u001b[39mreturn\u001b[39;00m \u001b[39mfloat\u001b[39m(match\u001b[39m.\u001b[39mgroup(\u001b[39m1\u001b[39m)), match\u001b[39m.\u001b[39mgroup(\u001b[39m2\u001b[39m)\n",
      "File \u001b[1;32mc:\\Program Files\\Python39\\lib\\re.py:196\u001b[0m, in \u001b[0;36mfullmatch\u001b[1;34m(pattern, string, flags)\u001b[0m\n\u001b[0;32m    193\u001b[0m \u001b[39mdef\u001b[39;00m\u001b[39m \u001b[39m\u001b[39mfullmatch\u001b[39m(pattern, string, flags\u001b[39m=\u001b[39m\u001b[39m0\u001b[39m):\n\u001b[0;32m    194\u001b[0m \u001b[39m    \u001b[39m\u001b[39m\"\"\"Try to apply the pattern to all of the string, returning\u001b[39;00m\n\u001b[0;32m    195\u001b[0m \u001b[39m    a Match object, or None if no match was found.\"\"\"\u001b[39;00m\n\u001b[1;32m--> 196\u001b[0m     \u001b[39mreturn\u001b[39;00m _compile(pattern, flags)\u001b[39m.\u001b[39;49mfullmatch(string)\n",
      "\u001b[1;31mKeyboardInterrupt\u001b[0m: "
     ]
    }
   ],
   "source": [
    "# Define the center of Lyon\n",
    "lyon_lat, lyon_lon = 45.75, 4.85  # Approximate coordinates for Lyon, France\n",
    "\n",
    "# Create a Folium map\n",
    "map_lyon = folium.Map(location=[lyon_lat, lyon_lon], zoom_start=12)\n",
    "\n",
    "# Create a marker cluster\n",
    "marker_cluster = MarkerCluster().add_to(map_lyon)\n",
    "\n",
    "# Add points from the dataset\n",
    "for _, row in parsed_data.iterrows():\n",
    "    folium.Marker(\n",
    "        location=[row['lat'], row['long']],  # Replace with 'lat' and 'long' if necessary\n",
    "        popup=f\"Tags: {row['tags']}, Title: {row['title']}\",  # Optional popup information\n",
    "    ).add_to(marker_cluster)\n",
    "\n",
    "# Display the map\n",
    "map_lyon\n",
    "\n",
    "# Optional: Save the map as an HTML file\n",
    "map_lyon.save(\"lyon_map_unclustered.html\")"
   ]
  },
  {
   "attachments": {},
   "cell_type": "markdown",
   "metadata": {},
   "source": [
    "## #3 Clustering data"
   ]
  },
  {
   "attachments": {},
   "cell_type": "markdown",
   "metadata": {},
   "source": [
    "To cluster the geo-located data from Lyon, we will apply multiple clustering techniques to identify areas of interest and patterns of activity.\n",
    "\n",
    "Our aim is to :\n",
    "\n",
    "- Identify dense regions of photo-taking activity, which may correspond to points of interest (e.g., landmarks, parks).\n",
    "- Highlight outliers or isolated points that may not belong to any significant cluster.\n",
    "- Compare different clustering techniques to determine the most effective one for this dataset."
   ]
  },
  {
   "cell_type": "code",
   "execution_count": 15,
   "metadata": {},
   "outputs": [],
   "source": [
    "clustered_data = parsed_data\n",
    "features = [\"lat\",\"long\"]"
   ]
  },
  {
   "attachments": {},
   "cell_type": "markdown",
   "metadata": {},
   "source": [
    "### a) K-means"
   ]
  },
  {
   "attachments": {},
   "cell_type": "markdown",
   "metadata": {},
   "source": [
    ">Why? Suitable for finding spherical clusters in data.<br>\n",
    "Input required: Number of clusters (k).<br>\n",
    "Steps: Apply K-Means with varying values of k to find the optimal number of clusters using the elbow method.\n"
   ]
  },
  {
   "attachments": {},
   "cell_type": "markdown",
   "metadata": {},
   "source": [
    "- Finding K with the elbow method"
   ]
  },
  {
   "cell_type": "code",
   "execution_count": 16,
   "metadata": {},
   "outputs": [
    {
     "name": "stderr",
     "output_type": "stream",
     "text": [
      "C:\\Users\\dlarrazmar\\AppData\\Local\\Temp\\ipykernel_15132\\3731107169.py:6: FutureWarning: The behavior of DataFrame concatenation with empty or all-NA entries is deprecated. In a future version, this will no longer exclude empty or all-NA columns when determining the result dtypes. To retain the old behavior, exclude the relevant entries before the concat operation.\n",
      "  ks_df = pd.concat([ks_df, new_row], ignore_index=True)\n"
     ]
    },
    {
     "data": {
      "text/plain": [
       "[<matplotlib.lines.Line2D at 0x23b8baf8820>]"
      ]
     },
     "execution_count": 16,
     "metadata": {},
     "output_type": "execute_result"
    },
    {
     "data": {
      "image/png": "[encoded data removed]",
      "text/plain": [
       "<Figure size 640x480 with 1 Axes>"
      ]
     },
     "metadata": {},
     "output_type": "display_data"
    }
   ],
   "source": [
    "ks_df = pd.DataFrame(columns=[\"k\", \"WCSS\"])\n",
    "for k in range(1,21):\n",
    "    kmeans = cl.KMeans(n_clusters=k, init='k-means++')\n",
    "    kmeans.fit(clustered_data[features])\n",
    "    new_row = pd.DataFrame({\"k\": [k], \"WCSS\": [kmeans.inertia_]})\n",
    "    ks_df = pd.concat([ks_df, new_row], ignore_index=True)\n",
    "\n",
    "plt.axis([1, 20, 0, 200])\n",
    "plt.xlabel(\"k\")\n",
    "plt.ylabel(\"WCSS\")\n",
    "plt.plot(ks_df[\"k\"], ks_df[\"WCSS\"], \"-xb\")"
   ]
  },
  {
   "attachments": {},
   "cell_type": "markdown",
   "metadata": {},
   "source": [
    "We observe that the best k from the elbow method is k = 5"
   ]
  },
  {
   "attachments": {},
   "cell_type": "markdown",
   "metadata": {},
   "source": [
    "- Clustering data"
   ]
  },
  {
   "cell_type": "code",
   "execution_count": 17,
   "metadata": {},
   "outputs": [],
   "source": [
    "# number of clusters \n",
    "k = 5 # set to optimal k found with elbow method\n",
    "# create a model\n",
    "kmeans = cl.KMeans(n_clusters=k, init='k-means++')\n",
    "# fit scaled data\n",
    "kmeans.fit(clustered_data[[\"lat\",\"long\"]])\n",
    "# Add labels to data\n",
    "K_mean_labels = kmeans.labels_\n",
    "clustered_data = clustered_data.join(pd.DataFrame({\"cluster kmeans\": K_mean_labels}))"
   ]
  },
  {
   "attachments": {},
   "cell_type": "markdown",
   "metadata": {},
   "source": [
    "- Visualizing results"
   ]
  },
  {
   "cell_type": "code",
   "execution_count": 18,
   "metadata": {},
   "outputs": [
    {
     "name": "stdout",
     "output_type": "stream",
     "text": [
      "Sum of squared distances: 24.90989404103747\n"
     ]
    },
    {
     "data": {
      "text/html": [
       "<div>\n",
       "<style scoped>\n",
       "    .dataframe tbody tr th:only-of-type {\n",
       "        vertical-align: middle;\n",
       "    }\n",
       "\n",
       "    .dataframe tbody tr th {\n",
       "        vertical-align: top;\n",
       "    }\n",
       "\n",
       "    .dataframe thead th {\n",
       "        text-align: right;\n",
       "    }\n",
       "</style>\n",
       "<table border=\"1\" class=\"dataframe\">\n",
       "  <thead>\n",
       "    <tr style=\"text-align: right;\">\n",
       "      <th></th>\n",
       "      <th>id</th>\n",
       "      <th>user</th>\n",
       "      <th>lat</th>\n",
       "      <th>long</th>\n",
       "      <th>tags</th>\n",
       "      <th>title</th>\n",
       "      <th>date_taken_minute</th>\n",
       "      <th>date_taken_hour</th>\n",
       "      <th>date_taken_day</th>\n",
       "      <th>date_taken_month</th>\n",
       "      <th>date_taken_year</th>\n",
       "      <th>cluster kmeans</th>\n",
       "    </tr>\n",
       "  </thead>\n",
       "  <tbody>\n",
       "    <tr>\n",
       "      <th>0</th>\n",
       "      <td>4395181099</td>\n",
       "      <td>30624617@N03</td>\n",
       "      <td>45.754858</td>\n",
       "      <td>4.821710</td>\n",
       "      <td>chair,lyon,rhne,chaise,rhnealpes</td>\n",
       "      <td>chaises avec vue</td>\n",
       "      <td>11</td>\n",
       "      <td>15</td>\n",
       "      <td>28</td>\n",
       "      <td>2</td>\n",
       "      <td>2010</td>\n",
       "      <td>3.0</td>\n",
       "    </tr>\n",
       "    <tr>\n",
       "      <th>1</th>\n",
       "      <td>4394748717</td>\n",
       "      <td>35853470@N00</td>\n",
       "      <td>45.753270</td>\n",
       "      <td>4.862953</td>\n",
       "      <td></td>\n",
       "      <td></td>\n",
       "      <td>51</td>\n",
       "      <td>17</td>\n",
       "      <td>28</td>\n",
       "      <td>2</td>\n",
       "      <td>2010</td>\n",
       "      <td>1.0</td>\n",
       "    </tr>\n",
       "    <tr>\n",
       "      <th>2</th>\n",
       "      <td>4394694699</td>\n",
       "      <td>11817998@N05</td>\n",
       "      <td>45.760655</td>\n",
       "      <td>4.846564</td>\n",
       "      <td>365,iphone</td>\n",
       "      <td>59365  r46 v103 b163</td>\n",
       "      <td>29</td>\n",
       "      <td>17</td>\n",
       "      <td>28</td>\n",
       "      <td>2</td>\n",
       "      <td>2010</td>\n",
       "      <td>3.0</td>\n",
       "    </tr>\n",
       "    <tr>\n",
       "      <th>3</th>\n",
       "      <td>4394803790</td>\n",
       "      <td>11545749@N06</td>\n",
       "      <td>45.784000</td>\n",
       "      <td>4.874072</td>\n",
       "      <td>nin,nineinchnails,gift,screening,toiou,avott</td>\n",
       "      <td>20100129 toiou avott lyon</td>\n",
       "      <td>15</td>\n",
       "      <td>20</td>\n",
       "      <td>28</td>\n",
       "      <td>1</td>\n",
       "      <td>2010</td>\n",
       "      <td>1.0</td>\n",
       "    </tr>\n",
       "    <tr>\n",
       "      <th>4</th>\n",
       "      <td>4394803554</td>\n",
       "      <td>11545749@N06</td>\n",
       "      <td>45.784000</td>\n",
       "      <td>4.874072</td>\n",
       "      <td>lyon,nin,nineinchnails,gift,screening,toiou,avott</td>\n",
       "      <td>20100128 toiou avott lyon</td>\n",
       "      <td>10</td>\n",
       "      <td>20</td>\n",
       "      <td>28</td>\n",
       "      <td>1</td>\n",
       "      <td>2010</td>\n",
       "      <td>1.0</td>\n",
       "    </tr>\n",
       "    <tr>\n",
       "      <th>5</th>\n",
       "      <td>4394566432</td>\n",
       "      <td>16197488@N06</td>\n",
       "      <td>45.755940</td>\n",
       "      <td>4.833158</td>\n",
       "      <td>poste,lyon,streetphotography,rue,gens</td>\n",
       "      <td></td>\n",
       "      <td>57</td>\n",
       "      <td>12</td>\n",
       "      <td>27</td>\n",
       "      <td>2</td>\n",
       "      <td>2010</td>\n",
       "      <td>3.0</td>\n",
       "    </tr>\n",
       "    <tr>\n",
       "      <th>6</th>\n",
       "      <td>4393799139</td>\n",
       "      <td>16197488@N06</td>\n",
       "      <td>45.754289</td>\n",
       "      <td>4.832257</td>\n",
       "      <td>lyon,streetphotography,rue,gens</td>\n",
       "      <td></td>\n",
       "      <td>8</td>\n",
       "      <td>11</td>\n",
       "      <td>27</td>\n",
       "      <td>2</td>\n",
       "      <td>2010</td>\n",
       "      <td>3.0</td>\n",
       "    </tr>\n",
       "    <tr>\n",
       "      <th>7</th>\n",
       "      <td>4394565970</td>\n",
       "      <td>16197488@N06</td>\n",
       "      <td>45.774662</td>\n",
       "      <td>4.834005</td>\n",
       "      <td>lyon,streetphotography,rue,montblanc,gens,mont...</td>\n",
       "      <td></td>\n",
       "      <td>23</td>\n",
       "      <td>10</td>\n",
       "      <td>27</td>\n",
       "      <td>2</td>\n",
       "      <td>2010</td>\n",
       "      <td>3.0</td>\n",
       "    </tr>\n",
       "    <tr>\n",
       "      <th>8</th>\n",
       "      <td>4392370105</td>\n",
       "      <td>47924539@N05</td>\n",
       "      <td>45.762328</td>\n",
       "      <td>4.827547</td>\n",
       "      <td>france,lyon,lesphotosdevoyage</td>\n",
       "      <td>courette lyonnaise</td>\n",
       "      <td>29</td>\n",
       "      <td>12</td>\n",
       "      <td>27</td>\n",
       "      <td>2</td>\n",
       "      <td>2010</td>\n",
       "      <td>3.0</td>\n",
       "    </tr>\n",
       "    <tr>\n",
       "      <th>9</th>\n",
       "      <td>4392367159</td>\n",
       "      <td>47924539@N05</td>\n",
       "      <td>45.762059</td>\n",
       "      <td>4.822654</td>\n",
       "      <td>france,lyon,fourvire,lesphotosdevoyage</td>\n",
       "      <td>fourvire</td>\n",
       "      <td>28</td>\n",
       "      <td>12</td>\n",
       "      <td>27</td>\n",
       "      <td>2</td>\n",
       "      <td>2010</td>\n",
       "      <td>3.0</td>\n",
       "    </tr>\n",
       "  </tbody>\n",
       "</table>\n",
       "</div>"
      ],
      "text/plain": [
       "           id          user        lat      long  \\\n",
       "0  4395181099  30624617@N03  45.754858  4.821710   \n",
       "1  4394748717  35853470@N00  45.753270  4.862953   \n",
       "2  4394694699  11817998@N05  45.760655  4.846564   \n",
       "3  4394803790  11545749@N06  45.784000  4.874072   \n",
       "4  4394803554  11545749@N06  45.784000  4.874072   \n",
       "5  4394566432  16197488@N06  45.755940  4.833158   \n",
       "6  4393799139  16197488@N06  45.754289  4.832257   \n",
       "7  4394565970  16197488@N06  45.774662  4.834005   \n",
       "8  4392370105  47924539@N05  45.762328  4.827547   \n",
       "9  4392367159  47924539@N05  45.762059  4.822654   \n",
       "\n",
       "                                                tags  \\\n",
       "0                   chair,lyon,rhne,chaise,rhnealpes   \n",
       "1                                                      \n",
       "2                                         365,iphone   \n",
       "3       nin,nineinchnails,gift,screening,toiou,avott   \n",
       "4  lyon,nin,nineinchnails,gift,screening,toiou,avott   \n",
       "5              poste,lyon,streetphotography,rue,gens   \n",
       "6                    lyon,streetphotography,rue,gens   \n",
       "7  lyon,streetphotography,rue,montblanc,gens,mont...   \n",
       "8                      france,lyon,lesphotosdevoyage   \n",
       "9             france,lyon,fourvire,lesphotosdevoyage   \n",
       "\n",
       "                       title  date_taken_minute  date_taken_hour  \\\n",
       "0           chaises avec vue                 11               15   \n",
       "1                                            51               17   \n",
       "2       59365  r46 v103 b163                 29               17   \n",
       "3  20100129 toiou avott lyon                 15               20   \n",
       "4  20100128 toiou avott lyon                 10               20   \n",
       "5                                            57               12   \n",
       "6                                             8               11   \n",
       "7                                            23               10   \n",
       "8         courette lyonnaise                 29               12   \n",
       "9                   fourvire                 28               12   \n",
       "\n",
       "   date_taken_day  date_taken_month  date_taken_year  cluster kmeans  \n",
       "0              28                 2             2010             3.0  \n",
       "1              28                 2             2010             1.0  \n",
       "2              28                 2             2010             3.0  \n",
       "3              28                 1             2010             1.0  \n",
       "4              28                 1             2010             1.0  \n",
       "5              27                 2             2010             3.0  \n",
       "6              27                 2             2010             3.0  \n",
       "7              27                 2             2010             3.0  \n",
       "8              27                 2             2010             3.0  \n",
       "9              27                 2             2010             3.0  "
      ]
     },
     "execution_count": 18,
     "metadata": {},
     "output_type": "execute_result"
    }
   ],
   "source": [
    "# Evaluate clustering\n",
    "inertia = kmeans.inertia_\n",
    "# sample_silhouette_values = silhouette_samples(clustered_data[features], K_mean_labels)\n",
    "# means_lst = []\n",
    "# for label in range(k):\n",
    "#     means_lst.append(sample_silhouette_values[K_mean_labels == label].mean())\n",
    "\n",
    "\n",
    "print(f\"Sum of squared distances: {kmeans.inertia_}\")\n",
    "# print(f\"Mean silouette scores for each cluster:\\n{means_lst}\")\n",
    "\n",
    "\n",
    "clustered_data.head(10)"
   ]
  },
  {
   "attachments": {},
   "cell_type": "markdown",
   "metadata": {},
   "source": [
    "### b) DBSCAN"
   ]
  },
  {
   "attachments": {},
   "cell_type": "markdown",
   "metadata": {},
   "source": [
    "- Clustering Data"
   ]
  },
  {
   "cell_type": "code",
   "execution_count": 19,
   "metadata": {},
   "outputs": [
    {
     "data": {
      "text/html": [
       "<style>#sk-container-id-1 {\n",
       "  /* Definition of color scheme common for light and dark mode */\n",
       "  --sklearn-color-text: black;\n",
       "  --sklearn-color-line: gray;\n",
       "  /* Definition of color scheme for unfitted estimators */\n",
       "  --sklearn-color-unfitted-level-0: #fff5e6;\n",
       "  --sklearn-color-unfitted-level-1: #f6e4d2;\n",
       "  --sklearn-color-unfitted-level-2: #ffe0b3;\n",
       "  --sklearn-color-unfitted-level-3: chocolate;\n",
       "  /* Definition of color scheme for fitted estimators */\n",
       "  --sklearn-color-fitted-level-0: #f0f8ff;\n",
       "  --sklearn-color-fitted-level-1: #d4ebff;\n",
       "  --sklearn-color-fitted-level-2: #b3dbfd;\n",
       "  --sklearn-color-fitted-level-3: cornflowerblue;\n",
       "\n",
       "  /* Specific color for light theme */\n",
       "  --sklearn-color-text-on-default-background: var(--sg-text-color, var(--theme-code-foreground, var(--jp-content-font-color1, black)));\n",
       "  --sklearn-color-background: var(--sg-background-color, var(--theme-background, var(--jp-layout-color0, white)));\n",
       "  --sklearn-color-border-box: var(--sg-text-color, var(--theme-code-foreground, var(--jp-content-font-color1, black)));\n",
       "  --sklearn-color-icon: #696969;\n",
       "\n",
       "  @media (prefers-color-scheme: dark) {\n",
       "    /* Redefinition of color scheme for dark theme */\n",
       "    --sklearn-color-text-on-default-background: var(--sg-text-color, var(--theme-code-foreground, var(--jp-content-font-color1, white)));\n",
       "    --sklearn-color-background: var(--sg-background-color, var(--theme-background, var(--jp-layout-color0, #111)));\n",
       "    --sklearn-color-border-box: var(--sg-text-color, var(--theme-code-foreground, var(--jp-content-font-color1, white)));\n",
       "    --sklearn-color-icon: #878787;\n",
       "  }\n",
       "}\n",
       "\n",
       "#sk-container-id-1 {\n",
       "  color: var(--sklearn-color-text);\n",
       "}\n",
       "\n",
       "#sk-container-id-1 pre {\n",
       "  padding: 0;\n",
       "}\n",
       "\n",
       "#sk-container-id-1 input.sk-hidden--visually {\n",
       "  border: 0;\n",
       "  clip: rect(1px 1px 1px 1px);\n",
       "  clip: rect(1px, 1px, 1px, 1px);\n",
       "  height: 1px;\n",
       "  margin: -1px;\n",
       "  overflow: hidden;\n",
       "  padding: 0;\n",
       "  position: absolute;\n",
       "  width: 1px;\n",
       "}\n",
       "\n",
       "#sk-container-id-1 div.sk-dashed-wrapped {\n",
       "  border: 1px dashed var(--sklearn-color-line);\n",
       "  margin: 0 0.4em 0.5em 0.4em;\n",
       "  box-sizing: border-box;\n",
       "  padding-bottom: 0.4em;\n",
       "  background-color: var(--sklearn-color-background);\n",
       "}\n",
       "\n",
       "#sk-container-id-1 div.sk-container {\n",
       "  /* jupyter's `normalize.less` sets `[hidden] { display: none; }`\n",
       "     but bootstrap.min.css set `[hidden] { display: none !important; }`\n",
       "     so we also need the `!important` here to be able to override the\n",
       "     default hidden behavior on the sphinx rendered scikit-learn.org.\n",
       "     See: https://github.com/scikit-learn/scikit-learn/issues/21755 */\n",
       "  display: inline-block !important;\n",
       "  position: relative;\n",
       "}\n",
       "\n",
       "#sk-container-id-1 div.sk-text-repr-fallback {\n",
       "  display: none;\n",
       "}\n",
       "\n",
       "div.sk-parallel-item,\n",
       "div.sk-serial,\n",
       "div.sk-item {\n",
       "  /* draw centered vertical line to link estimators */\n",
       "  background-image: linear-gradient(var(--sklearn-color-text-on-default-background), var(--sklearn-color-text-on-default-background));\n",
       "  background-size: 2px 100%;\n",
       "  background-repeat: no-repeat;\n",
       "  background-position: center center;\n",
       "}\n",
       "\n",
       "/* Parallel-specific style estimator block */\n",
       "\n",
       "#sk-container-id-1 div.sk-parallel-item::after {\n",
       "  content: \"\";\n",
       "  width: 100%;\n",
       "  border-bottom: 2px solid var(--sklearn-color-text-on-default-background);\n",
       "  flex-grow: 1;\n",
       "}\n",
       "\n",
       "#sk-container-id-1 div.sk-parallel {\n",
       "  display: flex;\n",
       "  align-items: stretch;\n",
       "  justify-content: center;\n",
       "  background-color: var(--sklearn-color-background);\n",
       "  position: relative;\n",
       "}\n",
       "\n",
       "#sk-container-id-1 div.sk-parallel-item {\n",
       "  display: flex;\n",
       "  flex-direction: column;\n",
       "}\n",
       "\n",
       "#sk-container-id-1 div.sk-parallel-item:first-child::after {\n",
       "  align-self: flex-end;\n",
       "  width: 50%;\n",
       "}\n",
       "\n",
       "#sk-container-id-1 div.sk-parallel-item:last-child::after {\n",
       "  align-self: flex-start;\n",
       "  width: 50%;\n",
       "}\n",
       "\n",
       "#sk-container-id-1 div.sk-parallel-item:only-child::after {\n",
       "  width: 0;\n",
       "}\n",
       "\n",
       "/* Serial-specific style estimator block */\n",
       "\n",
       "#sk-container-id-1 div.sk-serial {\n",
       "  display: flex;\n",
       "  flex-direction: column;\n",
       "  align-items: center;\n",
       "  background-color: var(--sklearn-color-background);\n",
       "  padding-right: 1em;\n",
       "  padding-left: 1em;\n",
       "}\n",
       "\n",
       "\n",
       "/* Toggleable style: style used for estimator/Pipeline/ColumnTransformer box that is\n",
       "clickable and can be expanded/collapsed.\n",
       "- Pipeline and ColumnTransformer use this feature and define the default style\n",
       "- Estimators will overwrite some part of the style using the `sk-estimator` class\n",
       "*/\n",
       "\n",
       "/* Pipeline and ColumnTransformer style (default) */\n",
       "\n",
       "#sk-container-id-1 div.sk-toggleable {\n",
       "  /* Default theme specific background. It is overwritten whether we have a\n",
       "  specific estimator or a Pipeline/ColumnTransformer */\n",
       "  background-color: var(--sklearn-color-background);\n",
       "}\n",
       "\n",
       "/* Toggleable label */\n",
       "#sk-container-id-1 label.sk-toggleable__label {\n",
       "  cursor: pointer;\n",
       "  display: block;\n",
       "  width: 100%;\n",
       "  margin-bottom: 0;\n",
       "  padding: 0.5em;\n",
       "  box-sizing: border-box;\n",
       "  text-align: center;\n",
       "}\n",
       "\n",
       "#sk-container-id-1 label.sk-toggleable__label-arrow:before {\n",
       "  /* Arrow on the left of the label */\n",
       "  content: \"▸\";\n",
       "  float: left;\n",
       "  margin-right: 0.25em;\n",
       "  color: var(--sklearn-color-icon);\n",
       "}\n",
       "\n",
       "#sk-container-id-1 label.sk-toggleable__label-arrow:hover:before {\n",
       "  color: var(--sklearn-color-text);\n",
       "}\n",
       "\n",
       "/* Toggleable content - dropdown */\n",
       "\n",
       "#sk-container-id-1 div.sk-toggleable__content {\n",
       "  max-height: 0;\n",
       "  max-width: 0;\n",
       "  overflow: hidden;\n",
       "  text-align: left;\n",
       "  /* unfitted */\n",
       "  background-color: var(--sklearn-color-unfitted-level-0);\n",
       "}\n",
       "\n",
       "#sk-container-id-1 div.sk-toggleable__content.fitted {\n",
       "  /* fitted */\n",
       "  background-color: var(--sklearn-color-fitted-level-0);\n",
       "}\n",
       "\n",
       "#sk-container-id-1 div.sk-toggleable__content pre {\n",
       "  margin: 0.2em;\n",
       "  border-radius: 0.25em;\n",
       "  color: var(--sklearn-color-text);\n",
       "  /* unfitted */\n",
       "  background-color: var(--sklearn-color-unfitted-level-0);\n",
       "}\n",
       "\n",
       "#sk-container-id-1 div.sk-toggleable__content.fitted pre {\n",
       "  /* unfitted */\n",
       "  background-color: var(--sklearn-color-fitted-level-0);\n",
       "}\n",
       "\n",
       "#sk-container-id-1 input.sk-toggleable__control:checked~div.sk-toggleable__content {\n",
       "  /* Expand drop-down */\n",
       "  max-height: 200px;\n",
       "  max-width: 100%;\n",
       "  overflow: auto;\n",
       "}\n",
       "\n",
       "#sk-container-id-1 input.sk-toggleable__control:checked~label.sk-toggleable__label-arrow:before {\n",
       "  content: \"▾\";\n",
       "}\n",
       "\n",
       "/* Pipeline/ColumnTransformer-specific style */\n",
       "\n",
       "#sk-container-id-1 div.sk-label input.sk-toggleable__control:checked~label.sk-toggleable__label {\n",
       "  color: var(--sklearn-color-text);\n",
       "  background-color: var(--sklearn-color-unfitted-level-2);\n",
       "}\n",
       "\n",
       "#sk-container-id-1 div.sk-label.fitted input.sk-toggleable__control:checked~label.sk-toggleable__label {\n",
       "  background-color: var(--sklearn-color-fitted-level-2);\n",
       "}\n",
       "\n",
       "/* Estimator-specific style */\n",
       "\n",
       "/* Colorize estimator box */\n",
       "#sk-container-id-1 div.sk-estimator input.sk-toggleable__control:checked~label.sk-toggleable__label {\n",
       "  /* unfitted */\n",
       "  background-color: var(--sklearn-color-unfitted-level-2);\n",
       "}\n",
       "\n",
       "#sk-container-id-1 div.sk-estimator.fitted input.sk-toggleable__control:checked~label.sk-toggleable__label {\n",
       "  /* fitted */\n",
       "  background-color: var(--sklearn-color-fitted-level-2);\n",
       "}\n",
       "\n",
       "#sk-container-id-1 div.sk-label label.sk-toggleable__label,\n",
       "#sk-container-id-1 div.sk-label label {\n",
       "  /* The background is the default theme color */\n",
       "  color: var(--sklearn-color-text-on-default-background);\n",
       "}\n",
       "\n",
       "/* On hover, darken the color of the background */\n",
       "#sk-container-id-1 div.sk-label:hover label.sk-toggleable__label {\n",
       "  color: var(--sklearn-color-text);\n",
       "  background-color: var(--sklearn-color-unfitted-level-2);\n",
       "}\n",
       "\n",
       "/* Label box, darken color on hover, fitted */\n",
       "#sk-container-id-1 div.sk-label.fitted:hover label.sk-toggleable__label.fitted {\n",
       "  color: var(--sklearn-color-text);\n",
       "  background-color: var(--sklearn-color-fitted-level-2);\n",
       "}\n",
       "\n",
       "/* Estimator label */\n",
       "\n",
       "#sk-container-id-1 div.sk-label label {\n",
       "  font-family: monospace;\n",
       "  font-weight: bold;\n",
       "  display: inline-block;\n",
       "  line-height: 1.2em;\n",
       "}\n",
       "\n",
       "#sk-container-id-1 div.sk-label-container {\n",
       "  text-align: center;\n",
       "}\n",
       "\n",
       "/* Estimator-specific */\n",
       "#sk-container-id-1 div.sk-estimator {\n",
       "  font-family: monospace;\n",
       "  border: 1px dotted var(--sklearn-color-border-box);\n",
       "  border-radius: 0.25em;\n",
       "  box-sizing: border-box;\n",
       "  margin-bottom: 0.5em;\n",
       "  /* unfitted */\n",
       "  background-color: var(--sklearn-color-unfitted-level-0);\n",
       "}\n",
       "\n",
       "#sk-container-id-1 div.sk-estimator.fitted {\n",
       "  /* fitted */\n",
       "  background-color: var(--sklearn-color-fitted-level-0);\n",
       "}\n",
       "\n",
       "/* on hover */\n",
       "#sk-container-id-1 div.sk-estimator:hover {\n",
       "  /* unfitted */\n",
       "  background-color: var(--sklearn-color-unfitted-level-2);\n",
       "}\n",
       "\n",
       "#sk-container-id-1 div.sk-estimator.fitted:hover {\n",
       "  /* fitted */\n",
       "  background-color: var(--sklearn-color-fitted-level-2);\n",
       "}\n",
       "\n",
       "/* Specification for estimator info (e.g. \"i\" and \"?\") */\n",
       "\n",
       "/* Common style for \"i\" and \"?\" */\n",
       "\n",
       ".sk-estimator-doc-link,\n",
       "a:link.sk-estimator-doc-link,\n",
       "a:visited.sk-estimator-doc-link {\n",
       "  float: right;\n",
       "  font-size: smaller;\n",
       "  line-height: 1em;\n",
       "  font-family: monospace;\n",
       "  background-color: var(--sklearn-color-background);\n",
       "  border-radius: 1em;\n",
       "  height: 1em;\n",
       "  width: 1em;\n",
       "  text-decoration: none !important;\n",
       "  margin-left: 1ex;\n",
       "  /* unfitted */\n",
       "  border: var(--sklearn-color-unfitted-level-1) 1pt solid;\n",
       "  color: var(--sklearn-color-unfitted-level-1);\n",
       "}\n",
       "\n",
       ".sk-estimator-doc-link.fitted,\n",
       "a:link.sk-estimator-doc-link.fitted,\n",
       "a:visited.sk-estimator-doc-link.fitted {\n",
       "  /* fitted */\n",
       "  border: var(--sklearn-color-fitted-level-1) 1pt solid;\n",
       "  color: var(--sklearn-color-fitted-level-1);\n",
       "}\n",
       "\n",
       "/* On hover */\n",
       "div.sk-estimator:hover .sk-estimator-doc-link:hover,\n",
       ".sk-estimator-doc-link:hover,\n",
       "div.sk-label-container:hover .sk-estimator-doc-link:hover,\n",
       ".sk-estimator-doc-link:hover {\n",
       "  /* unfitted */\n",
       "  background-color: var(--sklearn-color-unfitted-level-3);\n",
       "  color: var(--sklearn-color-background);\n",
       "  text-decoration: none;\n",
       "}\n",
       "\n",
       "div.sk-estimator.fitted:hover .sk-estimator-doc-link.fitted:hover,\n",
       ".sk-estimator-doc-link.fitted:hover,\n",
       "div.sk-label-container:hover .sk-estimator-doc-link.fitted:hover,\n",
       ".sk-estimator-doc-link.fitted:hover {\n",
       "  /* fitted */\n",
       "  background-color: var(--sklearn-color-fitted-level-3);\n",
       "  color: var(--sklearn-color-background);\n",
       "  text-decoration: none;\n",
       "}\n",
       "\n",
       "/* Span, style for the box shown on hovering the info icon */\n",
       ".sk-estimator-doc-link span {\n",
       "  display: none;\n",
       "  z-index: 9999;\n",
       "  position: relative;\n",
       "  font-weight: normal;\n",
       "  right: .2ex;\n",
       "  padding: .5ex;\n",
       "  margin: .5ex;\n",
       "  width: min-content;\n",
       "  min-width: 20ex;\n",
       "  max-width: 50ex;\n",
       "  color: var(--sklearn-color-text);\n",
       "  box-shadow: 2pt 2pt 4pt #999;\n",
       "  /* unfitted */\n",
       "  background: var(--sklearn-color-unfitted-level-0);\n",
       "  border: .5pt solid var(--sklearn-color-unfitted-level-3);\n",
       "}\n",
       "\n",
       ".sk-estimator-doc-link.fitted span {\n",
       "  /* fitted */\n",
       "  background: var(--sklearn-color-fitted-level-0);\n",
       "  border: var(--sklearn-color-fitted-level-3);\n",
       "}\n",
       "\n",
       ".sk-estimator-doc-link:hover span {\n",
       "  display: block;\n",
       "}\n",
       "\n",
       "/* \"?\"-specific style due to the `<a>` HTML tag */\n",
       "\n",
       "#sk-container-id-1 a.estimator_doc_link {\n",
       "  float: right;\n",
       "  font-size: 1rem;\n",
       "  line-height: 1em;\n",
       "  font-family: monospace;\n",
       "  background-color: var(--sklearn-color-background);\n",
       "  border-radius: 1rem;\n",
       "  height: 1rem;\n",
       "  width: 1rem;\n",
       "  text-decoration: none;\n",
       "  /* unfitted */\n",
       "  color: var(--sklearn-color-unfitted-level-1);\n",
       "  border: var(--sklearn-color-unfitted-level-1) 1pt solid;\n",
       "}\n",
       "\n",
       "#sk-container-id-1 a.estimator_doc_link.fitted {\n",
       "  /* fitted */\n",
       "  border: var(--sklearn-color-fitted-level-1) 1pt solid;\n",
       "  color: var(--sklearn-color-fitted-level-1);\n",
       "}\n",
       "\n",
       "/* On hover */\n",
       "#sk-container-id-1 a.estimator_doc_link:hover {\n",
       "  /* unfitted */\n",
       "  background-color: var(--sklearn-color-unfitted-level-3);\n",
       "  color: var(--sklearn-color-background);\n",
       "  text-decoration: none;\n",
       "}\n",
       "\n",
       "#sk-container-id-1 a.estimator_doc_link.fitted:hover {\n",
       "  /* fitted */\n",
       "  background-color: var(--sklearn-color-fitted-level-3);\n",
       "}\n",
       "</style><div id=\"sk-container-id-1\" class=\"sk-top-container\"><div class=\"sk-text-repr-fallback\"><pre>DBSCAN(eps=3.924030764401192e-06, metric=&#x27;haversine&#x27;)</pre><b>In a Jupyter environment, please rerun this cell to show the HTML representation or trust the notebook. <br />On GitHub, the HTML representation is unable to render, please try loading this page with nbviewer.org.</b></div><div class=\"sk-container\" hidden><div class=\"sk-item\"><div class=\"sk-estimator fitted sk-toggleable\"><input class=\"sk-toggleable__control sk-hidden--visually\" id=\"sk-estimator-id-1\" type=\"checkbox\" checked><label for=\"sk-estimator-id-1\" class=\"sk-toggleable__label fitted sk-toggleable__label-arrow fitted\">&nbsp;&nbsp;DBSCAN<a class=\"sk-estimator-doc-link fitted\" rel=\"noreferrer\" target=\"_blank\" href=\"https://scikit-learn.org/1.5/modules/generated/sklearn.cluster.DBSCAN.html\">?<span>Documentation for DBSCAN</span></a><span class=\"sk-estimator-doc-link fitted\">i<span>Fitted</span></span></label><div class=\"sk-toggleable__content fitted\"><pre>DBSCAN(eps=3.924030764401192e-06, metric=&#x27;haversine&#x27;)</pre></div> </div></div></div></div>"
      ],
      "text/plain": [
       "DBSCAN(eps=3.924030764401192e-06, metric='haversine')"
      ]
     },
     "execution_count": 19,
     "metadata": {},
     "output_type": "execute_result"
    }
   ],
   "source": [
    "meters = 25\n",
    "eps = meters / 6371 / 1000 # eps in kilometers\n",
    "# Initialize DBSCAN with Haversine metric\n",
    "dbscan = cl.DBSCAN(eps=eps, min_samples=5, metric='haversine')\n",
    "dbscan.fit(clustered_data[features])"
   ]
  },
  {
   "cell_type": "code",
   "execution_count": 20,
   "metadata": {},
   "outputs": [
    {
     "name": "stdout",
     "output_type": "stream",
     "text": [
      "Cluster labels: [-1 -1  0 ... -1 -1 -1]\n",
      "Core sample indices: [     2     11     12 ... 155502 155503 155505]\n",
      "Core sample components:\n",
      " [[45.760655  4.846564]\n",
      " [45.837545  4.82613 ]\n",
      " [45.837545  4.82613 ]\n",
      " ...\n",
      " [45.76445   4.828324]\n",
      " [45.77095   4.8329  ]\n",
      " [45.771893  4.833115]]\n"
     ]
    }
   ],
   "source": [
    "# Access results\n",
    "DBSCAN_labels = dbscan.labels_\n",
    "core_samples = dbscan.core_sample_indices_\n",
    "components = dbscan.components_\n",
    "\n",
    "# add labels to data\n",
    "clustered_data = clustered_data.join(pd.DataFrame({\"cluster_DBSCAN\": DBSCAN_labels}))\n",
    "clustered_data = clustered_data[clustered_data.cluster_DBSCAN != -1]"
   ]
  },
  {
   "attachments": {},
   "cell_type": "markdown",
   "metadata": {},
   "source": [
    "- Visualizing results"
   ]
  },
  {
   "cell_type": "code",
   "execution_count": null,
   "metadata": {},
   "outputs": [],
   "source": [
    "# Print the results\n",
    "print(\"Cluster labels:\", DBSCAN_labels)\n",
    "print(\"Core sample indices:\", core_samples)\n",
    "print(\"Core sample components:\\n\", components)"
   ]
  },
  {
   "attachments": {},
   "cell_type": "markdown",
   "metadata": {},
   "source": [
    "### c) Hierarchical Clustering"
   ]
  },
  {
   "attachments": {},
   "cell_type": "markdown",
   "metadata": {},
   "source": [
    ">Why? Provides a dendrogram to visualize the hierarchy of clusters.<br>\n",
    "Input required: No predefined number of clusters; can be adjusted by cutting the dendrogram.<br>\n",
    "Steps: Compute a linkage matrix using ward or other linkage methods. Cut the dendrogram to form clusters."
   ]
  },
  {
   "cell_type": "code",
   "execution_count": null,
   "metadata": {},
   "outputs": [],
   "source": [
    "# 1. Préparation des données\n",
    "geo_data = parsed_data[features]\n",
    "\n",
    "# Sous-échantillonnage des données (garder n points aléatoires pour éviter les blocages)\n",
    "geo_data_sampled = geo_data.sample(n=10000, random_state=42)\n",
    "\n",
    "# 2. Création de la matrice de linkage avec les données échantillonnées\n",
    "from scipy.cluster.hierarchy import linkage, dendrogram, fcluster\n",
    "import matplotlib.pyplot as plt\n",
    "\n",
    "linkage_matrix = linkage(geo_data_sampled, method='ward')\n",
    "\n",
    "# 3. Visualisation du dendrogramme\n",
    "plt.figure(figsize=(12, 8))\n",
    "dendrogram(linkage_matrix, truncate_mode='level', p=5)  # Truncate pour simplifier la visualisation\n",
    "plt.title(\"Dendrogramme (Clustering Hiérarchique - Échantillonné)\")\n",
    "plt.xlabel(\"Points de données\")\n",
    "plt.ylabel(\"Distance\")\n",
    "plt.show()\n",
    "\n",
    "# 4. Découpage du dendrogramme pour obtenir les clusters\n",
    "num_clusters = 5\n",
    "sampled_clusters = fcluster(linkage_matrix, t=num_clusters, criterion='maxclust')\n",
    "\n",
    "# Ajouter les clusters à l'échantillon pour analyse\n",
    "geo_data_sampled['hierarchical_cluster'] = sampled_clusters"
   ]
  },
  {
   "attachments": {},
   "cell_type": "markdown",
   "metadata": {},
   "source": [
    "- Visualizing results"
   ]
  },
  {
   "cell_type": "code",
   "execution_count": null,
   "metadata": {},
   "outputs": [],
   "source": [
    "plt.figure(figsize=(10, 8))\n",
    "plt.scatter(geo_data_sampled['long'], geo_data_sampled['lat'], c=geo_data_sampled['hierarchical_cluster'], cmap='tab10', s=50)\n",
    "plt.title(f\"Clustering Hiérarchique (Nombre de clusters: {num_clusters})\")\n",
    "plt.xlabel(\"Longitude\")\n",
    "plt.ylabel(\"Latitude\")\n",
    "plt.grid()\n",
    "plt.show()"
   ]
  }
 ],
 "metadata": {
  "kernelspec": {
   "display_name": "dataMiningEnv",
   "language": "python",
   "name": "python3"
  },
  "language_info": {
   "codemirror_mode": {
    "name": "ipython",
    "version": 3
   },
   "file_extension": ".py",
   "mimetype": "text/x-python",
   "name": "python",
   "nbconvert_exporter": "python",
   "pygments_lexer": "ipython3",
   "version": "3.9.9"
  }
 },
 "nbformat": 4,
 "nbformat_minor": 2
}
